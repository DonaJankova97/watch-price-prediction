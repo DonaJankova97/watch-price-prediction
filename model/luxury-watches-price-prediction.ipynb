{
 "cells": [
  {
   "cell_type": "code",
   "execution_count": 1,
   "id": "1f30cf87",
   "metadata": {
    "execution": {
     "iopub.execute_input": "2023-03-11T13:04:14.132439Z",
     "iopub.status.busy": "2023-03-11T13:04:14.131634Z",
     "iopub.status.idle": "2023-03-11T13:04:15.556009Z",
     "shell.execute_reply": "2023-03-11T13:04:15.554748Z"
    },
    "papermill": {
     "duration": 1.433144,
     "end_time": "2023-03-11T13:04:15.558817",
     "exception": false,
     "start_time": "2023-03-11T13:04:14.125673",
     "status": "completed"
    },
    "tags": [],
    "ExecuteTime": {
     "end_time": "2023-12-26T21:31:21.787058926Z",
     "start_time": "2023-12-26T21:31:21.161009665Z"
    }
   },
   "outputs": [],
   "source": [
    "import numpy as np \n",
    "import pandas as pd\n",
    "from sklearn.pipeline import Pipeline\n",
    "from sklearn.compose import ColumnTransformer\n",
    "from sklearn.model_selection import train_test_split\n",
    "from sklearn.linear_model import LinearRegression\n",
    "from sklearn.preprocessing import StandardScaler\n",
    "from sklearn.preprocessing import FunctionTransformer\n",
    "from sklearn.preprocessing import OneHotEncoder, MinMaxScaler\n",
    "from sklearn.impute import SimpleImputer\n",
    "from sklearn.tree import DecisionTreeRegressor\n",
    "from sklearn.ensemble import RandomForestRegressor, ExtraTreesRegressor\n",
    "from sklearn.feature_selection import SelectPercentile, chi2\n",
    "import joblib"
   ]
  },
  {
   "cell_type": "code",
   "execution_count": 2,
   "outputs": [
    {
     "data": {
      "text/plain": "                   Brand              Model    Case Material   Strap Material  \\\n0                  Rolex         Submariner  Stainless Steel  Stainless Steel   \n1                  Omega          Seamaster         Titanium           Rubber   \n2              Tag Heuer            Carrera  Stainless Steel          Leather   \n3              Breitling          Navitimer  Stainless Steel  Stainless Steel   \n4                Cartier          Tank Solo  Stainless Steel          Leather   \n..                   ...                ...              ...              ...   \n502              Breguet          Classique    18k Rose Gold          Leather   \n503            Blancpain      Fifty Fathoms  Stainless Steel           Fabric   \n504             Longines  Master Collection  Stainless Steel          Leather   \n505  Vacheron Constantin           Overseas  Stainless Steel  Stainless Steel   \n506  Frederique Constant           Classics  Stainless Steel          Leather   \n\n    Movement Type Water Resistance  Case Diameter (mm)  Case Thickness (mm)  \\\n0       Automatic       300 meters                40.0                13.00   \n1       Automatic       600 meters                43.5                14.47   \n2       Automatic       100 meters                41.0                13.00   \n3       Automatic        30 meters                43.0                14.25   \n4          Quartz        30 meters                31.0                 6.05   \n..            ...              ...                 ...                  ...   \n502     Automatic        30 meters                38.5                 8.25   \n503     Automatic       300 meters                45.0                15.50   \n504     Automatic        30 meters                38.5                 9.70   \n505     Automatic       150 meters                41.5                11.00   \n506     Automatic        50 meters                40.0                10.60   \n\n     Band Width (mm) Dial Color Crystal Material Complications Power Reserve  \\\n0               20.0      Black         Sapphire          Date      48 hours   \n1               21.0       Blue         Sapphire          Date      60 hours   \n2               20.0      White         Sapphire   Chronograph      42 hours   \n3               22.0      Black         Sapphire   Chronograph      70 hours   \n4               20.0     Silver         Sapphire           NaN           NaN   \n..               ...        ...              ...           ...           ...   \n502             20.0      White         Sapphire          Date      38 hours   \n503             23.0      Black         Sapphire          Date     120 hours   \n504             20.0       Blue         Sapphire          Date      64 hours   \n505             22.0       Blue         Sapphire          Date      40 hours   \n506             20.0     Silver         Sapphire          Date      38 hours   \n\n    Price (USD)  \n0         9,500  \n1         5,800  \n2         4,200  \n3         7,900  \n4         2,800  \n..          ...  \n502      21,500  \n503      13,500  \n504       1,800  \n505      19,000  \n506       1,200  \n\n[507 rows x 14 columns]",
      "text/html": "<div>\n<style scoped>\n    .dataframe tbody tr th:only-of-type {\n        vertical-align: middle;\n    }\n\n    .dataframe tbody tr th {\n        vertical-align: top;\n    }\n\n    .dataframe thead th {\n        text-align: right;\n    }\n</style>\n<table border=\"1\" class=\"dataframe\">\n  <thead>\n    <tr style=\"text-align: right;\">\n      <th></th>\n      <th>Brand</th>\n      <th>Model</th>\n      <th>Case Material</th>\n      <th>Strap Material</th>\n      <th>Movement Type</th>\n      <th>Water Resistance</th>\n      <th>Case Diameter (mm)</th>\n      <th>Case Thickness (mm)</th>\n      <th>Band Width (mm)</th>\n      <th>Dial Color</th>\n      <th>Crystal Material</th>\n      <th>Complications</th>\n      <th>Power Reserve</th>\n      <th>Price (USD)</th>\n    </tr>\n  </thead>\n  <tbody>\n    <tr>\n      <th>0</th>\n      <td>Rolex</td>\n      <td>Submariner</td>\n      <td>Stainless Steel</td>\n      <td>Stainless Steel</td>\n      <td>Automatic</td>\n      <td>300 meters</td>\n      <td>40.0</td>\n      <td>13.00</td>\n      <td>20.0</td>\n      <td>Black</td>\n      <td>Sapphire</td>\n      <td>Date</td>\n      <td>48 hours</td>\n      <td>9,500</td>\n    </tr>\n    <tr>\n      <th>1</th>\n      <td>Omega</td>\n      <td>Seamaster</td>\n      <td>Titanium</td>\n      <td>Rubber</td>\n      <td>Automatic</td>\n      <td>600 meters</td>\n      <td>43.5</td>\n      <td>14.47</td>\n      <td>21.0</td>\n      <td>Blue</td>\n      <td>Sapphire</td>\n      <td>Date</td>\n      <td>60 hours</td>\n      <td>5,800</td>\n    </tr>\n    <tr>\n      <th>2</th>\n      <td>Tag Heuer</td>\n      <td>Carrera</td>\n      <td>Stainless Steel</td>\n      <td>Leather</td>\n      <td>Automatic</td>\n      <td>100 meters</td>\n      <td>41.0</td>\n      <td>13.00</td>\n      <td>20.0</td>\n      <td>White</td>\n      <td>Sapphire</td>\n      <td>Chronograph</td>\n      <td>42 hours</td>\n      <td>4,200</td>\n    </tr>\n    <tr>\n      <th>3</th>\n      <td>Breitling</td>\n      <td>Navitimer</td>\n      <td>Stainless Steel</td>\n      <td>Stainless Steel</td>\n      <td>Automatic</td>\n      <td>30 meters</td>\n      <td>43.0</td>\n      <td>14.25</td>\n      <td>22.0</td>\n      <td>Black</td>\n      <td>Sapphire</td>\n      <td>Chronograph</td>\n      <td>70 hours</td>\n      <td>7,900</td>\n    </tr>\n    <tr>\n      <th>4</th>\n      <td>Cartier</td>\n      <td>Tank Solo</td>\n      <td>Stainless Steel</td>\n      <td>Leather</td>\n      <td>Quartz</td>\n      <td>30 meters</td>\n      <td>31.0</td>\n      <td>6.05</td>\n      <td>20.0</td>\n      <td>Silver</td>\n      <td>Sapphire</td>\n      <td>NaN</td>\n      <td>NaN</td>\n      <td>2,800</td>\n    </tr>\n    <tr>\n      <th>...</th>\n      <td>...</td>\n      <td>...</td>\n      <td>...</td>\n      <td>...</td>\n      <td>...</td>\n      <td>...</td>\n      <td>...</td>\n      <td>...</td>\n      <td>...</td>\n      <td>...</td>\n      <td>...</td>\n      <td>...</td>\n      <td>...</td>\n      <td>...</td>\n    </tr>\n    <tr>\n      <th>502</th>\n      <td>Breguet</td>\n      <td>Classique</td>\n      <td>18k Rose Gold</td>\n      <td>Leather</td>\n      <td>Automatic</td>\n      <td>30 meters</td>\n      <td>38.5</td>\n      <td>8.25</td>\n      <td>20.0</td>\n      <td>White</td>\n      <td>Sapphire</td>\n      <td>Date</td>\n      <td>38 hours</td>\n      <td>21,500</td>\n    </tr>\n    <tr>\n      <th>503</th>\n      <td>Blancpain</td>\n      <td>Fifty Fathoms</td>\n      <td>Stainless Steel</td>\n      <td>Fabric</td>\n      <td>Automatic</td>\n      <td>300 meters</td>\n      <td>45.0</td>\n      <td>15.50</td>\n      <td>23.0</td>\n      <td>Black</td>\n      <td>Sapphire</td>\n      <td>Date</td>\n      <td>120 hours</td>\n      <td>13,500</td>\n    </tr>\n    <tr>\n      <th>504</th>\n      <td>Longines</td>\n      <td>Master Collection</td>\n      <td>Stainless Steel</td>\n      <td>Leather</td>\n      <td>Automatic</td>\n      <td>30 meters</td>\n      <td>38.5</td>\n      <td>9.70</td>\n      <td>20.0</td>\n      <td>Blue</td>\n      <td>Sapphire</td>\n      <td>Date</td>\n      <td>64 hours</td>\n      <td>1,800</td>\n    </tr>\n    <tr>\n      <th>505</th>\n      <td>Vacheron Constantin</td>\n      <td>Overseas</td>\n      <td>Stainless Steel</td>\n      <td>Stainless Steel</td>\n      <td>Automatic</td>\n      <td>150 meters</td>\n      <td>41.5</td>\n      <td>11.00</td>\n      <td>22.0</td>\n      <td>Blue</td>\n      <td>Sapphire</td>\n      <td>Date</td>\n      <td>40 hours</td>\n      <td>19,000</td>\n    </tr>\n    <tr>\n      <th>506</th>\n      <td>Frederique Constant</td>\n      <td>Classics</td>\n      <td>Stainless Steel</td>\n      <td>Leather</td>\n      <td>Automatic</td>\n      <td>50 meters</td>\n      <td>40.0</td>\n      <td>10.60</td>\n      <td>20.0</td>\n      <td>Silver</td>\n      <td>Sapphire</td>\n      <td>Date</td>\n      <td>38 hours</td>\n      <td>1,200</td>\n    </tr>\n  </tbody>\n</table>\n<p>507 rows × 14 columns</p>\n</div>"
     },
     "execution_count": 2,
     "metadata": {},
     "output_type": "execute_result"
    }
   ],
   "source": [
    "df = pd.read_csv('Luxury watch.csv')\n",
    "df"
   ],
   "metadata": {
    "collapsed": false,
    "ExecuteTime": {
     "end_time": "2023-12-26T21:31:21.805641417Z",
     "start_time": "2023-12-26T21:31:21.786656235Z"
    }
   },
   "id": "5bf91130"
  },
  {
   "cell_type": "code",
   "execution_count": 3,
   "outputs": [],
   "source": [
    "df.dropna(inplace=True)"
   ],
   "metadata": {
    "collapsed": false,
    "ExecuteTime": {
     "end_time": "2023-12-26T21:31:23.899665149Z",
     "start_time": "2023-12-26T21:31:23.887376396Z"
    }
   },
   "id": "2b4e378d"
  },
  {
   "cell_type": "code",
   "execution_count": 4,
   "outputs": [],
   "source": [
    "df['Price (USD)'] = df['Price (USD)'].map(lambda x: x.replace(',',''))"
   ],
   "metadata": {
    "collapsed": false,
    "ExecuteTime": {
     "end_time": "2023-12-26T21:31:24.482774764Z",
     "start_time": "2023-12-26T21:31:24.479358501Z"
    }
   },
   "id": "182addbb"
  },
  {
   "cell_type": "code",
   "execution_count": 5,
   "outputs": [],
   "source": [
    "targetcol = 'Price (USD)'\n",
    "X = df.loc[:,~df.columns.isin([targetcol])]\n",
    "y = df.loc[:,df.columns.isin([targetcol])]\n",
    "catcols = list(X.select_dtypes(include=['object']).columns)\n",
    "numcols = list(X.select_dtypes(include=['float64','int']).columns)"
   ],
   "metadata": {
    "collapsed": false,
    "ExecuteTime": {
     "end_time": "2023-12-26T21:31:24.982767371Z",
     "start_time": "2023-12-26T21:31:24.979149598Z"
    }
   },
   "id": "70a8b8e1"
  },
  {
   "cell_type": "code",
   "execution_count": 6,
   "outputs": [
    {
     "data": {
      "text/plain": "['Case Diameter (mm)', 'Case Thickness (mm)', 'Band Width (mm)']"
     },
     "execution_count": 6,
     "metadata": {},
     "output_type": "execute_result"
    }
   ],
   "source": [
    "numcols"
   ],
   "metadata": {
    "collapsed": false,
    "ExecuteTime": {
     "end_time": "2023-12-26T21:31:25.470448070Z",
     "start_time": "2023-12-26T21:31:25.462242601Z"
    }
   },
   "id": "7be345ca1fc1c563"
  },
  {
   "cell_type": "code",
   "execution_count": 7,
   "outputs": [
    {
     "data": {
      "text/plain": "['Brand',\n 'Model',\n 'Case Material',\n 'Strap Material',\n 'Movement Type',\n 'Water Resistance',\n 'Dial Color',\n 'Crystal Material',\n 'Complications',\n 'Power Reserve']"
     },
     "execution_count": 7,
     "metadata": {},
     "output_type": "execute_result"
    }
   ],
   "source": [
    "catcols"
   ],
   "metadata": {
    "collapsed": false,
    "ExecuteTime": {
     "end_time": "2023-12-26T21:31:26.097299431Z",
     "start_time": "2023-12-26T21:31:26.093160537Z"
    }
   },
   "id": "da8cb5f8a34f9fd4"
  },
  {
   "cell_type": "code",
   "execution_count": 8,
   "id": "116fa0ba",
   "metadata": {
    "execution": {
     "iopub.execute_input": "2023-03-11T13:04:15.569771Z",
     "iopub.status.busy": "2023-03-11T13:04:15.569320Z",
     "iopub.status.idle": "2023-03-11T13:04:15.576989Z",
     "shell.execute_reply": "2023-03-11T13:04:15.575757Z"
    },
    "papermill": {
     "duration": 0.015956,
     "end_time": "2023-03-11T13:04:15.579487",
     "exception": false,
     "start_time": "2023-03-11T13:04:15.563531",
     "status": "completed"
    },
    "tags": [],
    "ExecuteTime": {
     "end_time": "2023-12-26T21:31:26.753027460Z",
     "start_time": "2023-12-26T21:31:26.748274134Z"
    }
   },
   "outputs": [],
   "source": [
    "numeric_transformer = Pipeline([\n",
    "    (\"imputer\", SimpleImputer(strategy='median')),\n",
    "    (\"scaler\", StandardScaler())\n",
    "])\n",
    "\n",
    "categorical_transformer = Pipeline([\n",
    "    (\"imputer\", SimpleImputer(strategy=\"constant\")),\n",
    "    (\"encoder\", OneHotEncoder(handle_unknown=\"ignore\")),\n",
    "    (\"selector\", SelectPercentile(chi2, percentile=50)),\n",
    "])\n",
    "preprocessor = ColumnTransformer(\n",
    "    transformers=[\n",
    "        (\"num\", numeric_transformer, numcols),\n",
    "        (\"cat\", categorical_transformer, catcols),\n",
    "    ]\n",
    ")"
   ]
  },
  {
   "cell_type": "markdown",
   "source": [
    "# Linear Regression baseline"
   ],
   "metadata": {
    "collapsed": false
   },
   "id": "c34f06069858cecc"
  },
  {
   "cell_type": "code",
   "execution_count": 9,
   "id": "64433db3",
   "metadata": {
    "execution": {
     "iopub.execute_input": "2023-03-11T13:04:15.590293Z",
     "iopub.status.busy": "2023-03-11T13:04:15.589870Z",
     "iopub.status.idle": "2023-03-11T13:04:15.665453Z",
     "shell.execute_reply": "2023-03-11T13:04:15.663823Z"
    },
    "papermill": {
     "duration": 0.084221,
     "end_time": "2023-03-11T13:04:15.668273",
     "exception": false,
     "start_time": "2023-03-11T13:04:15.584052",
     "status": "completed"
    },
    "tags": [],
    "ExecuteTime": {
     "end_time": "2023-12-26T21:31:28.153486399Z",
     "start_time": "2023-12-26T21:31:28.125234575Z"
    }
   },
   "outputs": [
    {
     "name": "stdout",
     "output_type": "stream",
     "text": [
      "model r2 score: 0.840\n"
     ]
    }
   ],
   "source": [
    "pipeline = Pipeline(\n",
    "    steps=[(\"preprocessor\", preprocessor), (\"LR\", LinearRegression())]\n",
    ")\n",
    "\n",
    "X_train, X_test, y_train, y_test = train_test_split(X, y, test_size=0.2, random_state=0)\n",
    "\n",
    "pipeline.fit(X_train, y_train)\n",
    "print(\"model r2 score: %.3f\" % pipeline.score(X_test, y_test))"
   ]
  },
  {
   "cell_type": "markdown",
   "source": [
    "# DecisionTree Regressor baseline"
   ],
   "metadata": {
    "collapsed": false
   },
   "id": "266d0c71fd00a662"
  },
  {
   "cell_type": "code",
   "execution_count": 10,
   "id": "3f40ac60",
   "metadata": {
    "execution": {
     "iopub.execute_input": "2023-03-11T13:04:15.680019Z",
     "iopub.status.busy": "2023-03-11T13:04:15.678894Z",
     "iopub.status.idle": "2023-03-11T13:04:15.727868Z",
     "shell.execute_reply": "2023-03-11T13:04:15.726298Z"
    },
    "papermill": {
     "duration": 0.057994,
     "end_time": "2023-03-11T13:04:15.730903",
     "exception": false,
     "start_time": "2023-03-11T13:04:15.672909",
     "status": "completed"
    },
    "tags": [],
    "ExecuteTime": {
     "end_time": "2023-12-26T21:31:29.462103203Z",
     "start_time": "2023-12-26T21:31:29.429958178Z"
    }
   },
   "outputs": [
    {
     "name": "stdout",
     "output_type": "stream",
     "text": [
      "model r2 score: 0.666\n"
     ]
    }
   ],
   "source": [
    "pipeline = Pipeline(\n",
    "    steps=[(\"preprocessor\", preprocessor), (\"DTR\", DecisionTreeRegressor())]\n",
    ")\n",
    "\n",
    "X_train, X_test, y_train, y_test = train_test_split(X, y, test_size=0.2, random_state=0)\n",
    "\n",
    "pipeline.fit(X_train, y_train)\n",
    "print(\"model r2 score: %.3f\" % pipeline.score(X_test, y_test))"
   ]
  },
  {
   "cell_type": "markdown",
   "source": [
    "# RandomForest Regressor baseline"
   ],
   "metadata": {
    "collapsed": false
   },
   "id": "8a4fe802811d8c5c"
  },
  {
   "cell_type": "code",
   "execution_count": 11,
   "id": "fc071d34",
   "metadata": {
    "execution": {
     "iopub.execute_input": "2023-03-11T13:04:15.742639Z",
     "iopub.status.busy": "2023-03-11T13:04:15.741635Z",
     "iopub.status.idle": "2023-03-11T13:04:16.138454Z",
     "shell.execute_reply": "2023-03-11T13:04:16.137026Z"
    },
    "papermill": {
     "duration": 0.405457,
     "end_time": "2023-03-11T13:04:16.141051",
     "exception": false,
     "start_time": "2023-03-11T13:04:15.735594",
     "status": "completed"
    },
    "tags": [],
    "ExecuteTime": {
     "end_time": "2023-12-26T21:31:31.071116798Z",
     "start_time": "2023-12-26T21:31:30.908508244Z"
    }
   },
   "outputs": [
    {
     "name": "stdout",
     "output_type": "stream",
     "text": [
      "model r2 score: 0.736\n"
     ]
    },
    {
     "name": "stderr",
     "output_type": "stream",
     "text": [
      "/home/dona/Documents/Luxury Watches Price/venv1/lib/python3.10/site-packages/sklearn/base.py:1152: DataConversionWarning: A column-vector y was passed when a 1d array was expected. Please change the shape of y to (n_samples,), for example using ravel().\n",
      "  return fit_method(estimator, *args, **kwargs)\n"
     ]
    }
   ],
   "source": [
    "pipeline = Pipeline(\n",
    "    steps=[(\"preprocessor\", preprocessor), (\"RFR\", RandomForestRegressor())]\n",
    ")\n",
    "\n",
    "X_train, X_test, y_train, y_test = train_test_split(X, y, test_size=0.2, random_state=0)\n",
    "\n",
    "pipeline.fit(X_train, y_train)\n",
    "print(\"model r2 score: %.3f\" % pipeline.score(X_test, y_test))"
   ]
  },
  {
   "cell_type": "markdown",
   "source": [
    "# ExtraTreeRegressor baseline"
   ],
   "metadata": {
    "collapsed": false
   },
   "id": "bac291dd89525e52"
  },
  {
   "cell_type": "code",
   "execution_count": 12,
   "id": "efdd57ca",
   "metadata": {
    "papermill": {
     "duration": 0.004301,
     "end_time": "2023-03-11T13:04:16.159385",
     "exception": false,
     "start_time": "2023-03-11T13:04:16.155084",
     "status": "completed"
    },
    "tags": [],
    "ExecuteTime": {
     "end_time": "2023-12-26T21:31:33.480392034Z",
     "start_time": "2023-12-26T21:31:33.334236933Z"
    }
   },
   "outputs": [
    {
     "name": "stdout",
     "output_type": "stream",
     "text": [
      "model r2 score: 0.776\n"
     ]
    },
    {
     "name": "stderr",
     "output_type": "stream",
     "text": [
      "/home/dona/Documents/Luxury Watches Price/venv1/lib/python3.10/site-packages/sklearn/base.py:1152: DataConversionWarning: A column-vector y was passed when a 1d array was expected. Please change the shape of y to (n_samples,), for example using ravel().\n",
      "  return fit_method(estimator, *args, **kwargs)\n"
     ]
    }
   ],
   "source": [
    "pipeline = Pipeline(\n",
    "    steps=[(\"preprocessor\", preprocessor), (\"XTR\", ExtraTreesRegressor())]\n",
    ")\n",
    "\n",
    "X_train, X_test, y_train, y_test = train_test_split(X, y, test_size=0.2, random_state=0)\n",
    "\n",
    "pipeline.fit(X_train, y_train)\n",
    "print(\"model r2 score: %.3f\" % pipeline.score(X_test, y_test))"
   ]
  },
  {
   "cell_type": "code",
   "execution_count": 13,
   "outputs": [
    {
     "data": {
      "text/plain": "['model.joblib']"
     },
     "execution_count": 13,
     "metadata": {},
     "output_type": "execute_result"
    }
   ],
   "source": [
    "joblib.dump(pipeline, \"model.joblib\")"
   ],
   "metadata": {
    "collapsed": false,
    "ExecuteTime": {
     "end_time": "2023-12-26T21:31:41.166380640Z",
     "start_time": "2023-12-26T21:31:41.126103509Z"
    }
   },
   "id": "7ad564397603d6dd"
  },
  {
   "cell_type": "code",
   "execution_count": 14,
   "outputs": [
    {
     "data": {
      "text/plain": "['model_column_names.joblib']"
     },
     "execution_count": 14,
     "metadata": {},
     "output_type": "execute_result"
    }
   ],
   "source": [
    "joblib.dump(list(X.columns), 'model_column_names.joblib')"
   ],
   "metadata": {
    "collapsed": false,
    "ExecuteTime": {
     "end_time": "2023-12-26T21:31:48.485071571Z",
     "start_time": "2023-12-26T21:31:48.481162861Z"
    }
   },
   "id": "1ccaa4f1833d3352"
  },
  {
   "cell_type": "code",
   "execution_count": null,
   "outputs": [],
   "source": [],
   "metadata": {
    "collapsed": false
   },
   "id": "86f37e82e7f8907c"
  }
 ],
 "metadata": {
  "kernelspec": {
   "display_name": "Python 3",
   "language": "python",
   "name": "python3"
  },
  "language_info": {
   "codemirror_mode": {
    "name": "ipython",
    "version": 3
   },
   "file_extension": ".py",
   "mimetype": "text/x-python",
   "name": "python",
   "nbconvert_exporter": "python",
   "pygments_lexer": "ipython3",
   "version": "3.7.12"
  },
  "papermill": {
   "default_parameters": {},
   "duration": 13.099859,
   "end_time": "2023-03-11T13:04:16.886383",
   "environment_variables": {},
   "exception": null,
   "input_path": "__notebook__.ipynb",
   "output_path": "__notebook__.ipynb",
   "parameters": {},
   "start_time": "2023-03-11T13:04:03.786524",
   "version": "2.4.0"
  }
 },
 "nbformat": 4,
 "nbformat_minor": 5
}
