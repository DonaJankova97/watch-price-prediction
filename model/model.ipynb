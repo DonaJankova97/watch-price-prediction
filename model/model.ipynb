{
 "cells": [
  {
   "cell_type": "code",
   "execution_count": 1,
   "id": "1f30cf87",
   "metadata": {
    "execution": {
     "iopub.execute_input": "2023-03-11T13:04:14.132439Z",
     "iopub.status.busy": "2023-03-11T13:04:14.131634Z",
     "iopub.status.idle": "2023-03-11T13:04:15.556009Z",
     "shell.execute_reply": "2023-03-11T13:04:15.554748Z"
    },
    "papermill": {
     "duration": 1.433144,
     "end_time": "2023-03-11T13:04:15.558817",
     "exception": false,
     "start_time": "2023-03-11T13:04:14.125673",
     "status": "completed"
    },
    "tags": [],
    "ExecuteTime": {
     "end_time": "2024-01-27T16:14:32.795506105Z",
     "start_time": "2024-01-27T16:14:31.370774292Z"
    }
   },
   "outputs": [
    {
     "name": "stderr",
     "output_type": "stream",
     "text": [
      "2024-01-27 17:14:31.592016: I tensorflow/core/util/port.cc:113] oneDNN custom operations are on. You may see slightly different numerical results due to floating-point round-off errors from different computation orders. To turn them off, set the environment variable `TF_ENABLE_ONEDNN_OPTS=0`.\n",
      "2024-01-27 17:14:31.594054: I external/local_tsl/tsl/cuda/cudart_stub.cc:31] Could not find cuda drivers on your machine, GPU will not be used.\n",
      "2024-01-27 17:14:31.619340: E external/local_xla/xla/stream_executor/cuda/cuda_dnn.cc:9261] Unable to register cuDNN factory: Attempting to register factory for plugin cuDNN when one has already been registered\n",
      "2024-01-27 17:14:31.619375: E external/local_xla/xla/stream_executor/cuda/cuda_fft.cc:607] Unable to register cuFFT factory: Attempting to register factory for plugin cuFFT when one has already been registered\n",
      "2024-01-27 17:14:31.620363: E external/local_xla/xla/stream_executor/cuda/cuda_blas.cc:1515] Unable to register cuBLAS factory: Attempting to register factory for plugin cuBLAS when one has already been registered\n",
      "2024-01-27 17:14:31.624642: I external/local_tsl/tsl/cuda/cudart_stub.cc:31] Could not find cuda drivers on your machine, GPU will not be used.\n",
      "2024-01-27 17:14:31.625070: I tensorflow/core/platform/cpu_feature_guard.cc:182] This TensorFlow binary is optimized to use available CPU instructions in performance-critical operations.\n",
      "To enable the following instructions: AVX2 AVX512F AVX512_VNNI FMA, in other operations, rebuild TensorFlow with the appropriate compiler flags.\n",
      "2024-01-27 17:14:32.225669: W tensorflow/compiler/tf2tensorrt/utils/py_utils.cc:38] TF-TRT Warning: Could not find TensorRT\n"
     ]
    }
   ],
   "source": [
    "import numpy as np \n",
    "import pandas as pd\n",
    "import joblib\n",
    "import tensorflow as tf\n",
    "from matplotlib import pyplot as plt\n",
    "\n",
    "from sklearn.pipeline import Pipeline\n",
    "from sklearn.compose import ColumnTransformer\n",
    "from sklearn.model_selection import train_test_split\n",
    "from sklearn.preprocessing import StandardScaler\n",
    "from sklearn.preprocessing import OneHotEncoder\n",
    "from sklearn.impute import SimpleImputer\n",
    "from sklearn.feature_selection import SelectPercentile, chi2\n",
    "from sklearn.metrics import r2_score, mean_absolute_error, mean_squared_error\n",
    "from sklearn.base import BaseEstimator, TransformerMixin\n",
    "\n",
    "from sklearn.linear_model import LinearRegression, Ridge, Lasso\n",
    "from sklearn.tree import DecisionTreeRegressor\n",
    "from sklearn.ensemble import RandomForestRegressor, ExtraTreesRegressor, GradientBoostingRegressor\n",
    "from xgboost import XGBRegressor\n",
    "import lightgbm as lgb\n",
    "from sklearn.neighbors import KNeighborsRegressor\n",
    "from sklearn.svm import SVR\n",
    "from sklearn.neural_network import MLPRegressor\n",
    "\n",
    "import warnings\n",
    "warnings.filterwarnings(\"ignore\")"
   ]
  },
  {
   "cell_type": "markdown",
   "source": [
    "# Data Preprocessing"
   ],
   "metadata": {
    "collapsed": false
   },
   "id": "6445b7d162804bd0"
  },
  {
   "cell_type": "code",
   "execution_count": 2,
   "outputs": [
    {
     "data": {
      "text/plain": "                   Brand              Model    Case Material   Strap Material  \\\n0                  Rolex         Submariner  Stainless Steel  Stainless Steel   \n1                  Omega          Seamaster         Titanium           Rubber   \n2              Tag Heuer            Carrera  Stainless Steel          Leather   \n3              Breitling          Navitimer  Stainless Steel  Stainless Steel   \n4                Cartier          Tank Solo  Stainless Steel          Leather   \n..                   ...                ...              ...              ...   \n502              Breguet          Classique    18k Rose Gold          Leather   \n503            Blancpain      Fifty Fathoms  Stainless Steel           Fabric   \n504             Longines  Master Collection  Stainless Steel          Leather   \n505  Vacheron Constantin           Overseas  Stainless Steel  Stainless Steel   \n506  Frederique Constant           Classics  Stainless Steel          Leather   \n\n    Movement Type Water Resistance  Case Diameter (mm)  Case Thickness (mm)  \\\n0       Automatic       300 meters                40.0                13.00   \n1       Automatic       600 meters                43.5                14.47   \n2       Automatic       100 meters                41.0                13.00   \n3       Automatic        30 meters                43.0                14.25   \n4          Quartz        30 meters                31.0                 6.05   \n..            ...              ...                 ...                  ...   \n502     Automatic        30 meters                38.5                 8.25   \n503     Automatic       300 meters                45.0                15.50   \n504     Automatic        30 meters                38.5                 9.70   \n505     Automatic       150 meters                41.5                11.00   \n506     Automatic        50 meters                40.0                10.60   \n\n     Band Width (mm) Dial Color Crystal Material Complications Power Reserve  \\\n0               20.0      Black         Sapphire          Date      48 hours   \n1               21.0       Blue         Sapphire          Date      60 hours   \n2               20.0      White         Sapphire   Chronograph      42 hours   \n3               22.0      Black         Sapphire   Chronograph      70 hours   \n4               20.0     Silver         Sapphire           NaN           NaN   \n..               ...        ...              ...           ...           ...   \n502             20.0      White         Sapphire          Date      38 hours   \n503             23.0      Black         Sapphire          Date     120 hours   \n504             20.0       Blue         Sapphire          Date      64 hours   \n505             22.0       Blue         Sapphire          Date      40 hours   \n506             20.0     Silver         Sapphire          Date      38 hours   \n\n    Price (USD)  \n0         9,500  \n1         5,800  \n2         4,200  \n3         7,900  \n4         2,800  \n..          ...  \n502      21,500  \n503      13,500  \n504       1,800  \n505      19,000  \n506       1,200  \n\n[507 rows x 14 columns]",
      "text/html": "<div>\n<style scoped>\n    .dataframe tbody tr th:only-of-type {\n        vertical-align: middle;\n    }\n\n    .dataframe tbody tr th {\n        vertical-align: top;\n    }\n\n    .dataframe thead th {\n        text-align: right;\n    }\n</style>\n<table border=\"1\" class=\"dataframe\">\n  <thead>\n    <tr style=\"text-align: right;\">\n      <th></th>\n      <th>Brand</th>\n      <th>Model</th>\n      <th>Case Material</th>\n      <th>Strap Material</th>\n      <th>Movement Type</th>\n      <th>Water Resistance</th>\n      <th>Case Diameter (mm)</th>\n      <th>Case Thickness (mm)</th>\n      <th>Band Width (mm)</th>\n      <th>Dial Color</th>\n      <th>Crystal Material</th>\n      <th>Complications</th>\n      <th>Power Reserve</th>\n      <th>Price (USD)</th>\n    </tr>\n  </thead>\n  <tbody>\n    <tr>\n      <th>0</th>\n      <td>Rolex</td>\n      <td>Submariner</td>\n      <td>Stainless Steel</td>\n      <td>Stainless Steel</td>\n      <td>Automatic</td>\n      <td>300 meters</td>\n      <td>40.0</td>\n      <td>13.00</td>\n      <td>20.0</td>\n      <td>Black</td>\n      <td>Sapphire</td>\n      <td>Date</td>\n      <td>48 hours</td>\n      <td>9,500</td>\n    </tr>\n    <tr>\n      <th>1</th>\n      <td>Omega</td>\n      <td>Seamaster</td>\n      <td>Titanium</td>\n      <td>Rubber</td>\n      <td>Automatic</td>\n      <td>600 meters</td>\n      <td>43.5</td>\n      <td>14.47</td>\n      <td>21.0</td>\n      <td>Blue</td>\n      <td>Sapphire</td>\n      <td>Date</td>\n      <td>60 hours</td>\n      <td>5,800</td>\n    </tr>\n    <tr>\n      <th>2</th>\n      <td>Tag Heuer</td>\n      <td>Carrera</td>\n      <td>Stainless Steel</td>\n      <td>Leather</td>\n      <td>Automatic</td>\n      <td>100 meters</td>\n      <td>41.0</td>\n      <td>13.00</td>\n      <td>20.0</td>\n      <td>White</td>\n      <td>Sapphire</td>\n      <td>Chronograph</td>\n      <td>42 hours</td>\n      <td>4,200</td>\n    </tr>\n    <tr>\n      <th>3</th>\n      <td>Breitling</td>\n      <td>Navitimer</td>\n      <td>Stainless Steel</td>\n      <td>Stainless Steel</td>\n      <td>Automatic</td>\n      <td>30 meters</td>\n      <td>43.0</td>\n      <td>14.25</td>\n      <td>22.0</td>\n      <td>Black</td>\n      <td>Sapphire</td>\n      <td>Chronograph</td>\n      <td>70 hours</td>\n      <td>7,900</td>\n    </tr>\n    <tr>\n      <th>4</th>\n      <td>Cartier</td>\n      <td>Tank Solo</td>\n      <td>Stainless Steel</td>\n      <td>Leather</td>\n      <td>Quartz</td>\n      <td>30 meters</td>\n      <td>31.0</td>\n      <td>6.05</td>\n      <td>20.0</td>\n      <td>Silver</td>\n      <td>Sapphire</td>\n      <td>NaN</td>\n      <td>NaN</td>\n      <td>2,800</td>\n    </tr>\n    <tr>\n      <th>...</th>\n      <td>...</td>\n      <td>...</td>\n      <td>...</td>\n      <td>...</td>\n      <td>...</td>\n      <td>...</td>\n      <td>...</td>\n      <td>...</td>\n      <td>...</td>\n      <td>...</td>\n      <td>...</td>\n      <td>...</td>\n      <td>...</td>\n      <td>...</td>\n    </tr>\n    <tr>\n      <th>502</th>\n      <td>Breguet</td>\n      <td>Classique</td>\n      <td>18k Rose Gold</td>\n      <td>Leather</td>\n      <td>Automatic</td>\n      <td>30 meters</td>\n      <td>38.5</td>\n      <td>8.25</td>\n      <td>20.0</td>\n      <td>White</td>\n      <td>Sapphire</td>\n      <td>Date</td>\n      <td>38 hours</td>\n      <td>21,500</td>\n    </tr>\n    <tr>\n      <th>503</th>\n      <td>Blancpain</td>\n      <td>Fifty Fathoms</td>\n      <td>Stainless Steel</td>\n      <td>Fabric</td>\n      <td>Automatic</td>\n      <td>300 meters</td>\n      <td>45.0</td>\n      <td>15.50</td>\n      <td>23.0</td>\n      <td>Black</td>\n      <td>Sapphire</td>\n      <td>Date</td>\n      <td>120 hours</td>\n      <td>13,500</td>\n    </tr>\n    <tr>\n      <th>504</th>\n      <td>Longines</td>\n      <td>Master Collection</td>\n      <td>Stainless Steel</td>\n      <td>Leather</td>\n      <td>Automatic</td>\n      <td>30 meters</td>\n      <td>38.5</td>\n      <td>9.70</td>\n      <td>20.0</td>\n      <td>Blue</td>\n      <td>Sapphire</td>\n      <td>Date</td>\n      <td>64 hours</td>\n      <td>1,800</td>\n    </tr>\n    <tr>\n      <th>505</th>\n      <td>Vacheron Constantin</td>\n      <td>Overseas</td>\n      <td>Stainless Steel</td>\n      <td>Stainless Steel</td>\n      <td>Automatic</td>\n      <td>150 meters</td>\n      <td>41.5</td>\n      <td>11.00</td>\n      <td>22.0</td>\n      <td>Blue</td>\n      <td>Sapphire</td>\n      <td>Date</td>\n      <td>40 hours</td>\n      <td>19,000</td>\n    </tr>\n    <tr>\n      <th>506</th>\n      <td>Frederique Constant</td>\n      <td>Classics</td>\n      <td>Stainless Steel</td>\n      <td>Leather</td>\n      <td>Automatic</td>\n      <td>50 meters</td>\n      <td>40.0</td>\n      <td>10.60</td>\n      <td>20.0</td>\n      <td>Silver</td>\n      <td>Sapphire</td>\n      <td>Date</td>\n      <td>38 hours</td>\n      <td>1,200</td>\n    </tr>\n  </tbody>\n</table>\n<p>507 rows × 14 columns</p>\n</div>"
     },
     "execution_count": 2,
     "metadata": {},
     "output_type": "execute_result"
    }
   ],
   "source": [
    "df = pd.read_csv('Luxury watch.csv')\n",
    "df"
   ],
   "metadata": {
    "collapsed": false,
    "ExecuteTime": {
     "end_time": "2024-01-27T16:14:32.814642346Z",
     "start_time": "2024-01-27T16:14:32.797374741Z"
    }
   },
   "id": "5bf91130"
  },
  {
   "cell_type": "markdown",
   "source": [
    "### Make the target column, water resistance and power reserve to be of type float instead of object"
   ],
   "metadata": {
    "collapsed": false
   },
   "id": "9bf454ed1306a359"
  },
  {
   "cell_type": "code",
   "execution_count": 3,
   "outputs": [],
   "source": [
    "df['Price (USD)'] = df['Price (USD)'].apply(lambda x: float(str(x).replace(',','')))\n",
    "\n",
    "df['Water Resistance'] = df['Water Resistance'].apply(lambda x: float(str(x).replace('meters', '')))\n",
    "\n",
    "# Function to convert days to hours\n",
    "def convert_days_to_hours(value):\n",
    "    if pd.notna(value):  # Check if the value is not NaN\n",
    "        if 'days' in value:\n",
    "            days = int(value.split()[0])\n",
    "            return days * 24\n",
    "        elif 'hours' in value:\n",
    "            return int(value.split()[0])\n",
    "        else: return np.nan\n",
    "    else:\n",
    "        return value  # Return NaN if the input is NaN\n",
    "# Apply the function to the 'Power Reserve' column\n",
    "df['Power Reserve'] = df['Power Reserve'].apply(convert_days_to_hours)\n",
    "df['Power Reserve'] = df['Power Reserve'].apply(lambda x: float(str(x).replace('hours', '')))"
   ],
   "metadata": {
    "collapsed": false,
    "ExecuteTime": {
     "end_time": "2024-01-27T16:14:33.045457965Z",
     "start_time": "2024-01-27T16:14:33.044355958Z"
    }
   },
   "id": "182addbb"
  },
  {
   "cell_type": "markdown",
   "source": [
    "### Remove rows that contain nan values"
   ],
   "metadata": {
    "collapsed": false
   },
   "id": "65751da8c1b55e98"
  },
  {
   "cell_type": "code",
   "outputs": [],
   "source": [
    "df.dropna(inplace=True)"
   ],
   "metadata": {
    "collapsed": false,
    "ExecuteTime": {
     "end_time": "2024-01-27T16:14:33.717331337Z",
     "start_time": "2024-01-27T16:14:33.710364048Z"
    }
   },
   "id": "2b4e378d",
   "execution_count": 4
  },
  {
   "cell_type": "markdown",
   "source": [
    "### Remove duplicated rows"
   ],
   "metadata": {
    "collapsed": false
   },
   "id": "9331dce90d027844"
  },
  {
   "cell_type": "code",
   "outputs": [],
   "source": [
    "df = df.drop_duplicates()"
   ],
   "metadata": {
    "collapsed": false,
    "ExecuteTime": {
     "end_time": "2024-01-27T16:14:34.396496045Z",
     "start_time": "2024-01-27T16:14:34.385682885Z"
    }
   },
   "id": "e0591293593eeb3c",
   "execution_count": 5
  },
  {
   "cell_type": "markdown",
   "source": [
    "### Create column transformer"
   ],
   "metadata": {
    "collapsed": false
   },
   "id": "4846c7c4c0280170"
  },
  {
   "cell_type": "code",
   "execution_count": 6,
   "outputs": [],
   "source": [
    "targetcol = 'Price (USD)'\n",
    "X = df.loc[:,~df.columns.isin([targetcol])]\n",
    "y = df.loc[:,df.columns.isin([targetcol])]\n",
    "catcols = list(X.select_dtypes(include=['object']).columns)\n",
    "numcols = list(X.select_dtypes(include=['float64','int']).columns)"
   ],
   "metadata": {
    "collapsed": false,
    "ExecuteTime": {
     "end_time": "2024-01-27T16:14:35.044534935Z",
     "start_time": "2024-01-27T16:14:35.035683356Z"
    }
   },
   "id": "70a8b8e1"
  },
  {
   "cell_type": "code",
   "execution_count": 7,
   "outputs": [
    {
     "data": {
      "text/plain": "['Water Resistance',\n 'Case Diameter (mm)',\n 'Case Thickness (mm)',\n 'Band Width (mm)',\n 'Power Reserve']"
     },
     "execution_count": 7,
     "metadata": {},
     "output_type": "execute_result"
    }
   ],
   "source": [
    "numcols"
   ],
   "metadata": {
    "collapsed": false,
    "ExecuteTime": {
     "end_time": "2024-01-27T16:14:35.418839633Z",
     "start_time": "2024-01-27T16:14:35.415137260Z"
    }
   },
   "id": "7be345ca1fc1c563"
  },
  {
   "cell_type": "code",
   "execution_count": 8,
   "outputs": [
    {
     "data": {
      "text/plain": "['Brand',\n 'Model',\n 'Case Material',\n 'Strap Material',\n 'Movement Type',\n 'Dial Color',\n 'Crystal Material',\n 'Complications']"
     },
     "execution_count": 8,
     "metadata": {},
     "output_type": "execute_result"
    }
   ],
   "source": [
    "catcols"
   ],
   "metadata": {
    "collapsed": false,
    "ExecuteTime": {
     "end_time": "2024-01-27T16:14:35.836859078Z",
     "start_time": "2024-01-27T16:14:35.832606418Z"
    }
   },
   "id": "da8cb5f8a34f9fd4"
  },
  {
   "cell_type": "code",
   "outputs": [],
   "source": [
    "class LowercaseTransformer(BaseEstimator, TransformerMixin):\n",
    "    def __init__(self):\n",
    "        pass\n",
    "\n",
    "    def fit(self, X, y=None):\n",
    "        return self\n",
    "\n",
    "    def transform(self, X):\n",
    "        # Assuming X is a DataFrame\n",
    "        for column in X.select_dtypes(include='object').columns:\n",
    "            X[column] = X[column].str.lower()\n",
    "        return X"
   ],
   "metadata": {
    "collapsed": false,
    "ExecuteTime": {
     "end_time": "2024-01-27T16:14:36.201939659Z",
     "start_time": "2024-01-27T16:14:36.197249673Z"
    }
   },
   "id": "fc1a6687c7778adf",
   "execution_count": 9
  },
  {
   "cell_type": "code",
   "execution_count": 10,
   "id": "116fa0ba",
   "metadata": {
    "execution": {
     "iopub.execute_input": "2023-03-11T13:04:15.569771Z",
     "iopub.status.busy": "2023-03-11T13:04:15.569320Z",
     "iopub.status.idle": "2023-03-11T13:04:15.576989Z",
     "shell.execute_reply": "2023-03-11T13:04:15.575757Z"
    },
    "papermill": {
     "duration": 0.015956,
     "end_time": "2023-03-11T13:04:15.579487",
     "exception": false,
     "start_time": "2023-03-11T13:04:15.563531",
     "status": "completed"
    },
    "tags": [],
    "ExecuteTime": {
     "end_time": "2024-01-27T16:14:36.636807433Z",
     "start_time": "2024-01-27T16:14:36.630850228Z"
    }
   },
   "outputs": [],
   "source": [
    "numeric_transformer = Pipeline([\n",
    "    (\"imputer\", SimpleImputer(strategy='median')),\n",
    "    (\"scaler\", StandardScaler())\n",
    "])\n",
    "\n",
    "categorical_transformer = Pipeline([\n",
    "    (\"lowercase\", LowercaseTransformer()),  # Custom transformer for lowercase\n",
    "    (\"imputer\", SimpleImputer(strategy=\"constant\")),\n",
    "    (\"encoder\", OneHotEncoder(handle_unknown=\"ignore\")),\n",
    "    (\"selector\", SelectPercentile(chi2, percentile=50)),\n",
    "])\n",
    "preprocessor = ColumnTransformer(\n",
    "    transformers=[\n",
    "        (\"num\", numeric_transformer, numcols),\n",
    "        (\"cat\", categorical_transformer, catcols),\n",
    "    ]\n",
    ")"
   ]
  },
  {
   "cell_type": "markdown",
   "source": [
    "# Models"
   ],
   "metadata": {
    "collapsed": false
   },
   "id": "a9323777542029f4"
  },
  {
   "cell_type": "markdown",
   "source": [
    "### Split the dataset"
   ],
   "metadata": {
    "collapsed": false
   },
   "id": "7e08793099d8d9fb"
  },
  {
   "cell_type": "code",
   "outputs": [],
   "source": [
    "X_train, X_test, y_train, y_test = train_test_split(X, y, test_size=0.2, random_state=42)"
   ],
   "metadata": {
    "collapsed": false,
    "ExecuteTime": {
     "end_time": "2024-01-27T16:14:38.083888157Z",
     "start_time": "2024-01-27T16:14:38.077801213Z"
    }
   },
   "id": "513280edf7ba7afe",
   "execution_count": 11
  },
  {
   "cell_type": "markdown",
   "source": [
    "### Define models "
   ],
   "metadata": {
    "collapsed": false
   },
   "id": "ce13d6f19a35ba01"
  },
  {
   "cell_type": "code",
   "outputs": [],
   "source": [
    "lr = LinearRegression()\n",
    "ridge = Ridge()\n",
    "lasso = Lasso()\n",
    "tree = DecisionTreeRegressor()\n",
    "rf = RandomForestRegressor()\n",
    "etree = ExtraTreesRegressor()\n",
    "gb = GradientBoostingRegressor()\n",
    "xgb = XGBRegressor()\n",
    "knn = KNeighborsRegressor()\n",
    "svr = SVR(kernel='linear', C=1.0)\n",
    "lgbm = lgb.LGBMRegressor()\n",
    "mlp = MLPRegressor(hidden_layer_sizes=(10,), max_iter=1000, random_state=42)\n",
    "\n",
    "\n",
    "Models = [lr, ridge, lasso, tree, rf, etree, gb, xgb, knn, svr, lgbm, mlp]"
   ],
   "metadata": {
    "collapsed": false,
    "ExecuteTime": {
     "end_time": "2024-01-27T16:14:39.009804492Z",
     "start_time": "2024-01-27T16:14:39.005864657Z"
    }
   },
   "id": "5e52b55067e52893",
   "execution_count": 12
  },
  {
   "cell_type": "markdown",
   "source": [
    "### Test models"
   ],
   "metadata": {
    "collapsed": false
   },
   "id": "1815c2dd039836c2"
  },
  {
   "cell_type": "code",
   "outputs": [
    {
     "name": "stdout",
     "output_type": "stream",
     "text": [
      "Model is: LinearRegression()\n",
      "Training score : 0.9202830385707339\n",
      "R2 score : -0.544205703304232\n",
      "MAE : 4265.13857469921\n",
      "MSE : 231392104.26139402\n",
      "RMSE : 15211.577967502057\n",
      "================================================================================\n",
      "Model is: Ridge()\n",
      "Training score : 0.908454431831281\n",
      "R2 score : 0.8259832912985446\n",
      "MAE : 2747.5182209611507\n",
      "MSE : 26075601.402657654\n",
      "RMSE : 5106.427459844863\n",
      "================================================================================\n",
      "Model is: Lasso()\n",
      "Training score : 0.918487907739911\n",
      "R2 score : 0.8293136431383586\n",
      "MAE : 2638.4985878648217\n",
      "MSE : 25576563.535813607\n",
      "RMSE : 5057.327706982573\n",
      "================================================================================\n",
      "Model is: DecisionTreeRegressor()\n",
      "Training score : 0.9696218013970933\n",
      "R2 score : 0.858613519272628\n",
      "MAE : 2628.2207207207202\n",
      "MSE : 21186112.1996997\n",
      "RMSE : 4602.8374074802705\n",
      "================================================================================\n",
      "Model is: RandomForestRegressor()\n",
      "Training score : 0.9529097530882946\n",
      "R2 score : 0.8537215823101066\n",
      "MAE : 2609.1062318312315\n",
      "MSE : 21919146.39666568\n",
      "RMSE : 4681.788803082181\n",
      "================================================================================\n",
      "Model is: ExtraTreesRegressor()\n",
      "Training score : 0.9696218013970933\n",
      "R2 score : 0.8692925570668069\n",
      "MAE : 2439.6369369369363\n",
      "MSE : 19585907.627605084\n",
      "RMSE : 4425.596866819784\n",
      "================================================================================\n",
      "Model is: GradientBoostingRegressor()\n",
      "Training score : 0.9412589693804928\n",
      "R2 score : 0.8105603048493019\n",
      "MAE : 2805.5757213602933\n",
      "MSE : 28386664.80622427\n",
      "RMSE : 5327.913738624554\n",
      "================================================================================\n",
      "Model is: XGBRegressor(base_score=None, booster=None, callbacks=None,\n",
      "             colsample_bylevel=None, colsample_bynode=None,\n",
      "             colsample_bytree=None, device=None, early_stopping_rounds=None,\n",
      "             enable_categorical=False, eval_metric=None, feature_types=None,\n",
      "             gamma=None, grow_policy=None, importance_type=None,\n",
      "             interaction_constraints=None, learning_rate=None, max_bin=None,\n",
      "             max_cat_threshold=None, max_cat_to_onehot=None,\n",
      "             max_delta_step=None, max_depth=None, max_leaves=None,\n",
      "             min_child_weight=None, missing=nan, monotone_constraints=None,\n",
      "             multi_strategy=None, n_estimators=None, n_jobs=None,\n",
      "             num_parallel_tree=None, random_state=None, ...)\n",
      "Training score : 0.9691587159352058\n",
      "R2 score : 0.8533037232308782\n",
      "MAE : 2647.418476826436\n",
      "MSE : 21981760.652927328\n",
      "RMSE : 4688.471035735139\n",
      "================================================================================\n",
      "Model is: KNeighborsRegressor()\n",
      "Training score : 0.8395159599423536\n",
      "R2 score : 0.8007819263013185\n",
      "MAE : 3177.554054054054\n",
      "MSE : 29851909.743243244\n",
      "RMSE : 5463.690121451183\n",
      "================================================================================\n",
      "Model is: SVR(kernel='linear')\n",
      "Training score : -0.13335372544686264\n",
      "R2 score : -0.24047467233790187\n",
      "MAE : 8202.31498006791\n",
      "MSE : 185879409.7839696\n",
      "RMSE : 13633.759928353205\n",
      "================================================================================\n",
      "Model is: LGBMRegressor()\n",
      "[LightGBM] [Info] Auto-choosing row-wise multi-threading, the overhead of testing was 0.000055 seconds.\n",
      "You can set `force_row_wise=true` to remove the overhead.\n",
      "And if memory is not enough, you can set `force_col_wise=true`.\n",
      "[LightGBM] [Info] Total Bins 115\n",
      "[LightGBM] [Info] Number of data points in the train set: 292, number of used features: 8\n",
      "[LightGBM] [Info] Start training from score 12054.434932\n",
      "[LightGBM] [Warning] No further splits with positive gain, best gain: -inf\n",
      "[LightGBM] [Warning] No further splits with positive gain, best gain: -inf\n",
      "[LightGBM] [Warning] No further splits with positive gain, best gain: -inf\n",
      "[LightGBM] [Warning] No further splits with positive gain, best gain: -inf\n",
      "[LightGBM] [Warning] No further splits with positive gain, best gain: -inf\n",
      "[LightGBM] [Warning] No further splits with positive gain, best gain: -inf\n",
      "[LightGBM] [Warning] No further splits with positive gain, best gain: -inf\n",
      "[LightGBM] [Warning] No further splits with positive gain, best gain: -inf\n",
      "[LightGBM] [Warning] No further splits with positive gain, best gain: -inf\n",
      "[LightGBM] [Warning] No further splits with positive gain, best gain: -inf\n",
      "[LightGBM] [Warning] No further splits with positive gain, best gain: -inf\n",
      "[LightGBM] [Warning] No further splits with positive gain, best gain: -inf\n",
      "[LightGBM] [Warning] No further splits with positive gain, best gain: -inf\n",
      "[LightGBM] [Warning] No further splits with positive gain, best gain: -inf\n",
      "[LightGBM] [Warning] No further splits with positive gain, best gain: -inf\n",
      "[LightGBM] [Warning] No further splits with positive gain, best gain: -inf\n",
      "[LightGBM] [Warning] No further splits with positive gain, best gain: -inf\n",
      "[LightGBM] [Warning] No further splits with positive gain, best gain: -inf\n",
      "[LightGBM] [Warning] No further splits with positive gain, best gain: -inf\n",
      "[LightGBM] [Warning] No further splits with positive gain, best gain: -inf\n",
      "[LightGBM] [Warning] No further splits with positive gain, best gain: -inf\n",
      "[LightGBM] [Warning] No further splits with positive gain, best gain: -inf\n",
      "[LightGBM] [Warning] No further splits with positive gain, best gain: -inf\n",
      "[LightGBM] [Warning] No further splits with positive gain, best gain: -inf\n",
      "[LightGBM] [Warning] No further splits with positive gain, best gain: -inf\n",
      "[LightGBM] [Warning] No further splits with positive gain, best gain: -inf\n",
      "[LightGBM] [Warning] No further splits with positive gain, best gain: -inf\n",
      "[LightGBM] [Warning] No further splits with positive gain, best gain: -inf\n",
      "[LightGBM] [Warning] No further splits with positive gain, best gain: -inf\n",
      "[LightGBM] [Warning] No further splits with positive gain, best gain: -inf\n",
      "[LightGBM] [Warning] No further splits with positive gain, best gain: -inf\n",
      "[LightGBM] [Warning] No further splits with positive gain, best gain: -inf\n",
      "[LightGBM] [Warning] No further splits with positive gain, best gain: -inf\n",
      "[LightGBM] [Warning] No further splits with positive gain, best gain: -inf\n",
      "[LightGBM] [Warning] No further splits with positive gain, best gain: -inf\n",
      "[LightGBM] [Warning] No further splits with positive gain, best gain: -inf\n",
      "[LightGBM] [Warning] No further splits with positive gain, best gain: -inf\n",
      "[LightGBM] [Warning] No further splits with positive gain, best gain: -inf\n",
      "[LightGBM] [Warning] No further splits with positive gain, best gain: -inf\n",
      "[LightGBM] [Warning] No further splits with positive gain, best gain: -inf\n",
      "[LightGBM] [Warning] No further splits with positive gain, best gain: -inf\n",
      "[LightGBM] [Warning] No further splits with positive gain, best gain: -inf\n",
      "[LightGBM] [Warning] No further splits with positive gain, best gain: -inf\n",
      "[LightGBM] [Warning] No further splits with positive gain, best gain: -inf\n",
      "[LightGBM] [Warning] No further splits with positive gain, best gain: -inf\n",
      "[LightGBM] [Warning] No further splits with positive gain, best gain: -inf\n",
      "[LightGBM] [Warning] No further splits with positive gain, best gain: -inf\n",
      "[LightGBM] [Warning] No further splits with positive gain, best gain: -inf\n",
      "[LightGBM] [Warning] No further splits with positive gain, best gain: -inf\n",
      "[LightGBM] [Warning] No further splits with positive gain, best gain: -inf\n",
      "[LightGBM] [Warning] No further splits with positive gain, best gain: -inf\n",
      "[LightGBM] [Warning] No further splits with positive gain, best gain: -inf\n",
      "[LightGBM] [Warning] No further splits with positive gain, best gain: -inf\n",
      "[LightGBM] [Warning] No further splits with positive gain, best gain: -inf\n",
      "[LightGBM] [Warning] No further splits with positive gain, best gain: -inf\n",
      "[LightGBM] [Warning] No further splits with positive gain, best gain: -inf\n",
      "[LightGBM] [Warning] No further splits with positive gain, best gain: -inf\n",
      "[LightGBM] [Warning] No further splits with positive gain, best gain: -inf\n",
      "[LightGBM] [Warning] No further splits with positive gain, best gain: -inf\n",
      "[LightGBM] [Warning] No further splits with positive gain, best gain: -inf\n",
      "[LightGBM] [Warning] No further splits with positive gain, best gain: -inf\n",
      "[LightGBM] [Warning] No further splits with positive gain, best gain: -inf\n",
      "[LightGBM] [Warning] No further splits with positive gain, best gain: -inf\n",
      "[LightGBM] [Warning] No further splits with positive gain, best gain: -inf\n",
      "[LightGBM] [Warning] No further splits with positive gain, best gain: -inf\n",
      "[LightGBM] [Warning] No further splits with positive gain, best gain: -inf\n",
      "[LightGBM] [Warning] No further splits with positive gain, best gain: -inf\n",
      "[LightGBM] [Warning] No further splits with positive gain, best gain: -inf\n",
      "[LightGBM] [Warning] No further splits with positive gain, best gain: -inf\n",
      "[LightGBM] [Warning] No further splits with positive gain, best gain: -inf\n",
      "[LightGBM] [Warning] No further splits with positive gain, best gain: -inf\n",
      "[LightGBM] [Warning] No further splits with positive gain, best gain: -inf\n",
      "[LightGBM] [Warning] No further splits with positive gain, best gain: -inf\n",
      "[LightGBM] [Warning] No further splits with positive gain, best gain: -inf\n",
      "[LightGBM] [Warning] No further splits with positive gain, best gain: -inf\n",
      "[LightGBM] [Warning] No further splits with positive gain, best gain: -inf\n",
      "[LightGBM] [Warning] No further splits with positive gain, best gain: -inf\n",
      "[LightGBM] [Warning] No further splits with positive gain, best gain: -inf\n",
      "[LightGBM] [Warning] No further splits with positive gain, best gain: -inf\n",
      "[LightGBM] [Warning] No further splits with positive gain, best gain: -inf\n",
      "[LightGBM] [Warning] No further splits with positive gain, best gain: -inf\n",
      "[LightGBM] [Warning] No further splits with positive gain, best gain: -inf\n",
      "[LightGBM] [Warning] No further splits with positive gain, best gain: -inf\n",
      "[LightGBM] [Warning] No further splits with positive gain, best gain: -inf\n",
      "[LightGBM] [Warning] No further splits with positive gain, best gain: -inf\n",
      "[LightGBM] [Warning] No further splits with positive gain, best gain: -inf\n",
      "[LightGBM] [Warning] No further splits with positive gain, best gain: -inf\n",
      "[LightGBM] [Warning] No further splits with positive gain, best gain: -inf\n",
      "[LightGBM] [Warning] No further splits with positive gain, best gain: -inf\n",
      "[LightGBM] [Warning] No further splits with positive gain, best gain: -inf\n",
      "[LightGBM] [Warning] No further splits with positive gain, best gain: -inf\n",
      "[LightGBM] [Warning] No further splits with positive gain, best gain: -inf\n",
      "[LightGBM] [Warning] No further splits with positive gain, best gain: -inf\n",
      "[LightGBM] [Warning] No further splits with positive gain, best gain: -inf\n",
      "[LightGBM] [Warning] No further splits with positive gain, best gain: -inf\n",
      "[LightGBM] [Warning] No further splits with positive gain, best gain: -inf\n",
      "[LightGBM] [Warning] No further splits with positive gain, best gain: -inf\n",
      "[LightGBM] [Warning] No further splits with positive gain, best gain: -inf\n",
      "[LightGBM] [Warning] No further splits with positive gain, best gain: -inf\n",
      "[LightGBM] [Warning] No further splits with positive gain, best gain: -inf\n",
      "Training score : 0.8375331697486152\n",
      "R2 score : 0.7386943322393917\n",
      "MAE : 3600.2643458775647\n",
      "MSE : 39155449.4256673\n",
      "RMSE : 6257.431535835394\n",
      "================================================================================\n",
      "Model is: MLPRegressor(hidden_layer_sizes=(10,), max_iter=1000, random_state=42)\n",
      "Training score : -1.1944395171079467\n",
      "R2 score : -1.284130766185695\n",
      "MAE : 13920.409557804845\n",
      "MSE : 342266463.1175564\n",
      "RMSE : 18500.444943772472\n",
      "================================================================================\n"
     ]
    },
    {
     "data": {
      "text/plain": "                                           Model Name  R2 score           MAE  \\\n5   (ExtraTreeRegressor(random_state=543101027), E...  0.869293   2439.636937   \n3                             DecisionTreeRegressor()  0.858614   2628.220721   \n4   (DecisionTreeRegressor(max_features=1.0, rando...  0.853722   2609.106232   \n7   XGBRegressor(base_score=None, booster=None, ca...  0.853304   2647.418477   \n2                                             Lasso()  0.829314   2638.498588   \n1                                             Ridge()  0.825983   2747.518221   \n6   ([DecisionTreeRegressor(criterion='friedman_ms...  0.810560   2805.575721   \n8                               KNeighborsRegressor()  0.800782   3177.554054   \n10                                    LGBMRegressor()  0.738694   3600.264346   \n9                                SVR(kernel='linear') -0.240475   8202.314980   \n0                                  LinearRegression() -0.544206   4265.138575   \n11  MLPRegressor(hidden_layer_sizes=(10,), max_ite... -1.284131  13920.409558   \n\n             MSE          RMSE  \n5   1.958591e+07   4425.596867  \n3   2.118611e+07   4602.837407  \n4   2.191915e+07   4681.788803  \n7   2.198176e+07   4688.471036  \n2   2.557656e+07   5057.327707  \n1   2.607560e+07   5106.427460  \n6   2.838666e+07   5327.913739  \n8   2.985191e+07   5463.690121  \n10  3.915545e+07   6257.431536  \n9   1.858794e+08  13633.759928  \n0   2.313921e+08  15211.577968  \n11  3.422665e+08  18500.444944  ",
      "text/html": "<div>\n<style scoped>\n    .dataframe tbody tr th:only-of-type {\n        vertical-align: middle;\n    }\n\n    .dataframe tbody tr th {\n        vertical-align: top;\n    }\n\n    .dataframe thead th {\n        text-align: right;\n    }\n</style>\n<table border=\"1\" class=\"dataframe\">\n  <thead>\n    <tr style=\"text-align: right;\">\n      <th></th>\n      <th>Model Name</th>\n      <th>R2 score</th>\n      <th>MAE</th>\n      <th>MSE</th>\n      <th>RMSE</th>\n    </tr>\n  </thead>\n  <tbody>\n    <tr>\n      <th>5</th>\n      <td>(ExtraTreeRegressor(random_state=543101027), E...</td>\n      <td>0.869293</td>\n      <td>2439.636937</td>\n      <td>1.958591e+07</td>\n      <td>4425.596867</td>\n    </tr>\n    <tr>\n      <th>3</th>\n      <td>DecisionTreeRegressor()</td>\n      <td>0.858614</td>\n      <td>2628.220721</td>\n      <td>2.118611e+07</td>\n      <td>4602.837407</td>\n    </tr>\n    <tr>\n      <th>4</th>\n      <td>(DecisionTreeRegressor(max_features=1.0, rando...</td>\n      <td>0.853722</td>\n      <td>2609.106232</td>\n      <td>2.191915e+07</td>\n      <td>4681.788803</td>\n    </tr>\n    <tr>\n      <th>7</th>\n      <td>XGBRegressor(base_score=None, booster=None, ca...</td>\n      <td>0.853304</td>\n      <td>2647.418477</td>\n      <td>2.198176e+07</td>\n      <td>4688.471036</td>\n    </tr>\n    <tr>\n      <th>2</th>\n      <td>Lasso()</td>\n      <td>0.829314</td>\n      <td>2638.498588</td>\n      <td>2.557656e+07</td>\n      <td>5057.327707</td>\n    </tr>\n    <tr>\n      <th>1</th>\n      <td>Ridge()</td>\n      <td>0.825983</td>\n      <td>2747.518221</td>\n      <td>2.607560e+07</td>\n      <td>5106.427460</td>\n    </tr>\n    <tr>\n      <th>6</th>\n      <td>([DecisionTreeRegressor(criterion='friedman_ms...</td>\n      <td>0.810560</td>\n      <td>2805.575721</td>\n      <td>2.838666e+07</td>\n      <td>5327.913739</td>\n    </tr>\n    <tr>\n      <th>8</th>\n      <td>KNeighborsRegressor()</td>\n      <td>0.800782</td>\n      <td>3177.554054</td>\n      <td>2.985191e+07</td>\n      <td>5463.690121</td>\n    </tr>\n    <tr>\n      <th>10</th>\n      <td>LGBMRegressor()</td>\n      <td>0.738694</td>\n      <td>3600.264346</td>\n      <td>3.915545e+07</td>\n      <td>6257.431536</td>\n    </tr>\n    <tr>\n      <th>9</th>\n      <td>SVR(kernel='linear')</td>\n      <td>-0.240475</td>\n      <td>8202.314980</td>\n      <td>1.858794e+08</td>\n      <td>13633.759928</td>\n    </tr>\n    <tr>\n      <th>0</th>\n      <td>LinearRegression()</td>\n      <td>-0.544206</td>\n      <td>4265.138575</td>\n      <td>2.313921e+08</td>\n      <td>15211.577968</td>\n    </tr>\n    <tr>\n      <th>11</th>\n      <td>MLPRegressor(hidden_layer_sizes=(10,), max_ite...</td>\n      <td>-1.284131</td>\n      <td>13920.409558</td>\n      <td>3.422665e+08</td>\n      <td>18500.444944</td>\n    </tr>\n  </tbody>\n</table>\n</div>"
     },
     "metadata": {},
     "output_type": "display_data"
    }
   ],
   "source": [
    "results = pd.DataFrame()\n",
    "\n",
    "for model in Models:\n",
    "    print('Model is: {}'.format(model))\n",
    "    pipeline = Pipeline(\n",
    "        steps=[(\"preprocessor\", preprocessor), (\"model\", model)]\n",
    "    )\n",
    "    m = pipeline.fit(X_train, y_train)\n",
    "    print('Training score : {}'.format(m.score(X_train, y_train)))\n",
    "    prediction = m.predict(X_test)\n",
    "\n",
    "    r2score = r2_score(y_test, prediction)\n",
    "    mae = mean_absolute_error(y_test, prediction)\n",
    "    mse = mean_squared_error(y_test, prediction)\n",
    "    rmse = np.sqrt(mean_squared_error(y_test, prediction))\n",
    "    print('R2 score : {}'.format(r2score))\n",
    "    print('MAE : {}'.format(mae))\n",
    "    print('MSE : {}'.format(mse))\n",
    "    print('RMSE : {}'.format(rmse))\n",
    "\n",
    "    model_df = pd.DataFrame({'Model Name': [model], 'R2 score': [r2score], 'MAE': [mae], 'MSE': [mse], 'RMSE': [rmse]})\n",
    "    results = pd.concat([results, model_df], ignore_index=True)\n",
    "    \n",
    "    print('=' * 80)\n",
    "    \n",
    "results = results.sort_values(by='RMSE', ascending=True)\n",
    "display(results)"
   ],
   "metadata": {
    "collapsed": false,
    "ExecuteTime": {
     "end_time": "2024-01-27T16:14:41.415974278Z",
     "start_time": "2024-01-27T16:14:40.047001621Z"
    }
   },
   "id": "6cb9cc53a350ed0a",
   "execution_count": 13
  },
  {
   "cell_type": "markdown",
   "source": [
    "### Neural Network"
   ],
   "metadata": {
    "collapsed": false
   },
   "id": "62cdeb41c06569c1"
  },
  {
   "cell_type": "code",
   "outputs": [
    {
     "name": "stdout",
     "output_type": "stream",
     "text": [
      "Epoch 1/140\n",
      "10/10 [==============================] - 0s 1ms/step - loss: 263616768.0000\n",
      "Epoch 2/140\n",
      "10/10 [==============================] - 0s 1ms/step - loss: 263609696.0000\n",
      "Epoch 3/140\n",
      "10/10 [==============================] - 0s 1ms/step - loss: 263601696.0000\n",
      "Epoch 4/140\n",
      "10/10 [==============================] - 0s 1ms/step - loss: 263591856.0000\n",
      "Epoch 5/140\n",
      "10/10 [==============================] - 0s 958us/step - loss: 263577664.0000\n",
      "Epoch 6/140\n",
      "10/10 [==============================] - 0s 1ms/step - loss: 263557760.0000\n",
      "Epoch 7/140\n",
      "10/10 [==============================] - 0s 1ms/step - loss: 263530688.0000\n",
      "Epoch 8/140\n",
      "10/10 [==============================] - 0s 885us/step - loss: 263492880.0000\n",
      "Epoch 9/140\n",
      "10/10 [==============================] - 0s 970us/step - loss: 263440352.0000\n",
      "Epoch 10/140\n",
      "10/10 [==============================] - 0s 925us/step - loss: 263371904.0000\n",
      "Epoch 11/140\n",
      "10/10 [==============================] - 0s 958us/step - loss: 263283808.0000\n",
      "Epoch 12/140\n",
      "10/10 [==============================] - 0s 1ms/step - loss: 263169632.0000\n",
      "Epoch 13/140\n",
      "10/10 [==============================] - 0s 1ms/step - loss: 263027472.0000\n",
      "Epoch 14/140\n",
      "10/10 [==============================] - 0s 1ms/step - loss: 262849440.0000\n",
      "Epoch 15/140\n",
      "10/10 [==============================] - 0s 937us/step - loss: 262638048.0000\n",
      "Epoch 16/140\n",
      "10/10 [==============================] - 0s 1ms/step - loss: 262382080.0000\n",
      "Epoch 17/140\n",
      "10/10 [==============================] - 0s 925us/step - loss: 262082304.0000\n",
      "Epoch 18/140\n",
      "10/10 [==============================] - 0s 1ms/step - loss: 261748000.0000\n",
      "Epoch 19/140\n",
      "10/10 [==============================] - 0s 1ms/step - loss: 261342480.0000\n",
      "Epoch 20/140\n",
      "10/10 [==============================] - 0s 1ms/step - loss: 260920256.0000\n",
      "Epoch 21/140\n",
      "10/10 [==============================] - 0s 1ms/step - loss: 260429760.0000\n",
      "Epoch 22/140\n",
      "10/10 [==============================] - 0s 1ms/step - loss: 259875968.0000\n",
      "Epoch 23/140\n",
      "10/10 [==============================] - 0s 1ms/step - loss: 259230224.0000\n",
      "Epoch 24/140\n",
      "10/10 [==============================] - 0s 956us/step - loss: 258505376.0000\n",
      "Epoch 25/140\n",
      "10/10 [==============================] - 0s 1ms/step - loss: 257748736.0000\n",
      "Epoch 26/140\n",
      "10/10 [==============================] - 0s 1ms/step - loss: 256948592.0000\n",
      "Epoch 27/140\n",
      "10/10 [==============================] - 0s 1ms/step - loss: 256052944.0000\n",
      "Epoch 28/140\n",
      "10/10 [==============================] - 0s 912us/step - loss: 255120784.0000\n",
      "Epoch 29/140\n",
      "10/10 [==============================] - 0s 1ms/step - loss: 254077776.0000\n",
      "Epoch 30/140\n",
      "10/10 [==============================] - 0s 1ms/step - loss: 252960240.0000\n",
      "Epoch 31/140\n",
      "10/10 [==============================] - 0s 1ms/step - loss: 251733312.0000\n",
      "Epoch 32/140\n",
      "10/10 [==============================] - 0s 1ms/step - loss: 250478192.0000\n",
      "Epoch 33/140\n",
      "10/10 [==============================] - 0s 1ms/step - loss: 249167056.0000\n",
      "Epoch 34/140\n",
      "10/10 [==============================] - 0s 1ms/step - loss: 247696368.0000\n",
      "Epoch 35/140\n",
      "10/10 [==============================] - 0s 932us/step - loss: 246141552.0000\n",
      "Epoch 36/140\n",
      "10/10 [==============================] - 0s 1ms/step - loss: 244494256.0000\n",
      "Epoch 37/140\n",
      "10/10 [==============================] - 0s 1ms/step - loss: 242895216.0000\n",
      "Epoch 38/140\n",
      "10/10 [==============================] - 0s 951us/step - loss: 241173632.0000\n",
      "Epoch 39/140\n",
      "10/10 [==============================] - 0s 926us/step - loss: 239274912.0000\n",
      "Epoch 40/140\n",
      "10/10 [==============================] - 0s 875us/step - loss: 237271904.0000\n",
      "Epoch 41/140\n",
      "10/10 [==============================] - 0s 903us/step - loss: 235305920.0000\n",
      "Epoch 42/140\n",
      "10/10 [==============================] - 0s 846us/step - loss: 233135120.0000\n",
      "Epoch 43/140\n",
      "10/10 [==============================] - 0s 970us/step - loss: 230977856.0000\n",
      "Epoch 44/140\n",
      "10/10 [==============================] - 0s 1ms/step - loss: 228728096.0000\n",
      "Epoch 45/140\n",
      "10/10 [==============================] - 0s 1ms/step - loss: 226347472.0000\n",
      "Epoch 46/140\n",
      "10/10 [==============================] - 0s 1ms/step - loss: 223868080.0000\n",
      "Epoch 47/140\n",
      "10/10 [==============================] - 0s 1ms/step - loss: 221290880.0000\n",
      "Epoch 48/140\n",
      "10/10 [==============================] - 0s 926us/step - loss: 218654208.0000\n",
      "Epoch 49/140\n",
      "10/10 [==============================] - 0s 926us/step - loss: 215782912.0000\n",
      "Epoch 50/140\n",
      "10/10 [==============================] - 0s 1ms/step - loss: 213079392.0000\n",
      "Epoch 51/140\n",
      "10/10 [==============================] - 0s 1ms/step - loss: 210285248.0000\n",
      "Epoch 52/140\n",
      "10/10 [==============================] - 0s 1ms/step - loss: 207509632.0000\n",
      "Epoch 53/140\n",
      "10/10 [==============================] - 0s 1ms/step - loss: 204711488.0000\n",
      "Epoch 54/140\n",
      "10/10 [==============================] - 0s 1ms/step - loss: 202031216.0000\n",
      "Epoch 55/140\n",
      "10/10 [==============================] - 0s 974us/step - loss: 199264528.0000\n",
      "Epoch 56/140\n",
      "10/10 [==============================] - 0s 1ms/step - loss: 196443536.0000\n",
      "Epoch 57/140\n",
      "10/10 [==============================] - 0s 966us/step - loss: 193584096.0000\n",
      "Epoch 58/140\n",
      "10/10 [==============================] - 0s 934us/step - loss: 190706416.0000\n",
      "Epoch 59/140\n",
      "10/10 [==============================] - 0s 1ms/step - loss: 187678000.0000\n",
      "Epoch 60/140\n",
      "10/10 [==============================] - 0s 1ms/step - loss: 184550736.0000\n",
      "Epoch 61/140\n",
      "10/10 [==============================] - 0s 1ms/step - loss: 181186192.0000\n",
      "Epoch 62/140\n",
      "10/10 [==============================] - 0s 1ms/step - loss: 177800064.0000\n",
      "Epoch 63/140\n",
      "10/10 [==============================] - 0s 1ms/step - loss: 174440624.0000\n",
      "Epoch 64/140\n",
      "10/10 [==============================] - 0s 980us/step - loss: 171402272.0000\n",
      "Epoch 65/140\n",
      "10/10 [==============================] - 0s 923us/step - loss: 167984576.0000\n",
      "Epoch 66/140\n",
      "10/10 [==============================] - 0s 716us/step - loss: 164690096.0000\n",
      "Epoch 67/140\n",
      "10/10 [==============================] - 0s 765us/step - loss: 161285216.0000\n",
      "Epoch 68/140\n",
      "10/10 [==============================] - 0s 758us/step - loss: 157973632.0000\n",
      "Epoch 69/140\n",
      "10/10 [==============================] - 0s 696us/step - loss: 154535568.0000\n",
      "Epoch 70/140\n",
      "10/10 [==============================] - 0s 713us/step - loss: 151450304.0000\n",
      "Epoch 71/140\n",
      "10/10 [==============================] - 0s 741us/step - loss: 148229728.0000\n",
      "Epoch 72/140\n",
      "10/10 [==============================] - 0s 737us/step - loss: 144787488.0000\n",
      "Epoch 73/140\n",
      "10/10 [==============================] - 0s 748us/step - loss: 141542832.0000\n",
      "Epoch 74/140\n",
      "10/10 [==============================] - 0s 814us/step - loss: 138479328.0000\n",
      "Epoch 75/140\n",
      "10/10 [==============================] - 0s 845us/step - loss: 135419056.0000\n",
      "Epoch 76/140\n",
      "10/10 [==============================] - 0s 849us/step - loss: 132485104.0000\n",
      "Epoch 77/140\n",
      "10/10 [==============================] - 0s 884us/step - loss: 129771376.0000\n",
      "Epoch 78/140\n",
      "10/10 [==============================] - 0s 1ms/step - loss: 126966912.0000\n",
      "Epoch 79/140\n",
      "10/10 [==============================] - 0s 930us/step - loss: 124200720.0000\n",
      "Epoch 80/140\n",
      "10/10 [==============================] - 0s 959us/step - loss: 121490064.0000\n",
      "Epoch 81/140\n",
      "10/10 [==============================] - 0s 916us/step - loss: 118761272.0000\n",
      "Epoch 82/140\n",
      "10/10 [==============================] - 0s 925us/step - loss: 116166416.0000\n",
      "Epoch 83/140\n",
      "10/10 [==============================] - 0s 1ms/step - loss: 113323176.0000\n",
      "Epoch 84/140\n",
      "10/10 [==============================] - 0s 1ms/step - loss: 111092520.0000\n",
      "Epoch 85/140\n",
      "10/10 [==============================] - 0s 1ms/step - loss: 108550896.0000\n",
      "Epoch 86/140\n",
      "10/10 [==============================] - 0s 1ms/step - loss: 106157896.0000\n",
      "Epoch 87/140\n",
      "10/10 [==============================] - 0s 886us/step - loss: 103707928.0000\n",
      "Epoch 88/140\n",
      "10/10 [==============================] - 0s 976us/step - loss: 101562272.0000\n",
      "Epoch 89/140\n",
      "10/10 [==============================] - 0s 1ms/step - loss: 99394000.0000\n",
      "Epoch 90/140\n",
      "10/10 [==============================] - 0s 980us/step - loss: 97343288.0000\n",
      "Epoch 91/140\n",
      "10/10 [==============================] - 0s 974us/step - loss: 95109792.0000\n",
      "Epoch 92/140\n",
      "10/10 [==============================] - 0s 892us/step - loss: 93183264.0000\n",
      "Epoch 93/140\n",
      "10/10 [==============================] - 0s 1ms/step - loss: 91173600.0000\n",
      "Epoch 94/140\n",
      "10/10 [==============================] - 0s 936us/step - loss: 89205984.0000\n",
      "Epoch 95/140\n",
      "10/10 [==============================] - 0s 917us/step - loss: 87277648.0000\n",
      "Epoch 96/140\n",
      "10/10 [==============================] - 0s 2ms/step - loss: 85351392.0000\n",
      "Epoch 97/140\n",
      "10/10 [==============================] - 0s 1ms/step - loss: 83500744.0000\n",
      "Epoch 98/140\n",
      "10/10 [==============================] - 0s 1ms/step - loss: 81899032.0000\n",
      "Epoch 99/140\n",
      "10/10 [==============================] - 0s 973us/step - loss: 80246272.0000\n",
      "Epoch 100/140\n",
      "10/10 [==============================] - 0s 946us/step - loss: 78577896.0000\n",
      "Epoch 101/140\n",
      "10/10 [==============================] - 0s 1ms/step - loss: 77019312.0000\n",
      "Epoch 102/140\n",
      "10/10 [==============================] - 0s 924us/step - loss: 75603856.0000\n",
      "Epoch 103/140\n",
      "10/10 [==============================] - 0s 1ms/step - loss: 74117280.0000\n",
      "Epoch 104/140\n",
      "10/10 [==============================] - 0s 957us/step - loss: 72798104.0000\n",
      "Epoch 105/140\n",
      "10/10 [==============================] - 0s 795us/step - loss: 71485128.0000\n",
      "Epoch 106/140\n",
      "10/10 [==============================] - 0s 928us/step - loss: 70154928.0000\n",
      "Epoch 107/140\n",
      "10/10 [==============================] - 0s 953us/step - loss: 69053984.0000\n",
      "Epoch 108/140\n",
      "10/10 [==============================] - 0s 892us/step - loss: 67871384.0000\n",
      "Epoch 109/140\n",
      "10/10 [==============================] - 0s 3ms/step - loss: 66635124.0000\n",
      "Epoch 110/140\n",
      "10/10 [==============================] - 0s 910us/step - loss: 65411136.0000\n",
      "Epoch 111/140\n",
      "10/10 [==============================] - 0s 1ms/step - loss: 64123548.0000\n",
      "Epoch 112/140\n",
      "10/10 [==============================] - 0s 1ms/step - loss: 62977332.0000\n",
      "Epoch 113/140\n",
      "10/10 [==============================] - 0s 1ms/step - loss: 61986648.0000\n",
      "Epoch 114/140\n",
      "10/10 [==============================] - 0s 1ms/step - loss: 61010636.0000\n",
      "Epoch 115/140\n",
      "10/10 [==============================] - 0s 1ms/step - loss: 60163612.0000\n",
      "Epoch 116/140\n",
      "10/10 [==============================] - 0s 951us/step - loss: 59379564.0000\n",
      "Epoch 117/140\n",
      "10/10 [==============================] - 0s 1ms/step - loss: 58636964.0000\n",
      "Epoch 118/140\n",
      "10/10 [==============================] - 0s 895us/step - loss: 57872896.0000\n",
      "Epoch 119/140\n",
      "10/10 [==============================] - 0s 873us/step - loss: 57171672.0000\n",
      "Epoch 120/140\n",
      "10/10 [==============================] - 0s 998us/step - loss: 56407396.0000\n",
      "Epoch 121/140\n",
      "10/10 [==============================] - 0s 1ms/step - loss: 55682944.0000\n",
      "Epoch 122/140\n",
      "10/10 [==============================] - 0s 880us/step - loss: 54921004.0000\n",
      "Epoch 123/140\n",
      "10/10 [==============================] - 0s 1ms/step - loss: 54286720.0000\n",
      "Epoch 124/140\n",
      "10/10 [==============================] - 0s 980us/step - loss: 53625460.0000\n",
      "Epoch 125/140\n",
      "10/10 [==============================] - 0s 1ms/step - loss: 52904468.0000\n",
      "Epoch 126/140\n",
      "10/10 [==============================] - 0s 1ms/step - loss: 52129956.0000\n",
      "Epoch 127/140\n",
      "10/10 [==============================] - 0s 1ms/step - loss: 51466968.0000\n",
      "Epoch 128/140\n",
      "10/10 [==============================] - 0s 906us/step - loss: 50877816.0000\n",
      "Epoch 129/140\n",
      "10/10 [==============================] - 0s 931us/step - loss: 50371392.0000\n",
      "Epoch 130/140\n",
      "10/10 [==============================] - 0s 1ms/step - loss: 49623540.0000\n",
      "Epoch 131/140\n",
      "10/10 [==============================] - 0s 1ms/step - loss: 49067860.0000\n",
      "Epoch 132/140\n",
      "10/10 [==============================] - 0s 1ms/step - loss: 48519580.0000\n",
      "Epoch 133/140\n",
      "10/10 [==============================] - 0s 891us/step - loss: 48076164.0000\n",
      "Epoch 134/140\n",
      "10/10 [==============================] - 0s 935us/step - loss: 47572280.0000\n",
      "Epoch 135/140\n",
      "10/10 [==============================] - 0s 1ms/step - loss: 47092820.0000\n",
      "Epoch 136/140\n",
      "10/10 [==============================] - 0s 1ms/step - loss: 46695324.0000\n",
      "Epoch 137/140\n",
      "10/10 [==============================] - 0s 1ms/step - loss: 46289544.0000\n",
      "Epoch 138/140\n",
      "10/10 [==============================] - 0s 990us/step - loss: 45895268.0000\n",
      "Epoch 139/140\n",
      "10/10 [==============================] - 0s 883us/step - loss: 45518492.0000\n",
      "Epoch 140/140\n",
      "10/10 [==============================] - 0s 879us/step - loss: 45156888.0000\n",
      "3/3 [==============================] - 0s 1ms/step\n"
     ]
    },
    {
     "data": {
      "text/plain": "<Figure size 640x480 with 1 Axes>",
      "image/png": "[encoded data removed]"
     },
     "metadata": {},
     "output_type": "display_data"
    }
   ],
   "source": [
    "X_train_preprocessed = preprocessor.fit_transform(X_train, y_train)\n",
    "X_test_preprocessed = preprocessor.transform(X_test)\n",
    "\n",
    "y_train_preprocessed = np.array(y_train, dtype=np.float32)\n",
    "y_test_preprocessed = np.array(y_test, dtype=np.float32)\n",
    "\n",
    "nn = model = tf.keras.Sequential([\n",
    "    tf.keras.layers.Dense(64, activation='relu', input_shape=(X_train_preprocessed.shape[1],)),\n",
    "    tf.keras.layers.Dense(32, activation='relu'),\n",
    "    tf.keras.layers.Dense(1)  # Output layer with 1 neuron for regression\n",
    "])\n",
    "nn.compile(optimizer='adam', loss='mean_squared_error')\n",
    "history = nn.fit(X_train_preprocessed, y_train_preprocessed, epochs=140, batch_size=32, verbose=1)\n",
    "prediction = nn.predict(X_test_preprocessed)\n",
    "\n",
    "plt.plot(history.history['loss'], label='Train Loss')\n",
    "plt.xlabel('Epoch')\n",
    "plt.ylabel('Mean Squared Error')\n",
    "plt.legend()\n",
    "plt.show()"
   ],
   "metadata": {
    "collapsed": false,
    "ExecuteTime": {
     "end_time": "2024-01-27T16:14:44.227399746Z",
     "start_time": "2024-01-27T16:14:41.415368262Z"
    }
   },
   "id": "5d24b0465c3f64de",
   "execution_count": 14
  },
  {
   "cell_type": "code",
   "outputs": [
    {
     "name": "stdout",
     "output_type": "stream",
     "text": [
      "R2 score : 0.5599514315538976\n",
      "MAE : 4426.42138671875\n",
      "MSE : 65939248.0\n",
      "RMSE : 8120.29833984375\n"
     ]
    },
    {
     "data": {
      "text/plain": "                                           Model Name  R2 score           MAE  \\\n0   (ExtraTreeRegressor(random_state=543101027), E...  0.869293   2439.636937   \n1                             DecisionTreeRegressor()  0.858614   2628.220721   \n2   (DecisionTreeRegressor(max_features=1.0, rando...  0.853722   2609.106232   \n3   XGBRegressor(base_score=None, booster=None, ca...  0.853304   2647.418477   \n4                                             Lasso()  0.829314   2638.498588   \n5                                             Ridge()  0.825983   2747.518221   \n6   ([DecisionTreeRegressor(criterion='friedman_ms...  0.810560   2805.575721   \n7                               KNeighborsRegressor()  0.800782   3177.554054   \n8                                     LGBMRegressor()  0.738694   3600.264346   \n12  <keras.src.engine.sequential.Sequential object...  0.559951   4426.421387   \n9                                SVR(kernel='linear') -0.240475   8202.314980   \n10                                 LinearRegression() -0.544206   4265.138575   \n11  MLPRegressor(hidden_layer_sizes=(10,), max_ite... -1.284131  13920.409558   \n\n             MSE          RMSE  \n0   1.958591e+07   4425.596867  \n1   2.118611e+07   4602.837407  \n2   2.191915e+07   4681.788803  \n3   2.198176e+07   4688.471036  \n4   2.557656e+07   5057.327707  \n5   2.607560e+07   5106.427460  \n6   2.838666e+07   5327.913739  \n7   2.985191e+07   5463.690121  \n8   3.915545e+07   6257.431536  \n12  6.593925e+07   8120.298340  \n9   1.858794e+08  13633.759928  \n10  2.313921e+08  15211.577968  \n11  3.422665e+08  18500.444944  ",
      "text/html": "<div>\n<style scoped>\n    .dataframe tbody tr th:only-of-type {\n        vertical-align: middle;\n    }\n\n    .dataframe tbody tr th {\n        vertical-align: top;\n    }\n\n    .dataframe thead th {\n        text-align: right;\n    }\n</style>\n<table border=\"1\" class=\"dataframe\">\n  <thead>\n    <tr style=\"text-align: right;\">\n      <th></th>\n      <th>Model Name</th>\n      <th>R2 score</th>\n      <th>MAE</th>\n      <th>MSE</th>\n      <th>RMSE</th>\n    </tr>\n  </thead>\n  <tbody>\n    <tr>\n      <th>0</th>\n      <td>(ExtraTreeRegressor(random_state=543101027), E...</td>\n      <td>0.869293</td>\n      <td>2439.636937</td>\n      <td>1.958591e+07</td>\n      <td>4425.596867</td>\n    </tr>\n    <tr>\n      <th>1</th>\n      <td>DecisionTreeRegressor()</td>\n      <td>0.858614</td>\n      <td>2628.220721</td>\n      <td>2.118611e+07</td>\n      <td>4602.837407</td>\n    </tr>\n    <tr>\n      <th>2</th>\n      <td>(DecisionTreeRegressor(max_features=1.0, rando...</td>\n      <td>0.853722</td>\n      <td>2609.106232</td>\n      <td>2.191915e+07</td>\n      <td>4681.788803</td>\n    </tr>\n    <tr>\n      <th>3</th>\n      <td>XGBRegressor(base_score=None, booster=None, ca...</td>\n      <td>0.853304</td>\n      <td>2647.418477</td>\n      <td>2.198176e+07</td>\n      <td>4688.471036</td>\n    </tr>\n    <tr>\n      <th>4</th>\n      <td>Lasso()</td>\n      <td>0.829314</td>\n      <td>2638.498588</td>\n      <td>2.557656e+07</td>\n      <td>5057.327707</td>\n    </tr>\n    <tr>\n      <th>5</th>\n      <td>Ridge()</td>\n      <td>0.825983</td>\n      <td>2747.518221</td>\n      <td>2.607560e+07</td>\n      <td>5106.427460</td>\n    </tr>\n    <tr>\n      <th>6</th>\n      <td>([DecisionTreeRegressor(criterion='friedman_ms...</td>\n      <td>0.810560</td>\n      <td>2805.575721</td>\n      <td>2.838666e+07</td>\n      <td>5327.913739</td>\n    </tr>\n    <tr>\n      <th>7</th>\n      <td>KNeighborsRegressor()</td>\n      <td>0.800782</td>\n      <td>3177.554054</td>\n      <td>2.985191e+07</td>\n      <td>5463.690121</td>\n    </tr>\n    <tr>\n      <th>8</th>\n      <td>LGBMRegressor()</td>\n      <td>0.738694</td>\n      <td>3600.264346</td>\n      <td>3.915545e+07</td>\n      <td>6257.431536</td>\n    </tr>\n    <tr>\n      <th>12</th>\n      <td>&lt;keras.src.engine.sequential.Sequential object...</td>\n      <td>0.559951</td>\n      <td>4426.421387</td>\n      <td>6.593925e+07</td>\n      <td>8120.298340</td>\n    </tr>\n    <tr>\n      <th>9</th>\n      <td>SVR(kernel='linear')</td>\n      <td>-0.240475</td>\n      <td>8202.314980</td>\n      <td>1.858794e+08</td>\n      <td>13633.759928</td>\n    </tr>\n    <tr>\n      <th>10</th>\n      <td>LinearRegression()</td>\n      <td>-0.544206</td>\n      <td>4265.138575</td>\n      <td>2.313921e+08</td>\n      <td>15211.577968</td>\n    </tr>\n    <tr>\n      <th>11</th>\n      <td>MLPRegressor(hidden_layer_sizes=(10,), max_ite...</td>\n      <td>-1.284131</td>\n      <td>13920.409558</td>\n      <td>3.422665e+08</td>\n      <td>18500.444944</td>\n    </tr>\n  </tbody>\n</table>\n</div>"
     },
     "metadata": {},
     "output_type": "display_data"
    }
   ],
   "source": [
    "r2score = r2_score(y_test_preprocessed, prediction)\n",
    "mae = mean_absolute_error(y_test_preprocessed, prediction)\n",
    "mse = mean_squared_error(y_test_preprocessed, prediction)\n",
    "rmse = np.sqrt(mean_squared_error(y_test_preprocessed, prediction))\n",
    "print('R2 score : {}'.format(r2score))\n",
    "print('MAE : {}'.format(mae))\n",
    "print('MSE : {}'.format(mse))\n",
    "print('RMSE : {}'.format(rmse))\n",
    "\n",
    "model_df = pd.DataFrame({'Model Name': [model], 'R2 score': [r2score], 'MAE': [mae], 'MSE': [mse], 'RMSE': [rmse]})\n",
    "results = pd.concat([results, model_df], ignore_index=True)\n",
    "results = results.sort_values(by='RMSE', ascending=True)\n",
    "display(results)"
   ],
   "metadata": {
    "collapsed": false,
    "ExecuteTime": {
     "end_time": "2024-01-27T16:14:44.290131057Z",
     "start_time": "2024-01-27T16:14:44.208555870Z"
    }
   },
   "id": "ded8a91049d93583",
   "execution_count": 15
  },
  {
   "cell_type": "markdown",
   "source": [
    "# Final model"
   ],
   "metadata": {
    "collapsed": false
   },
   "id": "d6ce140c1fa8a07f"
  },
  {
   "cell_type": "code",
   "outputs": [
    {
     "data": {
      "text/plain": "Pipeline(steps=[('preprocessor',\n                 ColumnTransformer(transformers=[('num',\n                                                  Pipeline(steps=[('imputer',\n                                                                   SimpleImputer(strategy='median')),\n                                                                  ('scaler',\n                                                                   StandardScaler())]),\n                                                  ['Water Resistance',\n                                                   'Case Diameter (mm)',\n                                                   'Case Thickness (mm)',\n                                                   'Band Width (mm)',\n                                                   'Power Reserve']),\n                                                 ('cat',\n                                                  Pipeline(steps=[('lowercase',\n                                                                   LowercaseTransformer()),\n                                                                  ('imputer',\n                                                                   SimpleImputer(strategy='constant')),\n                                                                  ('encoder',\n                                                                   OneHotEncoder(handle_unknown='ignore')),\n                                                                  ('selector',\n                                                                   SelectPercentile(percentile=50,\n                                                                                    score_func=<function chi2 at 0x7fa02e028ca0>))]),\n                                                  ['Brand', 'Model',\n                                                   'Case Material',\n                                                   'Strap Material',\n                                                   'Movement Type',\n                                                   'Dial Color',\n                                                   'Crystal Material',\n                                                   'Complications'])])),\n                ('model', ExtraTreesRegressor())])",
      "text/html": "<style>#sk-container-id-1 {color: black;}#sk-container-id-1 pre{padding: 0;}#sk-container-id-1 div.sk-toggleable {background-color: white;}#sk-container-id-1 label.sk-toggleable__label {cursor: pointer;display: block;width: 100%;margin-bottom: 0;padding: 0.3em;box-sizing: border-box;text-align: center;}#sk-container-id-1 label.sk-toggleable__label-arrow:before {content: \"▸\";float: left;margin-right: 0.25em;color: #696969;}#sk-container-id-1 label.sk-toggleable__label-arrow:hover:before {color: black;}#sk-container-id-1 div.sk-estimator:hover label.sk-toggleable__label-arrow:before {color: black;}#sk-container-id-1 div.sk-toggleable__content {max-height: 0;max-width: 0;overflow: hidden;text-align: left;background-color: #f0f8ff;}#sk-container-id-1 div.sk-toggleable__content pre {margin: 0.2em;color: black;border-radius: 0.25em;background-color: #f0f8ff;}#sk-container-id-1 input.sk-toggleable__control:checked~div.sk-toggleable__content {max-height: 200px;max-width: 100%;overflow: auto;}#sk-container-id-1 input.sk-toggleable__control:checked~label.sk-toggleable__label-arrow:before {content: \"▾\";}#sk-container-id-1 div.sk-estimator input.sk-toggleable__control:checked~label.sk-toggleable__label {background-color: #d4ebff;}#sk-container-id-1 div.sk-label input.sk-toggleable__control:checked~label.sk-toggleable__label {background-color: #d4ebff;}#sk-container-id-1 input.sk-hidden--visually {border: 0;clip: rect(1px 1px 1px 1px);clip: rect(1px, 1px, 1px, 1px);height: 1px;margin: -1px;overflow: hidden;padding: 0;position: absolute;width: 1px;}#sk-container-id-1 div.sk-estimator {font-family: monospace;background-color: #f0f8ff;border: 1px dotted black;border-radius: 0.25em;box-sizing: border-box;margin-bottom: 0.5em;}#sk-container-id-1 div.sk-estimator:hover {background-color: #d4ebff;}#sk-container-id-1 div.sk-parallel-item::after {content: \"\";width: 100%;border-bottom: 1px solid gray;flex-grow: 1;}#sk-container-id-1 div.sk-label:hover label.sk-toggleable__label {background-color: #d4ebff;}#sk-container-id-1 div.sk-serial::before {content: \"\";position: absolute;border-left: 1px solid gray;box-sizing: border-box;top: 0;bottom: 0;left: 50%;z-index: 0;}#sk-container-id-1 div.sk-serial {display: flex;flex-direction: column;align-items: center;background-color: white;padding-right: 0.2em;padding-left: 0.2em;position: relative;}#sk-container-id-1 div.sk-item {position: relative;z-index: 1;}#sk-container-id-1 div.sk-parallel {display: flex;align-items: stretch;justify-content: center;background-color: white;position: relative;}#sk-container-id-1 div.sk-item::before, #sk-container-id-1 div.sk-parallel-item::before {content: \"\";position: absolute;border-left: 1px solid gray;box-sizing: border-box;top: 0;bottom: 0;left: 50%;z-index: -1;}#sk-container-id-1 div.sk-parallel-item {display: flex;flex-direction: column;z-index: 1;position: relative;background-color: white;}#sk-container-id-1 div.sk-parallel-item:first-child::after {align-self: flex-end;width: 50%;}#sk-container-id-1 div.sk-parallel-item:last-child::after {align-self: flex-start;width: 50%;}#sk-container-id-1 div.sk-parallel-item:only-child::after {width: 0;}#sk-container-id-1 div.sk-dashed-wrapped {border: 1px dashed gray;margin: 0 0.4em 0.5em 0.4em;box-sizing: border-box;padding-bottom: 0.4em;background-color: white;}#sk-container-id-1 div.sk-label label {font-family: monospace;font-weight: bold;display: inline-block;line-height: 1.2em;}#sk-container-id-1 div.sk-label-container {text-align: center;}#sk-container-id-1 div.sk-container {/* jupyter's `normalize.less` sets `[hidden] { display: none; }` but bootstrap.min.css set `[hidden] { display: none !important; }` so we also need the `!important` here to be able to override the default hidden behavior on the sphinx rendered scikit-learn.org. See: https://github.com/scikit-learn/scikit-learn/issues/21755 */display: inline-block !important;position: relative;}#sk-container-id-1 div.sk-text-repr-fallback {display: none;}</style><div id=\"sk-container-id-1\" class=\"sk-top-container\"><div class=\"sk-text-repr-fallback\"><pre>Pipeline(steps=[(&#x27;preprocessor&#x27;,\n                 ColumnTransformer(transformers=[(&#x27;num&#x27;,\n                                                  Pipeline(steps=[(&#x27;imputer&#x27;,\n                                                                   SimpleImputer(strategy=&#x27;median&#x27;)),\n                                                                  (&#x27;scaler&#x27;,\n                                                                   StandardScaler())]),\n                                                  [&#x27;Water Resistance&#x27;,\n                                                   &#x27;Case Diameter (mm)&#x27;,\n                                                   &#x27;Case Thickness (mm)&#x27;,\n                                                   &#x27;Band Width (mm)&#x27;,\n                                                   &#x27;Power Reserve&#x27;]),\n                                                 (&#x27;cat&#x27;,\n                                                  Pipeline(steps=[(&#x27;lowercase&#x27;,\n                                                                   LowercaseTransformer()),\n                                                                  (&#x27;imputer&#x27;,\n                                                                   SimpleImputer(strategy=&#x27;constant&#x27;)),\n                                                                  (&#x27;encoder&#x27;,\n                                                                   OneHotEncoder(handle_unknown=&#x27;ignore&#x27;)),\n                                                                  (&#x27;selector&#x27;,\n                                                                   SelectPercentile(percentile=50,\n                                                                                    score_func=&lt;function chi2 at 0x7fa02e028ca0&gt;))]),\n                                                  [&#x27;Brand&#x27;, &#x27;Model&#x27;,\n                                                   &#x27;Case Material&#x27;,\n                                                   &#x27;Strap Material&#x27;,\n                                                   &#x27;Movement Type&#x27;,\n                                                   &#x27;Dial Color&#x27;,\n                                                   &#x27;Crystal Material&#x27;,\n                                                   &#x27;Complications&#x27;])])),\n                (&#x27;model&#x27;, ExtraTreesRegressor())])</pre><b>In a Jupyter environment, please rerun this cell to show the HTML representation or trust the notebook. <br />On GitHub, the HTML representation is unable to render, please try loading this page with nbviewer.org.</b></div><div class=\"sk-container\" hidden><div class=\"sk-item sk-dashed-wrapped\"><div class=\"sk-label-container\"><div class=\"sk-label sk-toggleable\"><input class=\"sk-toggleable__control sk-hidden--visually\" id=\"sk-estimator-id-1\" type=\"checkbox\" ><label for=\"sk-estimator-id-1\" class=\"sk-toggleable__label sk-toggleable__label-arrow\">Pipeline</label><div class=\"sk-toggleable__content\"><pre>Pipeline(steps=[(&#x27;preprocessor&#x27;,\n                 ColumnTransformer(transformers=[(&#x27;num&#x27;,\n                                                  Pipeline(steps=[(&#x27;imputer&#x27;,\n                                                                   SimpleImputer(strategy=&#x27;median&#x27;)),\n                                                                  (&#x27;scaler&#x27;,\n                                                                   StandardScaler())]),\n                                                  [&#x27;Water Resistance&#x27;,\n                                                   &#x27;Case Diameter (mm)&#x27;,\n                                                   &#x27;Case Thickness (mm)&#x27;,\n                                                   &#x27;Band Width (mm)&#x27;,\n                                                   &#x27;Power Reserve&#x27;]),\n                                                 (&#x27;cat&#x27;,\n                                                  Pipeline(steps=[(&#x27;lowercase&#x27;,\n                                                                   LowercaseTransformer()),\n                                                                  (&#x27;imputer&#x27;,\n                                                                   SimpleImputer(strategy=&#x27;constant&#x27;)),\n                                                                  (&#x27;encoder&#x27;,\n                                                                   OneHotEncoder(handle_unknown=&#x27;ignore&#x27;)),\n                                                                  (&#x27;selector&#x27;,\n                                                                   SelectPercentile(percentile=50,\n                                                                                    score_func=&lt;function chi2 at 0x7fa02e028ca0&gt;))]),\n                                                  [&#x27;Brand&#x27;, &#x27;Model&#x27;,\n                                                   &#x27;Case Material&#x27;,\n                                                   &#x27;Strap Material&#x27;,\n                                                   &#x27;Movement Type&#x27;,\n                                                   &#x27;Dial Color&#x27;,\n                                                   &#x27;Crystal Material&#x27;,\n                                                   &#x27;Complications&#x27;])])),\n                (&#x27;model&#x27;, ExtraTreesRegressor())])</pre></div></div></div><div class=\"sk-serial\"><div class=\"sk-item sk-dashed-wrapped\"><div class=\"sk-label-container\"><div class=\"sk-label sk-toggleable\"><input class=\"sk-toggleable__control sk-hidden--visually\" id=\"sk-estimator-id-2\" type=\"checkbox\" ><label for=\"sk-estimator-id-2\" class=\"sk-toggleable__label sk-toggleable__label-arrow\">preprocessor: ColumnTransformer</label><div class=\"sk-toggleable__content\"><pre>ColumnTransformer(transformers=[(&#x27;num&#x27;,\n                                 Pipeline(steps=[(&#x27;imputer&#x27;,\n                                                  SimpleImputer(strategy=&#x27;median&#x27;)),\n                                                 (&#x27;scaler&#x27;, StandardScaler())]),\n                                 [&#x27;Water Resistance&#x27;, &#x27;Case Diameter (mm)&#x27;,\n                                  &#x27;Case Thickness (mm)&#x27;, &#x27;Band Width (mm)&#x27;,\n                                  &#x27;Power Reserve&#x27;]),\n                                (&#x27;cat&#x27;,\n                                 Pipeline(steps=[(&#x27;lowercase&#x27;,\n                                                  LowercaseTransformer()),\n                                                 (&#x27;imputer&#x27;,\n                                                  SimpleImputer(strategy=&#x27;constant&#x27;)),\n                                                 (&#x27;encoder&#x27;,\n                                                  OneHotEncoder(handle_unknown=&#x27;ignore&#x27;)),\n                                                 (&#x27;selector&#x27;,\n                                                  SelectPercentile(percentile=50,\n                                                                   score_func=&lt;function chi2 at 0x7fa02e028ca0&gt;))]),\n                                 [&#x27;Brand&#x27;, &#x27;Model&#x27;, &#x27;Case Material&#x27;,\n                                  &#x27;Strap Material&#x27;, &#x27;Movement Type&#x27;,\n                                  &#x27;Dial Color&#x27;, &#x27;Crystal Material&#x27;,\n                                  &#x27;Complications&#x27;])])</pre></div></div></div><div class=\"sk-parallel\"><div class=\"sk-parallel-item\"><div class=\"sk-item\"><div class=\"sk-label-container\"><div class=\"sk-label sk-toggleable\"><input class=\"sk-toggleable__control sk-hidden--visually\" id=\"sk-estimator-id-3\" type=\"checkbox\" ><label for=\"sk-estimator-id-3\" class=\"sk-toggleable__label sk-toggleable__label-arrow\">num</label><div class=\"sk-toggleable__content\"><pre>[&#x27;Water Resistance&#x27;, &#x27;Case Diameter (mm)&#x27;, &#x27;Case Thickness (mm)&#x27;, &#x27;Band Width (mm)&#x27;, &#x27;Power Reserve&#x27;]</pre></div></div></div><div class=\"sk-serial\"><div class=\"sk-item\"><div class=\"sk-serial\"><div class=\"sk-item\"><div class=\"sk-estimator sk-toggleable\"><input class=\"sk-toggleable__control sk-hidden--visually\" id=\"sk-estimator-id-4\" type=\"checkbox\" ><label for=\"sk-estimator-id-4\" class=\"sk-toggleable__label sk-toggleable__label-arrow\">SimpleImputer</label><div class=\"sk-toggleable__content\"><pre>SimpleImputer(strategy=&#x27;median&#x27;)</pre></div></div></div><div class=\"sk-item\"><div class=\"sk-estimator sk-toggleable\"><input class=\"sk-toggleable__control sk-hidden--visually\" id=\"sk-estimator-id-5\" type=\"checkbox\" ><label for=\"sk-estimator-id-5\" class=\"sk-toggleable__label sk-toggleable__label-arrow\">StandardScaler</label><div class=\"sk-toggleable__content\"><pre>StandardScaler()</pre></div></div></div></div></div></div></div></div><div class=\"sk-parallel-item\"><div class=\"sk-item\"><div class=\"sk-label-container\"><div class=\"sk-label sk-toggleable\"><input class=\"sk-toggleable__control sk-hidden--visually\" id=\"sk-estimator-id-6\" type=\"checkbox\" ><label for=\"sk-estimator-id-6\" class=\"sk-toggleable__label sk-toggleable__label-arrow\">cat</label><div class=\"sk-toggleable__content\"><pre>[&#x27;Brand&#x27;, &#x27;Model&#x27;, &#x27;Case Material&#x27;, &#x27;Strap Material&#x27;, &#x27;Movement Type&#x27;, &#x27;Dial Color&#x27;, &#x27;Crystal Material&#x27;, &#x27;Complications&#x27;]</pre></div></div></div><div class=\"sk-serial\"><div class=\"sk-item\"><div class=\"sk-serial\"><div class=\"sk-item\"><div class=\"sk-estimator sk-toggleable\"><input class=\"sk-toggleable__control sk-hidden--visually\" id=\"sk-estimator-id-7\" type=\"checkbox\" ><label for=\"sk-estimator-id-7\" class=\"sk-toggleable__label sk-toggleable__label-arrow\">LowercaseTransformer</label><div class=\"sk-toggleable__content\"><pre>LowercaseTransformer()</pre></div></div></div><div class=\"sk-item\"><div class=\"sk-estimator sk-toggleable\"><input class=\"sk-toggleable__control sk-hidden--visually\" id=\"sk-estimator-id-8\" type=\"checkbox\" ><label for=\"sk-estimator-id-8\" class=\"sk-toggleable__label sk-toggleable__label-arrow\">SimpleImputer</label><div class=\"sk-toggleable__content\"><pre>SimpleImputer(strategy=&#x27;constant&#x27;)</pre></div></div></div><div class=\"sk-item\"><div class=\"sk-estimator sk-toggleable\"><input class=\"sk-toggleable__control sk-hidden--visually\" id=\"sk-estimator-id-9\" type=\"checkbox\" ><label for=\"sk-estimator-id-9\" class=\"sk-toggleable__label sk-toggleable__label-arrow\">OneHotEncoder</label><div class=\"sk-toggleable__content\"><pre>OneHotEncoder(handle_unknown=&#x27;ignore&#x27;)</pre></div></div></div><div class=\"sk-item\"><div class=\"sk-estimator sk-toggleable\"><input class=\"sk-toggleable__control sk-hidden--visually\" id=\"sk-estimator-id-10\" type=\"checkbox\" ><label for=\"sk-estimator-id-10\" class=\"sk-toggleable__label sk-toggleable__label-arrow\">SelectPercentile</label><div class=\"sk-toggleable__content\"><pre>SelectPercentile(percentile=50, score_func=&lt;function chi2 at 0x7fa02e028ca0&gt;)</pre></div></div></div></div></div></div></div></div></div></div><div class=\"sk-item\"><div class=\"sk-estimator sk-toggleable\"><input class=\"sk-toggleable__control sk-hidden--visually\" id=\"sk-estimator-id-11\" type=\"checkbox\" ><label for=\"sk-estimator-id-11\" class=\"sk-toggleable__label sk-toggleable__label-arrow\">ExtraTreesRegressor</label><div class=\"sk-toggleable__content\"><pre>ExtraTreesRegressor()</pre></div></div></div></div></div></div></div>"
     },
     "execution_count": 16,
     "metadata": {},
     "output_type": "execute_result"
    }
   ],
   "source": [
    "pipeline = Pipeline(\n",
    "    steps=[(\"preprocessor\", preprocessor), (\"model\", etree)]\n",
    ")\n",
    "pipeline.fit(X, y)"
   ],
   "metadata": {
    "collapsed": false,
    "ExecuteTime": {
     "end_time": "2024-01-27T16:14:44.558223113Z",
     "start_time": "2024-01-27T16:14:44.275622899Z"
    }
   },
   "id": "efdd57ca",
   "execution_count": 16
  },
  {
   "cell_type": "code",
   "execution_count": 17,
   "outputs": [
    {
     "data": {
      "text/plain": "['model.joblib']"
     },
     "execution_count": 17,
     "metadata": {},
     "output_type": "execute_result"
    }
   ],
   "source": [
    "joblib.dump(pipeline, \"model.joblib\")"
   ],
   "metadata": {
    "collapsed": false,
    "ExecuteTime": {
     "end_time": "2024-01-27T16:14:44.602988245Z",
     "start_time": "2024-01-27T16:14:44.559073240Z"
    }
   },
   "id": "7ad564397603d6dd"
  },
  {
   "cell_type": "code",
   "execution_count": 18,
   "outputs": [
    {
     "data": {
      "text/plain": "['model_column_names.joblib']"
     },
     "execution_count": 18,
     "metadata": {},
     "output_type": "execute_result"
    }
   ],
   "source": [
    "joblib.dump(list(X.columns), 'model_column_names.joblib')"
   ],
   "metadata": {
    "collapsed": false,
    "ExecuteTime": {
     "end_time": "2024-01-27T16:14:44.604125201Z",
     "start_time": "2024-01-27T16:14:44.600391213Z"
    }
   },
   "id": "1ccaa4f1833d3352"
  },
  {
   "cell_type": "code",
   "execution_count": null,
   "outputs": [],
   "source": [],
   "metadata": {
    "collapsed": false
   },
   "id": "86f37e82e7f8907c"
  }
 ],
 "metadata": {
  "kernelspec": {
   "display_name": "Python 3",
   "language": "python",
   "name": "python3"
  },
  "language_info": {
   "codemirror_mode": {
    "name": "ipython",
    "version": 3
   },
   "file_extension": ".py",
   "mimetype": "text/x-python",
   "name": "python",
   "nbconvert_exporter": "python",
   "pygments_lexer": "ipython3",
   "version": "3.7.12"
  },
  "papermill": {
   "default_parameters": {},
   "duration": 13.099859,
   "end_time": "2023-03-11T13:04:16.886383",
   "environment_variables": {},
   "exception": null,
   "input_path": "__notebook__.ipynb",
   "output_path": "__notebook__.ipynb",
   "parameters": {},
   "start_time": "2023-03-11T13:04:03.786524",
   "version": "2.4.0"
  }
 },
 "nbformat": 4,
 "nbformat_minor": 5
}
