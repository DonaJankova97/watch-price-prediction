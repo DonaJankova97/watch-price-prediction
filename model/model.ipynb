{
 "cells": [
  {
   "cell_type": "code",
   "execution_count": 1,
   "id": "1f30cf87",
   "metadata": {
    "execution": {
     "iopub.execute_input": "2023-03-11T13:04:14.132439Z",
     "iopub.status.busy": "2023-03-11T13:04:14.131634Z",
     "iopub.status.idle": "2023-03-11T13:04:15.556009Z",
     "shell.execute_reply": "2023-03-11T13:04:15.554748Z"
    },
    "papermill": {
     "duration": 1.433144,
     "end_time": "2023-03-11T13:04:15.558817",
     "exception": false,
     "start_time": "2023-03-11T13:04:14.125673",
     "status": "completed"
    },
    "tags": [],
    "ExecuteTime": {
     "end_time": "2024-02-16T17:30:13.518790952Z",
     "start_time": "2024-02-16T17:30:12.062004676Z"
    }
   },
   "outputs": [
    {
     "name": "stderr",
     "output_type": "stream",
     "text": [
      "2024-02-16 18:30:12.288558: I tensorflow/core/util/port.cc:113] oneDNN custom operations are on. You may see slightly different numerical results due to floating-point round-off errors from different computation orders. To turn them off, set the environment variable `TF_ENABLE_ONEDNN_OPTS=0`.\n",
      "2024-02-16 18:30:12.290574: I external/local_tsl/tsl/cuda/cudart_stub.cc:31] Could not find cuda drivers on your machine, GPU will not be used.\n",
      "2024-02-16 18:30:12.314935: E external/local_xla/xla/stream_executor/cuda/cuda_dnn.cc:9261] Unable to register cuDNN factory: Attempting to register factory for plugin cuDNN when one has already been registered\n",
      "2024-02-16 18:30:12.314964: E external/local_xla/xla/stream_executor/cuda/cuda_fft.cc:607] Unable to register cuFFT factory: Attempting to register factory for plugin cuFFT when one has already been registered\n",
      "2024-02-16 18:30:12.315810: E external/local_xla/xla/stream_executor/cuda/cuda_blas.cc:1515] Unable to register cuBLAS factory: Attempting to register factory for plugin cuBLAS when one has already been registered\n",
      "2024-02-16 18:30:12.320350: I external/local_tsl/tsl/cuda/cudart_stub.cc:31] Could not find cuda drivers on your machine, GPU will not be used.\n",
      "2024-02-16 18:30:12.321084: I tensorflow/core/platform/cpu_feature_guard.cc:182] This TensorFlow binary is optimized to use available CPU instructions in performance-critical operations.\n",
      "To enable the following instructions: AVX2 AVX512F AVX512_VNNI FMA, in other operations, rebuild TensorFlow with the appropriate compiler flags.\n",
      "2024-02-16 18:30:12.941786: W tensorflow/compiler/tf2tensorrt/utils/py_utils.cc:38] TF-TRT Warning: Could not find TensorRT\n"
     ]
    }
   ],
   "source": [
    "import numpy as np \n",
    "import pandas as pd\n",
    "import joblib\n",
    "import tensorflow as tf\n",
    "from matplotlib import pyplot as plt\n",
    "\n",
    "from transformer import LowercaseTransformer\n",
    "\n",
    "from sklearn.pipeline import Pipeline\n",
    "from sklearn.compose import ColumnTransformer\n",
    "from sklearn.model_selection import train_test_split\n",
    "from sklearn.preprocessing import StandardScaler\n",
    "from sklearn.preprocessing import OneHotEncoder\n",
    "from sklearn.impute import SimpleImputer\n",
    "from sklearn.metrics import r2_score, mean_absolute_error, mean_squared_error\n",
    "\n",
    "from sklearn.linear_model import LinearRegression, Ridge, Lasso\n",
    "from sklearn.tree import DecisionTreeRegressor\n",
    "from sklearn.ensemble import RandomForestRegressor, ExtraTreesRegressor, GradientBoostingRegressor\n",
    "from xgboost import XGBRegressor\n",
    "import lightgbm as lgb\n",
    "from sklearn.neighbors import KNeighborsRegressor\n",
    "from sklearn.svm import SVR\n",
    "from sklearn.neural_network import MLPRegressor\n",
    "\n",
    "import warnings\n",
    "warnings.filterwarnings(\"ignore\")"
   ]
  },
  {
   "cell_type": "markdown",
   "source": [
    "# Data Preprocessing"
   ],
   "metadata": {
    "collapsed": false
   },
   "id": "6445b7d162804bd0"
  },
  {
   "cell_type": "code",
   "execution_count": 2,
   "outputs": [
    {
     "data": {
      "text/plain": "                   Brand              Model    Case Material   Strap Material  \\\n0                  Rolex         Submariner  Stainless Steel  Stainless Steel   \n1                  Omega          Seamaster         Titanium           Rubber   \n2              Tag Heuer            Carrera  Stainless Steel          Leather   \n3              Breitling          Navitimer  Stainless Steel  Stainless Steel   \n4                Cartier          Tank Solo  Stainless Steel          Leather   \n..                   ...                ...              ...              ...   \n502              Breguet          Classique    18k Rose Gold          Leather   \n503            Blancpain      Fifty Fathoms  Stainless Steel           Fabric   \n504             Longines  Master Collection  Stainless Steel          Leather   \n505  Vacheron Constantin           Overseas  Stainless Steel  Stainless Steel   \n506  Frederique Constant           Classics  Stainless Steel          Leather   \n\n    Movement Type Water Resistance  Case Diameter (mm)  Case Thickness (mm)  \\\n0       Automatic       300 meters                40.0                13.00   \n1       Automatic       600 meters                43.5                14.47   \n2       Automatic       100 meters                41.0                13.00   \n3       Automatic        30 meters                43.0                14.25   \n4          Quartz        30 meters                31.0                 6.05   \n..            ...              ...                 ...                  ...   \n502     Automatic        30 meters                38.5                 8.25   \n503     Automatic       300 meters                45.0                15.50   \n504     Automatic        30 meters                38.5                 9.70   \n505     Automatic       150 meters                41.5                11.00   \n506     Automatic        50 meters                40.0                10.60   \n\n     Band Width (mm) Dial Color Crystal Material Complications Power Reserve  \\\n0               20.0      Black         Sapphire          Date      48 hours   \n1               21.0       Blue         Sapphire          Date      60 hours   \n2               20.0      White         Sapphire   Chronograph      42 hours   \n3               22.0      Black         Sapphire   Chronograph      70 hours   \n4               20.0     Silver         Sapphire           NaN           NaN   \n..               ...        ...              ...           ...           ...   \n502             20.0      White         Sapphire          Date      38 hours   \n503             23.0      Black         Sapphire          Date     120 hours   \n504             20.0       Blue         Sapphire          Date      64 hours   \n505             22.0       Blue         Sapphire          Date      40 hours   \n506             20.0     Silver         Sapphire          Date      38 hours   \n\n    Price (USD)  \n0         9,500  \n1         5,800  \n2         4,200  \n3         7,900  \n4         2,800  \n..          ...  \n502      21,500  \n503      13,500  \n504       1,800  \n505      19,000  \n506       1,200  \n\n[507 rows x 14 columns]",
      "text/html": "<div>\n<style scoped>\n    .dataframe tbody tr th:only-of-type {\n        vertical-align: middle;\n    }\n\n    .dataframe tbody tr th {\n        vertical-align: top;\n    }\n\n    .dataframe thead th {\n        text-align: right;\n    }\n</style>\n<table border=\"1\" class=\"dataframe\">\n  <thead>\n    <tr style=\"text-align: right;\">\n      <th></th>\n      <th>Brand</th>\n      <th>Model</th>\n      <th>Case Material</th>\n      <th>Strap Material</th>\n      <th>Movement Type</th>\n      <th>Water Resistance</th>\n      <th>Case Diameter (mm)</th>\n      <th>Case Thickness (mm)</th>\n      <th>Band Width (mm)</th>\n      <th>Dial Color</th>\n      <th>Crystal Material</th>\n      <th>Complications</th>\n      <th>Power Reserve</th>\n      <th>Price (USD)</th>\n    </tr>\n  </thead>\n  <tbody>\n    <tr>\n      <th>0</th>\n      <td>Rolex</td>\n      <td>Submariner</td>\n      <td>Stainless Steel</td>\n      <td>Stainless Steel</td>\n      <td>Automatic</td>\n      <td>300 meters</td>\n      <td>40.0</td>\n      <td>13.00</td>\n      <td>20.0</td>\n      <td>Black</td>\n      <td>Sapphire</td>\n      <td>Date</td>\n      <td>48 hours</td>\n      <td>9,500</td>\n    </tr>\n    <tr>\n      <th>1</th>\n      <td>Omega</td>\n      <td>Seamaster</td>\n      <td>Titanium</td>\n      <td>Rubber</td>\n      <td>Automatic</td>\n      <td>600 meters</td>\n      <td>43.5</td>\n      <td>14.47</td>\n      <td>21.0</td>\n      <td>Blue</td>\n      <td>Sapphire</td>\n      <td>Date</td>\n      <td>60 hours</td>\n      <td>5,800</td>\n    </tr>\n    <tr>\n      <th>2</th>\n      <td>Tag Heuer</td>\n      <td>Carrera</td>\n      <td>Stainless Steel</td>\n      <td>Leather</td>\n      <td>Automatic</td>\n      <td>100 meters</td>\n      <td>41.0</td>\n      <td>13.00</td>\n      <td>20.0</td>\n      <td>White</td>\n      <td>Sapphire</td>\n      <td>Chronograph</td>\n      <td>42 hours</td>\n      <td>4,200</td>\n    </tr>\n    <tr>\n      <th>3</th>\n      <td>Breitling</td>\n      <td>Navitimer</td>\n      <td>Stainless Steel</td>\n      <td>Stainless Steel</td>\n      <td>Automatic</td>\n      <td>30 meters</td>\n      <td>43.0</td>\n      <td>14.25</td>\n      <td>22.0</td>\n      <td>Black</td>\n      <td>Sapphire</td>\n      <td>Chronograph</td>\n      <td>70 hours</td>\n      <td>7,900</td>\n    </tr>\n    <tr>\n      <th>4</th>\n      <td>Cartier</td>\n      <td>Tank Solo</td>\n      <td>Stainless Steel</td>\n      <td>Leather</td>\n      <td>Quartz</td>\n      <td>30 meters</td>\n      <td>31.0</td>\n      <td>6.05</td>\n      <td>20.0</td>\n      <td>Silver</td>\n      <td>Sapphire</td>\n      <td>NaN</td>\n      <td>NaN</td>\n      <td>2,800</td>\n    </tr>\n    <tr>\n      <th>...</th>\n      <td>...</td>\n      <td>...</td>\n      <td>...</td>\n      <td>...</td>\n      <td>...</td>\n      <td>...</td>\n      <td>...</td>\n      <td>...</td>\n      <td>...</td>\n      <td>...</td>\n      <td>...</td>\n      <td>...</td>\n      <td>...</td>\n      <td>...</td>\n    </tr>\n    <tr>\n      <th>502</th>\n      <td>Breguet</td>\n      <td>Classique</td>\n      <td>18k Rose Gold</td>\n      <td>Leather</td>\n      <td>Automatic</td>\n      <td>30 meters</td>\n      <td>38.5</td>\n      <td>8.25</td>\n      <td>20.0</td>\n      <td>White</td>\n      <td>Sapphire</td>\n      <td>Date</td>\n      <td>38 hours</td>\n      <td>21,500</td>\n    </tr>\n    <tr>\n      <th>503</th>\n      <td>Blancpain</td>\n      <td>Fifty Fathoms</td>\n      <td>Stainless Steel</td>\n      <td>Fabric</td>\n      <td>Automatic</td>\n      <td>300 meters</td>\n      <td>45.0</td>\n      <td>15.50</td>\n      <td>23.0</td>\n      <td>Black</td>\n      <td>Sapphire</td>\n      <td>Date</td>\n      <td>120 hours</td>\n      <td>13,500</td>\n    </tr>\n    <tr>\n      <th>504</th>\n      <td>Longines</td>\n      <td>Master Collection</td>\n      <td>Stainless Steel</td>\n      <td>Leather</td>\n      <td>Automatic</td>\n      <td>30 meters</td>\n      <td>38.5</td>\n      <td>9.70</td>\n      <td>20.0</td>\n      <td>Blue</td>\n      <td>Sapphire</td>\n      <td>Date</td>\n      <td>64 hours</td>\n      <td>1,800</td>\n    </tr>\n    <tr>\n      <th>505</th>\n      <td>Vacheron Constantin</td>\n      <td>Overseas</td>\n      <td>Stainless Steel</td>\n      <td>Stainless Steel</td>\n      <td>Automatic</td>\n      <td>150 meters</td>\n      <td>41.5</td>\n      <td>11.00</td>\n      <td>22.0</td>\n      <td>Blue</td>\n      <td>Sapphire</td>\n      <td>Date</td>\n      <td>40 hours</td>\n      <td>19,000</td>\n    </tr>\n    <tr>\n      <th>506</th>\n      <td>Frederique Constant</td>\n      <td>Classics</td>\n      <td>Stainless Steel</td>\n      <td>Leather</td>\n      <td>Automatic</td>\n      <td>50 meters</td>\n      <td>40.0</td>\n      <td>10.60</td>\n      <td>20.0</td>\n      <td>Silver</td>\n      <td>Sapphire</td>\n      <td>Date</td>\n      <td>38 hours</td>\n      <td>1,200</td>\n    </tr>\n  </tbody>\n</table>\n<p>507 rows × 14 columns</p>\n</div>"
     },
     "execution_count": 2,
     "metadata": {},
     "output_type": "execute_result"
    }
   ],
   "source": [
    "df = pd.read_csv('Luxury watch.csv')\n",
    "df"
   ],
   "metadata": {
    "collapsed": false,
    "ExecuteTime": {
     "end_time": "2024-02-16T17:30:13.537865050Z",
     "start_time": "2024-02-16T17:30:13.519249094Z"
    }
   },
   "id": "5bf91130"
  },
  {
   "cell_type": "markdown",
   "source": [
    "### Make the target column, water resistance and power reserve to be of type float instead of object"
   ],
   "metadata": {
    "collapsed": false
   },
   "id": "9bf454ed1306a359"
  },
  {
   "cell_type": "code",
   "execution_count": 3,
   "outputs": [],
   "source": [
    "df['Price (USD)'] = df['Price (USD)'].apply(lambda x: float(str(x).replace(',','')))\n",
    "\n",
    "df['Water Resistance'] = df['Water Resistance'].apply(lambda x: float(str(x).replace('meters', '')))\n",
    "\n",
    "# Function to convert days to hours\n",
    "def convert_days_to_hours(value):\n",
    "    if pd.notna(value):  # Check if the value is not NaN\n",
    "        if 'days' in value:\n",
    "            days = int(value.split()[0])\n",
    "            return days * 24\n",
    "        elif 'hours' in value:\n",
    "            return int(value.split()[0])\n",
    "        else: return np.nan\n",
    "    else:\n",
    "        return value  # Return NaN if the input is NaN\n",
    "# Apply the function to the 'Power Reserve' column\n",
    "df['Power Reserve'] = df['Power Reserve'].apply(convert_days_to_hours)\n",
    "df['Power Reserve'] = df['Power Reserve'].apply(lambda x: float(str(x).replace('hours', '')))"
   ],
   "metadata": {
    "collapsed": false,
    "ExecuteTime": {
     "end_time": "2024-02-16T17:30:13.672642720Z",
     "start_time": "2024-02-16T17:30:13.535403914Z"
    }
   },
   "id": "182addbb"
  },
  {
   "cell_type": "markdown",
   "source": [
    "### Remove rows that contain nan values"
   ],
   "metadata": {
    "collapsed": false
   },
   "id": "65751da8c1b55e98"
  },
  {
   "cell_type": "code",
   "outputs": [],
   "source": [
    "# df.dropna(inplace=True)\n",
    "df.dropna(subset = ['Price (USD)'], inplace=True)"
   ],
   "metadata": {
    "collapsed": false,
    "ExecuteTime": {
     "end_time": "2024-02-16T17:30:13.985807665Z",
     "start_time": "2024-02-16T17:30:13.983314841Z"
    }
   },
   "id": "2b4e378d",
   "execution_count": 4
  },
  {
   "cell_type": "markdown",
   "source": [
    "### Remove duplicated rows"
   ],
   "metadata": {
    "collapsed": false
   },
   "id": "9331dce90d027844"
  },
  {
   "cell_type": "code",
   "outputs": [],
   "source": [
    "df = df.drop_duplicates()"
   ],
   "metadata": {
    "collapsed": false,
    "ExecuteTime": {
     "end_time": "2024-02-16T17:30:14.515339672Z",
     "start_time": "2024-02-16T17:30:14.501285300Z"
    }
   },
   "id": "e0591293593eeb3c",
   "execution_count": 5
  },
  {
   "cell_type": "markdown",
   "source": [
    "### Remove outliers"
   ],
   "metadata": {
    "collapsed": false
   },
   "id": "28cec884b2d73362"
  },
  {
   "cell_type": "code",
   "outputs": [],
   "source": [
    "df = df.drop(df[df[\"Power Reserve\"] > 1000].index)"
   ],
   "metadata": {
    "collapsed": false,
    "ExecuteTime": {
     "end_time": "2024-02-16T17:30:15.055980146Z",
     "start_time": "2024-02-16T17:30:15.053474050Z"
    }
   },
   "id": "b64f3b0460b99b37",
   "execution_count": 6
  },
  {
   "cell_type": "code",
   "outputs": [],
   "source": [
    "df = df.drop(df[df[\"Water Resistance\"] > 1250].index)"
   ],
   "metadata": {
    "collapsed": false,
    "ExecuteTime": {
     "end_time": "2024-02-16T17:30:15.384834473Z",
     "start_time": "2024-02-16T17:30:15.377414771Z"
    }
   },
   "id": "45dd7493d6cfe60a",
   "execution_count": 7
  },
  {
   "cell_type": "markdown",
   "source": [
    "### Create column transformer"
   ],
   "metadata": {
    "collapsed": false
   },
   "id": "4846c7c4c0280170"
  },
  {
   "cell_type": "code",
   "execution_count": 8,
   "outputs": [],
   "source": [
    "targetcol = 'Price (USD)'\n",
    "X = df.loc[:,~df.columns.isin([targetcol])]\n",
    "y = df.loc[:,df.columns.isin([targetcol])]\n",
    "catcols = list(X.select_dtypes(include=['object']).columns)\n",
    "numcols = list(X.select_dtypes(include=['float64','int']).columns)"
   ],
   "metadata": {
    "collapsed": false,
    "ExecuteTime": {
     "end_time": "2024-02-16T17:30:16.029263807Z",
     "start_time": "2024-02-16T17:30:16.025344045Z"
    }
   },
   "id": "70a8b8e1"
  },
  {
   "cell_type": "code",
   "execution_count": 9,
   "outputs": [
    {
     "data": {
      "text/plain": "['Water Resistance',\n 'Case Diameter (mm)',\n 'Case Thickness (mm)',\n 'Band Width (mm)',\n 'Power Reserve']"
     },
     "execution_count": 9,
     "metadata": {},
     "output_type": "execute_result"
    }
   ],
   "source": [
    "numcols"
   ],
   "metadata": {
    "collapsed": false,
    "ExecuteTime": {
     "end_time": "2024-02-16T17:30:16.408599709Z",
     "start_time": "2024-02-16T17:30:16.404148199Z"
    }
   },
   "id": "7be345ca1fc1c563"
  },
  {
   "cell_type": "code",
   "execution_count": 10,
   "outputs": [
    {
     "data": {
      "text/plain": "['Brand',\n 'Model',\n 'Case Material',\n 'Strap Material',\n 'Movement Type',\n 'Dial Color',\n 'Crystal Material',\n 'Complications']"
     },
     "execution_count": 10,
     "metadata": {},
     "output_type": "execute_result"
    }
   ],
   "source": [
    "catcols"
   ],
   "metadata": {
    "collapsed": false,
    "ExecuteTime": {
     "end_time": "2024-02-16T17:30:16.781109587Z",
     "start_time": "2024-02-16T17:30:16.777910464Z"
    }
   },
   "id": "da8cb5f8a34f9fd4"
  },
  {
   "cell_type": "code",
   "execution_count": 11,
   "id": "116fa0ba",
   "metadata": {
    "execution": {
     "iopub.execute_input": "2023-03-11T13:04:15.569771Z",
     "iopub.status.busy": "2023-03-11T13:04:15.569320Z",
     "iopub.status.idle": "2023-03-11T13:04:15.576989Z",
     "shell.execute_reply": "2023-03-11T13:04:15.575757Z"
    },
    "papermill": {
     "duration": 0.015956,
     "end_time": "2023-03-11T13:04:15.579487",
     "exception": false,
     "start_time": "2023-03-11T13:04:15.563531",
     "status": "completed"
    },
    "tags": [],
    "ExecuteTime": {
     "end_time": "2024-02-16T17:30:17.130844807Z",
     "start_time": "2024-02-16T17:30:17.123131081Z"
    }
   },
   "outputs": [],
   "source": [
    "numeric_transformer = Pipeline([\n",
    "    (\"imputer\", SimpleImputer(strategy='median')),\n",
    "    (\"scaler\", StandardScaler())\n",
    "])\n",
    "\n",
    "categorical_transformer = Pipeline([\n",
    "    (\"lowercase\", LowercaseTransformer()),  # Custom transformer for lowercase\n",
    "    (\"imputer\", SimpleImputer(strategy=\"constant\", fill_value=\"missing\")),\n",
    "    (\"encoder\", OneHotEncoder(handle_unknown=\"ignore\")),\n",
    "])\n",
    "preprocessor = ColumnTransformer(\n",
    "    transformers=[\n",
    "        (\"num\", numeric_transformer, numcols),\n",
    "        (\"cat\", categorical_transformer, catcols),\n",
    "    ]\n",
    ")"
   ]
  },
  {
   "cell_type": "markdown",
   "source": [
    "# Models"
   ],
   "metadata": {
    "collapsed": false
   },
   "id": "a9323777542029f4"
  },
  {
   "cell_type": "markdown",
   "source": [
    "### Split the dataset"
   ],
   "metadata": {
    "collapsed": false
   },
   "id": "7e08793099d8d9fb"
  },
  {
   "cell_type": "code",
   "outputs": [],
   "source": [
    "X_train, X_test, y_train, y_test = train_test_split(X, y, test_size=0.2, random_state=42)"
   ],
   "metadata": {
    "collapsed": false,
    "ExecuteTime": {
     "end_time": "2024-02-16T17:30:18.232044204Z",
     "start_time": "2024-02-16T17:30:18.227883330Z"
    }
   },
   "id": "513280edf7ba7afe",
   "execution_count": 12
  },
  {
   "cell_type": "markdown",
   "source": [
    "### Define models "
   ],
   "metadata": {
    "collapsed": false
   },
   "id": "ce13d6f19a35ba01"
  },
  {
   "cell_type": "code",
   "outputs": [],
   "source": [
    "lr = LinearRegression()\n",
    "ridge = Ridge()\n",
    "lasso = Lasso()\n",
    "tree = DecisionTreeRegressor()\n",
    "rf = RandomForestRegressor()\n",
    "etree = ExtraTreesRegressor()\n",
    "gb = GradientBoostingRegressor()\n",
    "xgb = XGBRegressor()\n",
    "knn = KNeighborsRegressor()\n",
    "svr = SVR(kernel='linear', C=1.0)\n",
    "lgbm = lgb.LGBMRegressor()\n",
    "mlp = MLPRegressor(hidden_layer_sizes=(10,), max_iter=1000, random_state=42)\n",
    "\n",
    "\n",
    "Models = [lr, ridge, lasso, tree, rf, etree, gb, xgb, knn, svr, lgbm, mlp]"
   ],
   "metadata": {
    "collapsed": false,
    "ExecuteTime": {
     "end_time": "2024-02-16T17:30:19.085772413Z",
     "start_time": "2024-02-16T17:30:19.083443199Z"
    }
   },
   "id": "5e52b55067e52893",
   "execution_count": 13
  },
  {
   "cell_type": "markdown",
   "source": [
    "### Test models"
   ],
   "metadata": {
    "collapsed": false
   },
   "id": "1815c2dd039836c2"
  },
  {
   "cell_type": "code",
   "outputs": [
    {
     "name": "stdout",
     "output_type": "stream",
     "text": [
      "Model is: LinearRegression()\n",
      "Training score : 0.9161311346401528\n",
      "R2 score : 0.9092356523051046\n",
      "MAE : 1893.6188722526388\n",
      "MSE : 6982337.435096189\n",
      "RMSE : 2642.4112918121186\n",
      "================================================================================\n",
      "Model is: Ridge()\n",
      "Training score : 0.9077873287535984\n",
      "R2 score : 0.9244721464022243\n",
      "MAE : 1679.7654375096351\n",
      "MSE : 5810221.446651483\n",
      "RMSE : 2410.4400939769243\n",
      "================================================================================\n",
      "Model is: Lasso()\n",
      "Training score : 0.9156308989435149\n",
      "R2 score : 0.9200159874918149\n",
      "MAE : 1737.0762379543849\n",
      "MSE : 6153025.7080943175\n",
      "RMSE : 2480.529320144053\n",
      "================================================================================\n",
      "Model is: DecisionTreeRegressor()\n",
      "Training score : 0.9813453225097419\n",
      "R2 score : 0.8096402411534412\n",
      "MAE : 2378.641384388807\n",
      "MSE : 14644032.641518807\n",
      "RMSE : 3826.7522315298656\n",
      "================================================================================\n",
      "Model is: RandomForestRegressor()\n",
      "Training score : 0.9609706852027817\n",
      "R2 score : 0.8907132810608325\n",
      "MAE : 1819.1604424784837\n",
      "MSE : 8407230.0213391\n",
      "RMSE : 2899.522378140769\n",
      "================================================================================\n",
      "Model is: ExtraTreesRegressor()\n",
      "Training score : 0.9813453225097419\n",
      "R2 score : 0.8605824834492132\n",
      "MAE : 1784.0180903289145\n",
      "MSE : 10725137.894374456\n",
      "RMSE : 3274.9256318845555\n",
      "================================================================================\n",
      "Model is: GradientBoostingRegressor()\n",
      "Training score : 0.9384445753998906\n",
      "R2 score : 0.9331519340390199\n",
      "MAE : 1609.0068833141013\n",
      "MSE : 5142501.051096977\n",
      "RMSE : 2267.708325842849\n",
      "================================================================================\n",
      "Model is: XGBRegressor(base_score=None, booster=None, callbacks=None,\n",
      "             colsample_bylevel=None, colsample_bynode=None,\n",
      "             colsample_bytree=None, device=None, early_stopping_rounds=None,\n",
      "             enable_categorical=False, eval_metric=None, feature_types=None,\n",
      "             gamma=None, grow_policy=None, importance_type=None,\n",
      "             interaction_constraints=None, learning_rate=None, max_bin=None,\n",
      "             max_cat_threshold=None, max_cat_to_onehot=None,\n",
      "             max_delta_step=None, max_depth=None, max_leaves=None,\n",
      "             min_child_weight=None, missing=nan, monotone_constraints=None,\n",
      "             multi_strategy=None, n_estimators=None, n_jobs=None,\n",
      "             num_parallel_tree=None, random_state=None, ...)\n",
      "Training score : 0.9789826792618624\n",
      "R2 score : 0.8559627785875452\n",
      "MAE : 1850.4098395908002\n",
      "MSE : 11080523.450640995\n",
      "RMSE : 3328.7420222421856\n",
      "================================================================================\n",
      "Model is: KNeighborsRegressor()\n",
      "Training score : 0.8726335659214632\n",
      "R2 score : 0.7566159860442391\n",
      "MAE : 2502.917525773196\n",
      "MSE : 18723092.87628866\n",
      "RMSE : 4327.018936437494\n",
      "================================================================================\n",
      "Model is: SVR(kernel='linear')\n",
      "Training score : -0.12598038768266773\n",
      "R2 score : -0.0806664584520651\n",
      "MAE : 5802.053806015426\n",
      "MSE : 83133720.0049865\n",
      "RMSE : 9117.769464347433\n",
      "================================================================================\n",
      "Model is: LGBMRegressor()\n",
      "[LightGBM] [Info] Auto-choosing row-wise multi-threading, the overhead of testing was 0.000073 seconds.\n",
      "You can set `force_row_wise=true` to remove the overhead.\n",
      "And if memory is not enough, you can set `force_col_wise=true`.\n",
      "[LightGBM] [Info] Total Bins 186\n",
      "[LightGBM] [Info] Number of data points in the train set: 387, number of used features: 31\n",
      "[LightGBM] [Info] Start training from score 12424.521964\n",
      "[LightGBM] [Warning] No further splits with positive gain, best gain: -inf\n",
      "[LightGBM] [Warning] No further splits with positive gain, best gain: -inf\n",
      "[LightGBM] [Warning] No further splits with positive gain, best gain: -inf\n",
      "[LightGBM] [Warning] No further splits with positive gain, best gain: -inf\n",
      "[LightGBM] [Warning] No further splits with positive gain, best gain: -inf\n",
      "[LightGBM] [Warning] No further splits with positive gain, best gain: -inf\n",
      "[LightGBM] [Warning] No further splits with positive gain, best gain: -inf\n",
      "[LightGBM] [Warning] No further splits with positive gain, best gain: -inf\n",
      "[LightGBM] [Warning] No further splits with positive gain, best gain: -inf\n",
      "[LightGBM] [Warning] No further splits with positive gain, best gain: -inf\n",
      "[LightGBM] [Warning] No further splits with positive gain, best gain: -inf\n",
      "[LightGBM] [Warning] No further splits with positive gain, best gain: -inf\n",
      "[LightGBM] [Warning] No further splits with positive gain, best gain: -inf\n",
      "[LightGBM] [Warning] No further splits with positive gain, best gain: -inf\n",
      "[LightGBM] [Warning] No further splits with positive gain, best gain: -inf\n",
      "[LightGBM] [Warning] No further splits with positive gain, best gain: -inf\n",
      "[LightGBM] [Warning] No further splits with positive gain, best gain: -inf\n",
      "[LightGBM] [Warning] No further splits with positive gain, best gain: -inf\n",
      "[LightGBM] [Warning] No further splits with positive gain, best gain: -inf\n",
      "[LightGBM] [Warning] No further splits with positive gain, best gain: -inf\n",
      "[LightGBM] [Warning] No further splits with positive gain, best gain: -inf\n",
      "[LightGBM] [Warning] No further splits with positive gain, best gain: -inf\n",
      "[LightGBM] [Warning] No further splits with positive gain, best gain: -inf\n",
      "[LightGBM] [Warning] No further splits with positive gain, best gain: -inf\n",
      "[LightGBM] [Warning] No further splits with positive gain, best gain: -inf\n",
      "[LightGBM] [Warning] No further splits with positive gain, best gain: -inf\n",
      "[LightGBM] [Warning] No further splits with positive gain, best gain: -inf\n",
      "[LightGBM] [Warning] No further splits with positive gain, best gain: -inf\n",
      "[LightGBM] [Warning] No further splits with positive gain, best gain: -inf\n",
      "[LightGBM] [Warning] No further splits with positive gain, best gain: -inf\n",
      "[LightGBM] [Warning] No further splits with positive gain, best gain: -inf\n",
      "[LightGBM] [Warning] No further splits with positive gain, best gain: -inf\n",
      "[LightGBM] [Warning] No further splits with positive gain, best gain: -inf\n",
      "[LightGBM] [Warning] No further splits with positive gain, best gain: -inf\n",
      "[LightGBM] [Warning] No further splits with positive gain, best gain: -inf\n",
      "[LightGBM] [Warning] No further splits with positive gain, best gain: -inf\n",
      "[LightGBM] [Warning] No further splits with positive gain, best gain: -inf\n",
      "[LightGBM] [Warning] No further splits with positive gain, best gain: -inf\n",
      "[LightGBM] [Warning] No further splits with positive gain, best gain: -inf\n",
      "[LightGBM] [Warning] No further splits with positive gain, best gain: -inf\n",
      "[LightGBM] [Warning] No further splits with positive gain, best gain: -inf\n",
      "[LightGBM] [Warning] No further splits with positive gain, best gain: -inf\n",
      "[LightGBM] [Warning] No further splits with positive gain, best gain: -inf\n",
      "[LightGBM] [Warning] No further splits with positive gain, best gain: -inf\n",
      "[LightGBM] [Warning] No further splits with positive gain, best gain: -inf\n",
      "[LightGBM] [Warning] No further splits with positive gain, best gain: -inf\n",
      "[LightGBM] [Warning] No further splits with positive gain, best gain: -inf\n",
      "[LightGBM] [Warning] No further splits with positive gain, best gain: -inf\n",
      "[LightGBM] [Warning] No further splits with positive gain, best gain: -inf\n",
      "[LightGBM] [Warning] No further splits with positive gain, best gain: -inf\n",
      "[LightGBM] [Warning] No further splits with positive gain, best gain: -inf\n",
      "[LightGBM] [Warning] No further splits with positive gain, best gain: -inf\n",
      "[LightGBM] [Warning] No further splits with positive gain, best gain: -inf\n",
      "[LightGBM] [Warning] No further splits with positive gain, best gain: -inf\n",
      "[LightGBM] [Warning] No further splits with positive gain, best gain: -inf\n",
      "[LightGBM] [Warning] No further splits with positive gain, best gain: -inf\n",
      "[LightGBM] [Warning] No further splits with positive gain, best gain: -inf\n",
      "[LightGBM] [Warning] No further splits with positive gain, best gain: -inf\n",
      "[LightGBM] [Warning] No further splits with positive gain, best gain: -inf\n",
      "[LightGBM] [Warning] No further splits with positive gain, best gain: -inf\n",
      "[LightGBM] [Warning] No further splits with positive gain, best gain: -inf\n",
      "[LightGBM] [Warning] No further splits with positive gain, best gain: -inf\n",
      "[LightGBM] [Warning] No further splits with positive gain, best gain: -inf\n",
      "[LightGBM] [Warning] No further splits with positive gain, best gain: -inf\n",
      "[LightGBM] [Warning] No further splits with positive gain, best gain: -inf\n",
      "[LightGBM] [Warning] No further splits with positive gain, best gain: -inf\n",
      "[LightGBM] [Warning] No further splits with positive gain, best gain: -inf\n",
      "[LightGBM] [Warning] No further splits with positive gain, best gain: -inf\n",
      "[LightGBM] [Warning] No further splits with positive gain, best gain: -inf\n",
      "[LightGBM] [Warning] No further splits with positive gain, best gain: -inf\n",
      "[LightGBM] [Warning] No further splits with positive gain, best gain: -inf\n",
      "[LightGBM] [Warning] No further splits with positive gain, best gain: -inf\n",
      "[LightGBM] [Warning] No further splits with positive gain, best gain: -inf\n",
      "[LightGBM] [Warning] No further splits with positive gain, best gain: -inf\n",
      "[LightGBM] [Warning] No further splits with positive gain, best gain: -inf\n",
      "[LightGBM] [Warning] No further splits with positive gain, best gain: -inf\n",
      "[LightGBM] [Warning] No further splits with positive gain, best gain: -inf\n",
      "[LightGBM] [Warning] No further splits with positive gain, best gain: -inf\n",
      "[LightGBM] [Warning] No further splits with positive gain, best gain: -inf\n",
      "[LightGBM] [Warning] No further splits with positive gain, best gain: -inf\n",
      "[LightGBM] [Warning] No further splits with positive gain, best gain: -inf\n",
      "[LightGBM] [Warning] No further splits with positive gain, best gain: -inf\n",
      "[LightGBM] [Warning] No further splits with positive gain, best gain: -inf\n",
      "[LightGBM] [Warning] No further splits with positive gain, best gain: -inf\n",
      "[LightGBM] [Warning] No further splits with positive gain, best gain: -inf\n",
      "[LightGBM] [Warning] No further splits with positive gain, best gain: -inf\n",
      "[LightGBM] [Warning] No further splits with positive gain, best gain: -inf\n",
      "[LightGBM] [Warning] No further splits with positive gain, best gain: -inf\n",
      "[LightGBM] [Warning] No further splits with positive gain, best gain: -inf\n",
      "[LightGBM] [Warning] No further splits with positive gain, best gain: -inf\n",
      "[LightGBM] [Warning] No further splits with positive gain, best gain: -inf\n",
      "[LightGBM] [Warning] No further splits with positive gain, best gain: -inf\n",
      "[LightGBM] [Warning] No further splits with positive gain, best gain: -inf\n",
      "[LightGBM] [Warning] No further splits with positive gain, best gain: -inf\n",
      "[LightGBM] [Warning] No further splits with positive gain, best gain: -inf\n",
      "[LightGBM] [Warning] No further splits with positive gain, best gain: -inf\n",
      "[LightGBM] [Warning] No further splits with positive gain, best gain: -inf\n",
      "[LightGBM] [Warning] No further splits with positive gain, best gain: -inf\n",
      "[LightGBM] [Warning] No further splits with positive gain, best gain: -inf\n",
      "[LightGBM] [Warning] No further splits with positive gain, best gain: -inf\n",
      "Training score : 0.9100947780238717\n",
      "R2 score : 0.8964260931710312\n",
      "MAE : 1975.361326144691\n",
      "MSE : 7967753.697542921\n",
      "RMSE : 2822.7209740856288\n",
      "================================================================================\n",
      "Model is: MLPRegressor(hidden_layer_sizes=(10,), max_iter=1000, random_state=42)\n",
      "Training score : -1.2445092567810292\n",
      "R2 score : -1.5135199632761829\n",
      "MAE : 10809.48867061405\n",
      "MSE : 193360553.77646834\n",
      "RMSE : 13905.414548889521\n",
      "================================================================================\n"
     ]
    },
    {
     "data": {
      "text/plain": "                                           Model Name  R2 score           MAE  \\\n6   ([DecisionTreeRegressor(criterion='friedman_ms...  0.933152   1609.006883   \n1                                             Ridge()  0.924472   1679.765438   \n2                                             Lasso()  0.920016   1737.076238   \n0                                  LinearRegression()  0.909236   1893.618872   \n10                                    LGBMRegressor()  0.896426   1975.361326   \n4   (DecisionTreeRegressor(max_features=1.0, rando...  0.890713   1819.160442   \n5   (ExtraTreeRegressor(random_state=811446641), E...  0.860582   1784.018090   \n7   XGBRegressor(base_score=None, booster=None, ca...  0.855963   1850.409840   \n3                             DecisionTreeRegressor()  0.809640   2378.641384   \n8                               KNeighborsRegressor()  0.756616   2502.917526   \n9                                SVR(kernel='linear') -0.080666   5802.053806   \n11  MLPRegressor(hidden_layer_sizes=(10,), max_ite... -1.513520  10809.488671   \n\n             MSE          RMSE  \n6   5.142501e+06   2267.708326  \n1   5.810221e+06   2410.440094  \n2   6.153026e+06   2480.529320  \n0   6.982337e+06   2642.411292  \n10  7.967754e+06   2822.720974  \n4   8.407230e+06   2899.522378  \n5   1.072514e+07   3274.925632  \n7   1.108052e+07   3328.742022  \n3   1.464403e+07   3826.752232  \n8   1.872309e+07   4327.018936  \n9   8.313372e+07   9117.769464  \n11  1.933606e+08  13905.414549  ",
      "text/html": "<div>\n<style scoped>\n    .dataframe tbody tr th:only-of-type {\n        vertical-align: middle;\n    }\n\n    .dataframe tbody tr th {\n        vertical-align: top;\n    }\n\n    .dataframe thead th {\n        text-align: right;\n    }\n</style>\n<table border=\"1\" class=\"dataframe\">\n  <thead>\n    <tr style=\"text-align: right;\">\n      <th></th>\n      <th>Model Name</th>\n      <th>R2 score</th>\n      <th>MAE</th>\n      <th>MSE</th>\n      <th>RMSE</th>\n    </tr>\n  </thead>\n  <tbody>\n    <tr>\n      <th>6</th>\n      <td>([DecisionTreeRegressor(criterion='friedman_ms...</td>\n      <td>0.933152</td>\n      <td>1609.006883</td>\n      <td>5.142501e+06</td>\n      <td>2267.708326</td>\n    </tr>\n    <tr>\n      <th>1</th>\n      <td>Ridge()</td>\n      <td>0.924472</td>\n      <td>1679.765438</td>\n      <td>5.810221e+06</td>\n      <td>2410.440094</td>\n    </tr>\n    <tr>\n      <th>2</th>\n      <td>Lasso()</td>\n      <td>0.920016</td>\n      <td>1737.076238</td>\n      <td>6.153026e+06</td>\n      <td>2480.529320</td>\n    </tr>\n    <tr>\n      <th>0</th>\n      <td>LinearRegression()</td>\n      <td>0.909236</td>\n      <td>1893.618872</td>\n      <td>6.982337e+06</td>\n      <td>2642.411292</td>\n    </tr>\n    <tr>\n      <th>10</th>\n      <td>LGBMRegressor()</td>\n      <td>0.896426</td>\n      <td>1975.361326</td>\n      <td>7.967754e+06</td>\n      <td>2822.720974</td>\n    </tr>\n    <tr>\n      <th>4</th>\n      <td>(DecisionTreeRegressor(max_features=1.0, rando...</td>\n      <td>0.890713</td>\n      <td>1819.160442</td>\n      <td>8.407230e+06</td>\n      <td>2899.522378</td>\n    </tr>\n    <tr>\n      <th>5</th>\n      <td>(ExtraTreeRegressor(random_state=811446641), E...</td>\n      <td>0.860582</td>\n      <td>1784.018090</td>\n      <td>1.072514e+07</td>\n      <td>3274.925632</td>\n    </tr>\n    <tr>\n      <th>7</th>\n      <td>XGBRegressor(base_score=None, booster=None, ca...</td>\n      <td>0.855963</td>\n      <td>1850.409840</td>\n      <td>1.108052e+07</td>\n      <td>3328.742022</td>\n    </tr>\n    <tr>\n      <th>3</th>\n      <td>DecisionTreeRegressor()</td>\n      <td>0.809640</td>\n      <td>2378.641384</td>\n      <td>1.464403e+07</td>\n      <td>3826.752232</td>\n    </tr>\n    <tr>\n      <th>8</th>\n      <td>KNeighborsRegressor()</td>\n      <td>0.756616</td>\n      <td>2502.917526</td>\n      <td>1.872309e+07</td>\n      <td>4327.018936</td>\n    </tr>\n    <tr>\n      <th>9</th>\n      <td>SVR(kernel='linear')</td>\n      <td>-0.080666</td>\n      <td>5802.053806</td>\n      <td>8.313372e+07</td>\n      <td>9117.769464</td>\n    </tr>\n    <tr>\n      <th>11</th>\n      <td>MLPRegressor(hidden_layer_sizes=(10,), max_ite...</td>\n      <td>-1.513520</td>\n      <td>10809.488671</td>\n      <td>1.933606e+08</td>\n      <td>13905.414549</td>\n    </tr>\n  </tbody>\n</table>\n</div>"
     },
     "metadata": {},
     "output_type": "display_data"
    }
   ],
   "source": [
    "results = pd.DataFrame()\n",
    "\n",
    "for model in Models:\n",
    "    print('Model is: {}'.format(model))\n",
    "    pipeline = Pipeline(\n",
    "        steps=[(\"preprocessor\", preprocessor), (\"model\", model)]\n",
    "    )\n",
    "    m = pipeline.fit(X_train, y_train)\n",
    "    print('Training score : {}'.format(m.score(X_train, y_train)))\n",
    "    prediction = m.predict(X_test)\n",
    "\n",
    "    r2score = r2_score(y_test, prediction)\n",
    "    mae = mean_absolute_error(y_test, prediction)\n",
    "    mse = mean_squared_error(y_test, prediction)\n",
    "    rmse = np.sqrt(mean_squared_error(y_test, prediction))\n",
    "    print('R2 score : {}'.format(r2score))\n",
    "    print('MAE : {}'.format(mae))\n",
    "    print('MSE : {}'.format(mse))\n",
    "    print('RMSE : {}'.format(rmse))\n",
    "\n",
    "    model_df = pd.DataFrame({'Model Name': [model], 'R2 score': [r2score], 'MAE': [mae], 'MSE': [mse], 'RMSE': [rmse]})\n",
    "    results = pd.concat([results, model_df], ignore_index=True)\n",
    "    \n",
    "    print('=' * 80)\n",
    "    \n",
    "display(results.sort_values(by='RMSE', ascending=True))"
   ],
   "metadata": {
    "collapsed": false,
    "ExecuteTime": {
     "end_time": "2024-02-16T17:30:22.213819831Z",
     "start_time": "2024-02-16T17:30:20.256047431Z"
    }
   },
   "id": "6cb9cc53a350ed0a",
   "execution_count": 14
  },
  {
   "cell_type": "markdown",
   "source": [
    "### Neural Network"
   ],
   "metadata": {
    "collapsed": false
   },
   "id": "62cdeb41c06569c1"
  },
  {
   "cell_type": "code",
   "outputs": [
    {
     "name": "stdout",
     "output_type": "stream",
     "text": [
      "Epoch 1/140\n",
      "13/13 [==============================] - 0s 1ms/step - loss: 271383520.0000\n",
      "Epoch 2/140\n",
      "13/13 [==============================] - 0s 1ms/step - loss: 271362272.0000\n",
      "Epoch 3/140\n",
      "13/13 [==============================] - 0s 1ms/step - loss: 271335904.0000\n",
      "Epoch 4/140\n",
      "13/13 [==============================] - 0s 972us/step - loss: 271293760.0000\n",
      "Epoch 5/140\n",
      "13/13 [==============================] - 0s 1ms/step - loss: 271227392.0000\n",
      "Epoch 6/140\n",
      "13/13 [==============================] - 0s 1ms/step - loss: 271121728.0000\n",
      "Epoch 7/140\n",
      "13/13 [==============================] - 0s 1ms/step - loss: 270969344.0000\n",
      "Epoch 8/140\n",
      "13/13 [==============================] - 0s 1ms/step - loss: 270753216.0000\n",
      "Epoch 9/140\n",
      "13/13 [==============================] - 0s 1ms/step - loss: 270454592.0000\n",
      "Epoch 10/140\n",
      "13/13 [==============================] - 0s 1ms/step - loss: 270062368.0000\n",
      "Epoch 11/140\n",
      "13/13 [==============================] - 0s 1ms/step - loss: 269552480.0000\n",
      "Epoch 12/140\n",
      "13/13 [==============================] - 0s 979us/step - loss: 268883904.0000\n",
      "Epoch 13/140\n",
      "13/13 [==============================] - 0s 1ms/step - loss: 268060112.0000\n",
      "Epoch 14/140\n",
      "13/13 [==============================] - 0s 916us/step - loss: 267004288.0000\n",
      "Epoch 15/140\n",
      "13/13 [==============================] - 0s 947us/step - loss: 265732368.0000\n",
      "Epoch 16/140\n",
      "13/13 [==============================] - 0s 1ms/step - loss: 264265984.0000\n",
      "Epoch 17/140\n",
      "13/13 [==============================] - 0s 980us/step - loss: 262572992.0000\n",
      "Epoch 18/140\n",
      "13/13 [==============================] - 0s 951us/step - loss: 260554752.0000\n",
      "Epoch 19/140\n",
      "13/13 [==============================] - 0s 976us/step - loss: 258286480.0000\n",
      "Epoch 20/140\n",
      "13/13 [==============================] - 0s 1ms/step - loss: 255726192.0000\n",
      "Epoch 21/140\n",
      "13/13 [==============================] - 0s 1ms/step - loss: 252775184.0000\n",
      "Epoch 22/140\n",
      "13/13 [==============================] - 0s 1ms/step - loss: 249555712.0000\n",
      "Epoch 23/140\n",
      "13/13 [==============================] - 0s 1ms/step - loss: 246043760.0000\n",
      "Epoch 24/140\n",
      "13/13 [==============================] - 0s 868us/step - loss: 242299184.0000\n",
      "Epoch 25/140\n",
      "13/13 [==============================] - 0s 859us/step - loss: 238465472.0000\n",
      "Epoch 26/140\n",
      "13/13 [==============================] - 0s 870us/step - loss: 234119520.0000\n",
      "Epoch 27/140\n",
      "13/13 [==============================] - 0s 946us/step - loss: 229397040.0000\n",
      "Epoch 28/140\n",
      "13/13 [==============================] - 0s 967us/step - loss: 224766512.0000\n",
      "Epoch 29/140\n",
      "13/13 [==============================] - 0s 1ms/step - loss: 219748176.0000\n",
      "Epoch 30/140\n",
      "13/13 [==============================] - 0s 988us/step - loss: 214610672.0000\n",
      "Epoch 31/140\n",
      "13/13 [==============================] - 0s 1ms/step - loss: 209405264.0000\n",
      "Epoch 32/140\n",
      "13/13 [==============================] - 0s 959us/step - loss: 204037024.0000\n",
      "Epoch 33/140\n",
      "13/13 [==============================] - 0s 959us/step - loss: 198596944.0000\n",
      "Epoch 34/140\n",
      "13/13 [==============================] - 0s 988us/step - loss: 192764896.0000\n",
      "Epoch 35/140\n",
      "13/13 [==============================] - 0s 1ms/step - loss: 187263872.0000\n",
      "Epoch 36/140\n",
      "13/13 [==============================] - 0s 911us/step - loss: 181572864.0000\n",
      "Epoch 37/140\n",
      "13/13 [==============================] - 0s 900us/step - loss: 176007424.0000\n",
      "Epoch 38/140\n",
      "13/13 [==============================] - 0s 987us/step - loss: 170137824.0000\n",
      "Epoch 39/140\n",
      "13/13 [==============================] - 0s 870us/step - loss: 164456800.0000\n",
      "Epoch 40/140\n",
      "13/13 [==============================] - 0s 952us/step - loss: 158835648.0000\n",
      "Epoch 41/140\n",
      "13/13 [==============================] - 0s 990us/step - loss: 153636128.0000\n",
      "Epoch 42/140\n",
      "13/13 [==============================] - 0s 937us/step - loss: 148708304.0000\n",
      "Epoch 43/140\n",
      "13/13 [==============================] - 0s 1ms/step - loss: 143857328.0000\n",
      "Epoch 44/140\n",
      "13/13 [==============================] - 0s 911us/step - loss: 139165664.0000\n",
      "Epoch 45/140\n",
      "13/13 [==============================] - 0s 995us/step - loss: 134674272.0000\n",
      "Epoch 46/140\n",
      "13/13 [==============================] - 0s 982us/step - loss: 130408360.0000\n",
      "Epoch 47/140\n",
      "13/13 [==============================] - 0s 1ms/step - loss: 126079536.0000\n",
      "Epoch 48/140\n",
      "13/13 [==============================] - 0s 873us/step - loss: 122435864.0000\n",
      "Epoch 49/140\n",
      "13/13 [==============================] - 0s 992us/step - loss: 118997032.0000\n",
      "Epoch 50/140\n",
      "13/13 [==============================] - 0s 1ms/step - loss: 115626112.0000\n",
      "Epoch 51/140\n",
      "13/13 [==============================] - 0s 1ms/step - loss: 112436768.0000\n",
      "Epoch 52/140\n",
      "13/13 [==============================] - 0s 1ms/step - loss: 109443816.0000\n",
      "Epoch 53/140\n",
      "13/13 [==============================] - 0s 1ms/step - loss: 106734184.0000\n",
      "Epoch 54/140\n",
      "13/13 [==============================] - 0s 1ms/step - loss: 104482808.0000\n",
      "Epoch 55/140\n",
      "13/13 [==============================] - 0s 1ms/step - loss: 102191720.0000\n",
      "Epoch 56/140\n",
      "13/13 [==============================] - 0s 953us/step - loss: 100172368.0000\n",
      "Epoch 57/140\n",
      "13/13 [==============================] - 0s 920us/step - loss: 98142280.0000\n",
      "Epoch 58/140\n",
      "13/13 [==============================] - 0s 932us/step - loss: 96304000.0000\n",
      "Epoch 59/140\n",
      "13/13 [==============================] - 0s 955us/step - loss: 94775552.0000\n",
      "Epoch 60/140\n",
      "13/13 [==============================] - 0s 971us/step - loss: 93033536.0000\n",
      "Epoch 61/140\n",
      "13/13 [==============================] - 0s 1ms/step - loss: 91665816.0000\n",
      "Epoch 62/140\n",
      "13/13 [==============================] - 0s 925us/step - loss: 90197328.0000\n",
      "Epoch 63/140\n",
      "13/13 [==============================] - 0s 871us/step - loss: 88667616.0000\n",
      "Epoch 64/140\n",
      "13/13 [==============================] - 0s 842us/step - loss: 87491024.0000\n",
      "Epoch 65/140\n",
      "13/13 [==============================] - 0s 878us/step - loss: 86243288.0000\n",
      "Epoch 66/140\n",
      "13/13 [==============================] - 0s 948us/step - loss: 85018920.0000\n",
      "Epoch 67/140\n",
      "13/13 [==============================] - 0s 962us/step - loss: 83999120.0000\n",
      "Epoch 68/140\n",
      "13/13 [==============================] - 0s 1ms/step - loss: 82960208.0000\n",
      "Epoch 69/140\n",
      "13/13 [==============================] - 0s 987us/step - loss: 81899184.0000\n",
      "Epoch 70/140\n",
      "13/13 [==============================] - 0s 936us/step - loss: 80943264.0000\n",
      "Epoch 71/140\n",
      "13/13 [==============================] - 0s 1ms/step - loss: 79903160.0000\n",
      "Epoch 72/140\n",
      "13/13 [==============================] - 0s 937us/step - loss: 78924208.0000\n",
      "Epoch 73/140\n",
      "13/13 [==============================] - 0s 897us/step - loss: 78018080.0000\n",
      "Epoch 74/140\n",
      "13/13 [==============================] - 0s 981us/step - loss: 77219800.0000\n",
      "Epoch 75/140\n",
      "13/13 [==============================] - 0s 955us/step - loss: 76261176.0000\n",
      "Epoch 76/140\n",
      "13/13 [==============================] - 0s 857us/step - loss: 75386448.0000\n",
      "Epoch 77/140\n",
      "13/13 [==============================] - 0s 935us/step - loss: 74537704.0000\n",
      "Epoch 78/140\n",
      "13/13 [==============================] - 0s 955us/step - loss: 73742488.0000\n",
      "Epoch 79/140\n",
      "13/13 [==============================] - 0s 928us/step - loss: 72948136.0000\n",
      "Epoch 80/140\n",
      "13/13 [==============================] - 0s 928us/step - loss: 72198216.0000\n",
      "Epoch 81/140\n",
      "13/13 [==============================] - 0s 1ms/step - loss: 71435048.0000\n",
      "Epoch 82/140\n",
      "13/13 [==============================] - 0s 962us/step - loss: 70693248.0000\n",
      "Epoch 83/140\n",
      "13/13 [==============================] - 0s 953us/step - loss: 69920952.0000\n",
      "Epoch 84/140\n",
      "13/13 [==============================] - 0s 964us/step - loss: 69179264.0000\n",
      "Epoch 85/140\n",
      "13/13 [==============================] - 0s 937us/step - loss: 68425688.0000\n",
      "Epoch 86/140\n",
      "13/13 [==============================] - 0s 924us/step - loss: 67694768.0000\n",
      "Epoch 87/140\n",
      "13/13 [==============================] - 0s 961us/step - loss: 67029224.0000\n",
      "Epoch 88/140\n",
      "13/13 [==============================] - 0s 867us/step - loss: 66330700.0000\n",
      "Epoch 89/140\n",
      "13/13 [==============================] - 0s 1ms/step - loss: 65645916.0000\n",
      "Epoch 90/140\n",
      "13/13 [==============================] - 0s 936us/step - loss: 64964888.0000\n",
      "Epoch 91/140\n",
      "13/13 [==============================] - 0s 917us/step - loss: 64269364.0000\n",
      "Epoch 92/140\n",
      "13/13 [==============================] - 0s 1ms/step - loss: 63630584.0000\n",
      "Epoch 93/140\n",
      "13/13 [==============================] - 0s 872us/step - loss: 62887000.0000\n",
      "Epoch 94/140\n",
      "13/13 [==============================] - 0s 906us/step - loss: 62198924.0000\n",
      "Epoch 95/140\n",
      "13/13 [==============================] - 0s 1ms/step - loss: 61487432.0000\n",
      "Epoch 96/140\n",
      "13/13 [==============================] - 0s 1ms/step - loss: 60847304.0000\n",
      "Epoch 97/140\n",
      "13/13 [==============================] - 0s 938us/step - loss: 60226356.0000\n",
      "Epoch 98/140\n",
      "13/13 [==============================] - 0s 968us/step - loss: 59566372.0000\n",
      "Epoch 99/140\n",
      "13/13 [==============================] - 0s 1ms/step - loss: 58903396.0000\n",
      "Epoch 100/140\n",
      "13/13 [==============================] - 0s 1ms/step - loss: 58249980.0000\n",
      "Epoch 101/140\n",
      "13/13 [==============================] - 0s 1ms/step - loss: 57653048.0000\n",
      "Epoch 102/140\n",
      "13/13 [==============================] - 0s 1ms/step - loss: 57024804.0000\n",
      "Epoch 103/140\n",
      "13/13 [==============================] - 0s 947us/step - loss: 56441408.0000\n",
      "Epoch 104/140\n",
      "13/13 [==============================] - 0s 1ms/step - loss: 55853220.0000\n",
      "Epoch 105/140\n",
      "13/13 [==============================] - 0s 958us/step - loss: 55252944.0000\n",
      "Epoch 106/140\n",
      "13/13 [==============================] - 0s 929us/step - loss: 54668260.0000\n",
      "Epoch 107/140\n",
      "13/13 [==============================] - 0s 1ms/step - loss: 54100376.0000\n",
      "Epoch 108/140\n",
      "13/13 [==============================] - 0s 1ms/step - loss: 53559924.0000\n",
      "Epoch 109/140\n",
      "13/13 [==============================] - 0s 971us/step - loss: 53006684.0000\n",
      "Epoch 110/140\n",
      "13/13 [==============================] - 0s 932us/step - loss: 52476492.0000\n",
      "Epoch 111/140\n",
      "13/13 [==============================] - 0s 921us/step - loss: 51902888.0000\n",
      "Epoch 112/140\n",
      "13/13 [==============================] - 0s 988us/step - loss: 51287960.0000\n",
      "Epoch 113/140\n",
      "13/13 [==============================] - 0s 938us/step - loss: 50705280.0000\n",
      "Epoch 114/140\n",
      "13/13 [==============================] - 0s 1ms/step - loss: 50050412.0000\n",
      "Epoch 115/140\n",
      "13/13 [==============================] - 0s 916us/step - loss: 49539068.0000\n",
      "Epoch 116/140\n",
      "13/13 [==============================] - 0s 1ms/step - loss: 48994136.0000\n",
      "Epoch 117/140\n",
      "13/13 [==============================] - 0s 968us/step - loss: 48524948.0000\n",
      "Epoch 118/140\n",
      "13/13 [==============================] - 0s 914us/step - loss: 48020964.0000\n",
      "Epoch 119/140\n",
      "13/13 [==============================] - 0s 921us/step - loss: 47568500.0000\n",
      "Epoch 120/140\n",
      "13/13 [==============================] - 0s 922us/step - loss: 47088500.0000\n",
      "Epoch 121/140\n",
      "13/13 [==============================] - 0s 890us/step - loss: 46631256.0000\n",
      "Epoch 122/140\n",
      "13/13 [==============================] - 0s 923us/step - loss: 46173828.0000\n",
      "Epoch 123/140\n",
      "13/13 [==============================] - 0s 964us/step - loss: 45744212.0000\n",
      "Epoch 124/140\n",
      "13/13 [==============================] - 0s 948us/step - loss: 45307140.0000\n",
      "Epoch 125/140\n",
      "13/13 [==============================] - 0s 1ms/step - loss: 44844420.0000\n",
      "Epoch 126/140\n",
      "13/13 [==============================] - 0s 983us/step - loss: 44384792.0000\n",
      "Epoch 127/140\n",
      "13/13 [==============================] - 0s 944us/step - loss: 43952452.0000\n",
      "Epoch 128/140\n",
      "13/13 [==============================] - 0s 941us/step - loss: 43558612.0000\n",
      "Epoch 129/140\n",
      "13/13 [==============================] - 0s 932us/step - loss: 43097136.0000\n",
      "Epoch 130/140\n",
      "13/13 [==============================] - 0s 909us/step - loss: 42706860.0000\n",
      "Epoch 131/140\n",
      "13/13 [==============================] - 0s 889us/step - loss: 42250188.0000\n",
      "Epoch 132/140\n",
      "13/13 [==============================] - 0s 1ms/step - loss: 41743012.0000\n",
      "Epoch 133/140\n",
      "13/13 [==============================] - 0s 884us/step - loss: 41269392.0000\n",
      "Epoch 134/140\n",
      "13/13 [==============================] - 0s 881us/step - loss: 40881380.0000\n",
      "Epoch 135/140\n",
      "13/13 [==============================] - 0s 905us/step - loss: 40487976.0000\n",
      "Epoch 136/140\n",
      "13/13 [==============================] - 0s 864us/step - loss: 40102364.0000\n",
      "Epoch 137/140\n",
      "13/13 [==============================] - 0s 999us/step - loss: 39735948.0000\n",
      "Epoch 138/140\n",
      "13/13 [==============================] - 0s 923us/step - loss: 39403724.0000\n",
      "Epoch 139/140\n",
      "13/13 [==============================] - 0s 896us/step - loss: 39079952.0000\n",
      "Epoch 140/140\n",
      "13/13 [==============================] - 0s 1ms/step - loss: 38735064.0000\n",
      "4/4 [==============================] - 0s 1ms/step\n"
     ]
    },
    {
     "data": {
      "text/plain": "<Figure size 640x480 with 1 Axes>",
      "image/png": "[encoded data removed]"
     },
     "metadata": {},
     "output_type": "display_data"
    }
   ],
   "source": [
    "X_train_preprocessed = preprocessor.fit_transform(X_train, y_train)\n",
    "X_test_preprocessed = preprocessor.transform(X_test)\n",
    "\n",
    "y_train_preprocessed = np.array(y_train, dtype=np.float32)\n",
    "y_test_preprocessed = np.array(y_test, dtype=np.float32)\n",
    "\n",
    "nn = model = tf.keras.Sequential([\n",
    "    tf.keras.layers.Dense(64, activation='relu', input_shape=(X_train_preprocessed.shape[1],)),\n",
    "    tf.keras.layers.Dense(32, activation='relu'),\n",
    "    tf.keras.layers.Dense(1)  # Output layer with 1 neuron for regression\n",
    "])\n",
    "nn.compile(optimizer='adam', loss='mean_squared_error')\n",
    "history = nn.fit(X_train_preprocessed, y_train_preprocessed, epochs=140, batch_size=32, verbose=1)\n",
    "prediction = nn.predict(X_test_preprocessed)\n",
    "\n",
    "plt.plot(history.history['loss'], label='Train Loss')\n",
    "plt.xlabel('Epoch')\n",
    "plt.ylabel('Mean Squared Error')\n",
    "plt.legend()\n",
    "plt.show()"
   ],
   "metadata": {
    "collapsed": false,
    "ExecuteTime": {
     "end_time": "2024-02-16T17:30:26.630300752Z",
     "start_time": "2024-02-16T17:30:23.695735231Z"
    }
   },
   "id": "5d24b0465c3f64de",
   "execution_count": 15
  },
  {
   "cell_type": "code",
   "outputs": [
    {
     "name": "stdout",
     "output_type": "stream",
     "text": [
      "R2 score : 0.6792957839580736\n",
      "MAE : 3318.960693359375\n",
      "MSE : 24671196.0\n",
      "RMSE : 4967.0107421875\n"
     ]
    },
    {
     "data": {
      "text/plain": "                                           Model Name  R2 score           MAE  \\\n6   ([DecisionTreeRegressor(criterion='friedman_ms...  0.933152   1609.006883   \n1                                             Ridge()  0.924472   1679.765438   \n2                                             Lasso()  0.920016   1737.076238   \n0                                  LinearRegression()  0.909236   1893.618872   \n10                                    LGBMRegressor()  0.896426   1975.361326   \n4   (DecisionTreeRegressor(max_features=1.0, rando...  0.890713   1819.160442   \n5   (ExtraTreeRegressor(random_state=811446641), E...  0.860582   1784.018090   \n7   XGBRegressor(base_score=None, booster=None, ca...  0.855963   1850.409840   \n3                             DecisionTreeRegressor()  0.809640   2378.641384   \n8                               KNeighborsRegressor()  0.756616   2502.917526   \n12  <keras.src.engine.sequential.Sequential object...  0.679296   3318.960693   \n9                                SVR(kernel='linear') -0.080666   5802.053806   \n11  MLPRegressor(hidden_layer_sizes=(10,), max_ite... -1.513520  10809.488671   \n\n             MSE          RMSE  \n6   5.142501e+06   2267.708326  \n1   5.810221e+06   2410.440094  \n2   6.153026e+06   2480.529320  \n0   6.982337e+06   2642.411292  \n10  7.967754e+06   2822.720974  \n4   8.407230e+06   2899.522378  \n5   1.072514e+07   3274.925632  \n7   1.108052e+07   3328.742022  \n3   1.464403e+07   3826.752232  \n8   1.872309e+07   4327.018936  \n12  2.467120e+07   4967.010742  \n9   8.313372e+07   9117.769464  \n11  1.933606e+08  13905.414549  ",
      "text/html": "<div>\n<style scoped>\n    .dataframe tbody tr th:only-of-type {\n        vertical-align: middle;\n    }\n\n    .dataframe tbody tr th {\n        vertical-align: top;\n    }\n\n    .dataframe thead th {\n        text-align: right;\n    }\n</style>\n<table border=\"1\" class=\"dataframe\">\n  <thead>\n    <tr style=\"text-align: right;\">\n      <th></th>\n      <th>Model Name</th>\n      <th>R2 score</th>\n      <th>MAE</th>\n      <th>MSE</th>\n      <th>RMSE</th>\n    </tr>\n  </thead>\n  <tbody>\n    <tr>\n      <th>6</th>\n      <td>([DecisionTreeRegressor(criterion='friedman_ms...</td>\n      <td>0.933152</td>\n      <td>1609.006883</td>\n      <td>5.142501e+06</td>\n      <td>2267.708326</td>\n    </tr>\n    <tr>\n      <th>1</th>\n      <td>Ridge()</td>\n      <td>0.924472</td>\n      <td>1679.765438</td>\n      <td>5.810221e+06</td>\n      <td>2410.440094</td>\n    </tr>\n    <tr>\n      <th>2</th>\n      <td>Lasso()</td>\n      <td>0.920016</td>\n      <td>1737.076238</td>\n      <td>6.153026e+06</td>\n      <td>2480.529320</td>\n    </tr>\n    <tr>\n      <th>0</th>\n      <td>LinearRegression()</td>\n      <td>0.909236</td>\n      <td>1893.618872</td>\n      <td>6.982337e+06</td>\n      <td>2642.411292</td>\n    </tr>\n    <tr>\n      <th>10</th>\n      <td>LGBMRegressor()</td>\n      <td>0.896426</td>\n      <td>1975.361326</td>\n      <td>7.967754e+06</td>\n      <td>2822.720974</td>\n    </tr>\n    <tr>\n      <th>4</th>\n      <td>(DecisionTreeRegressor(max_features=1.0, rando...</td>\n      <td>0.890713</td>\n      <td>1819.160442</td>\n      <td>8.407230e+06</td>\n      <td>2899.522378</td>\n    </tr>\n    <tr>\n      <th>5</th>\n      <td>(ExtraTreeRegressor(random_state=811446641), E...</td>\n      <td>0.860582</td>\n      <td>1784.018090</td>\n      <td>1.072514e+07</td>\n      <td>3274.925632</td>\n    </tr>\n    <tr>\n      <th>7</th>\n      <td>XGBRegressor(base_score=None, booster=None, ca...</td>\n      <td>0.855963</td>\n      <td>1850.409840</td>\n      <td>1.108052e+07</td>\n      <td>3328.742022</td>\n    </tr>\n    <tr>\n      <th>3</th>\n      <td>DecisionTreeRegressor()</td>\n      <td>0.809640</td>\n      <td>2378.641384</td>\n      <td>1.464403e+07</td>\n      <td>3826.752232</td>\n    </tr>\n    <tr>\n      <th>8</th>\n      <td>KNeighborsRegressor()</td>\n      <td>0.756616</td>\n      <td>2502.917526</td>\n      <td>1.872309e+07</td>\n      <td>4327.018936</td>\n    </tr>\n    <tr>\n      <th>12</th>\n      <td>&lt;keras.src.engine.sequential.Sequential object...</td>\n      <td>0.679296</td>\n      <td>3318.960693</td>\n      <td>2.467120e+07</td>\n      <td>4967.010742</td>\n    </tr>\n    <tr>\n      <th>9</th>\n      <td>SVR(kernel='linear')</td>\n      <td>-0.080666</td>\n      <td>5802.053806</td>\n      <td>8.313372e+07</td>\n      <td>9117.769464</td>\n    </tr>\n    <tr>\n      <th>11</th>\n      <td>MLPRegressor(hidden_layer_sizes=(10,), max_ite...</td>\n      <td>-1.513520</td>\n      <td>10809.488671</td>\n      <td>1.933606e+08</td>\n      <td>13905.414549</td>\n    </tr>\n  </tbody>\n</table>\n</div>"
     },
     "metadata": {},
     "output_type": "display_data"
    }
   ],
   "source": [
    "r2score = r2_score(y_test_preprocessed, prediction)\n",
    "mae = mean_absolute_error(y_test_preprocessed, prediction)\n",
    "mse = mean_squared_error(y_test_preprocessed, prediction)\n",
    "rmse = np.sqrt(mean_squared_error(y_test_preprocessed, prediction))\n",
    "print('R2 score : {}'.format(r2score))\n",
    "print('MAE : {}'.format(mae))\n",
    "print('MSE : {}'.format(mse))\n",
    "print('RMSE : {}'.format(rmse))\n",
    "\n",
    "model_df = pd.DataFrame({'Model Name': [model], 'R2 score': [r2score], 'MAE': [mae], 'MSE': [mse], 'RMSE': [rmse]})\n",
    "results = pd.concat([results, model_df], ignore_index=True)\n",
    "display(results.sort_values(by='RMSE', ascending=True))"
   ],
   "metadata": {
    "collapsed": false,
    "ExecuteTime": {
     "end_time": "2024-02-16T17:30:26.720906075Z",
     "start_time": "2024-02-16T17:30:26.629764019Z"
    }
   },
   "id": "ded8a91049d93583",
   "execution_count": 16
  },
  {
   "cell_type": "markdown",
   "source": [
    "# Final model"
   ],
   "metadata": {
    "collapsed": false
   },
   "id": "d6ce140c1fa8a07f"
  },
  {
   "cell_type": "code",
   "outputs": [
    {
     "data": {
      "text/plain": "Pipeline(steps=[('preprocessor',\n                 ColumnTransformer(transformers=[('num',\n                                                  Pipeline(steps=[('imputer',\n                                                                   SimpleImputer(strategy='median')),\n                                                                  ('scaler',\n                                                                   StandardScaler())]),\n                                                  ['Water Resistance',\n                                                   'Case Diameter (mm)',\n                                                   'Case Thickness (mm)',\n                                                   'Band Width (mm)',\n                                                   'Power Reserve']),\n                                                 ('cat',\n                                                  Pipeline(steps=[('lowercase',\n                                                                   LowercaseTransformer()),\n                                                                  ('imputer',\n                                                                   SimpleImputer(fill_value='missing',\n                                                                                 strategy='constant')),\n                                                                  ('encoder',\n                                                                   OneHotEncoder(handle_unknown='ignore'))]),\n                                                  ['Brand', 'Model',\n                                                   'Case Material',\n                                                   'Strap Material',\n                                                   'Movement Type',\n                                                   'Dial Color',\n                                                   'Crystal Material',\n                                                   'Complications'])])),\n                ('model', GradientBoostingRegressor())])",
      "text/html": "<style>#sk-container-id-1 {color: black;}#sk-container-id-1 pre{padding: 0;}#sk-container-id-1 div.sk-toggleable {background-color: white;}#sk-container-id-1 label.sk-toggleable__label {cursor: pointer;display: block;width: 100%;margin-bottom: 0;padding: 0.3em;box-sizing: border-box;text-align: center;}#sk-container-id-1 label.sk-toggleable__label-arrow:before {content: \"▸\";float: left;margin-right: 0.25em;color: #696969;}#sk-container-id-1 label.sk-toggleable__label-arrow:hover:before {color: black;}#sk-container-id-1 div.sk-estimator:hover label.sk-toggleable__label-arrow:before {color: black;}#sk-container-id-1 div.sk-toggleable__content {max-height: 0;max-width: 0;overflow: hidden;text-align: left;background-color: #f0f8ff;}#sk-container-id-1 div.sk-toggleable__content pre {margin: 0.2em;color: black;border-radius: 0.25em;background-color: #f0f8ff;}#sk-container-id-1 input.sk-toggleable__control:checked~div.sk-toggleable__content {max-height: 200px;max-width: 100%;overflow: auto;}#sk-container-id-1 input.sk-toggleable__control:checked~label.sk-toggleable__label-arrow:before {content: \"▾\";}#sk-container-id-1 div.sk-estimator input.sk-toggleable__control:checked~label.sk-toggleable__label {background-color: #d4ebff;}#sk-container-id-1 div.sk-label input.sk-toggleable__control:checked~label.sk-toggleable__label {background-color: #d4ebff;}#sk-container-id-1 input.sk-hidden--visually {border: 0;clip: rect(1px 1px 1px 1px);clip: rect(1px, 1px, 1px, 1px);height: 1px;margin: -1px;overflow: hidden;padding: 0;position: absolute;width: 1px;}#sk-container-id-1 div.sk-estimator {font-family: monospace;background-color: #f0f8ff;border: 1px dotted black;border-radius: 0.25em;box-sizing: border-box;margin-bottom: 0.5em;}#sk-container-id-1 div.sk-estimator:hover {background-color: #d4ebff;}#sk-container-id-1 div.sk-parallel-item::after {content: \"\";width: 100%;border-bottom: 1px solid gray;flex-grow: 1;}#sk-container-id-1 div.sk-label:hover label.sk-toggleable__label {background-color: #d4ebff;}#sk-container-id-1 div.sk-serial::before {content: \"\";position: absolute;border-left: 1px solid gray;box-sizing: border-box;top: 0;bottom: 0;left: 50%;z-index: 0;}#sk-container-id-1 div.sk-serial {display: flex;flex-direction: column;align-items: center;background-color: white;padding-right: 0.2em;padding-left: 0.2em;position: relative;}#sk-container-id-1 div.sk-item {position: relative;z-index: 1;}#sk-container-id-1 div.sk-parallel {display: flex;align-items: stretch;justify-content: center;background-color: white;position: relative;}#sk-container-id-1 div.sk-item::before, #sk-container-id-1 div.sk-parallel-item::before {content: \"\";position: absolute;border-left: 1px solid gray;box-sizing: border-box;top: 0;bottom: 0;left: 50%;z-index: -1;}#sk-container-id-1 div.sk-parallel-item {display: flex;flex-direction: column;z-index: 1;position: relative;background-color: white;}#sk-container-id-1 div.sk-parallel-item:first-child::after {align-self: flex-end;width: 50%;}#sk-container-id-1 div.sk-parallel-item:last-child::after {align-self: flex-start;width: 50%;}#sk-container-id-1 div.sk-parallel-item:only-child::after {width: 0;}#sk-container-id-1 div.sk-dashed-wrapped {border: 1px dashed gray;margin: 0 0.4em 0.5em 0.4em;box-sizing: border-box;padding-bottom: 0.4em;background-color: white;}#sk-container-id-1 div.sk-label label {font-family: monospace;font-weight: bold;display: inline-block;line-height: 1.2em;}#sk-container-id-1 div.sk-label-container {text-align: center;}#sk-container-id-1 div.sk-container {/* jupyter's `normalize.less` sets `[hidden] { display: none; }` but bootstrap.min.css set `[hidden] { display: none !important; }` so we also need the `!important` here to be able to override the default hidden behavior on the sphinx rendered scikit-learn.org. See: https://github.com/scikit-learn/scikit-learn/issues/21755 */display: inline-block !important;position: relative;}#sk-container-id-1 div.sk-text-repr-fallback {display: none;}</style><div id=\"sk-container-id-1\" class=\"sk-top-container\"><div class=\"sk-text-repr-fallback\"><pre>Pipeline(steps=[(&#x27;preprocessor&#x27;,\n                 ColumnTransformer(transformers=[(&#x27;num&#x27;,\n                                                  Pipeline(steps=[(&#x27;imputer&#x27;,\n                                                                   SimpleImputer(strategy=&#x27;median&#x27;)),\n                                                                  (&#x27;scaler&#x27;,\n                                                                   StandardScaler())]),\n                                                  [&#x27;Water Resistance&#x27;,\n                                                   &#x27;Case Diameter (mm)&#x27;,\n                                                   &#x27;Case Thickness (mm)&#x27;,\n                                                   &#x27;Band Width (mm)&#x27;,\n                                                   &#x27;Power Reserve&#x27;]),\n                                                 (&#x27;cat&#x27;,\n                                                  Pipeline(steps=[(&#x27;lowercase&#x27;,\n                                                                   LowercaseTransformer()),\n                                                                  (&#x27;imputer&#x27;,\n                                                                   SimpleImputer(fill_value=&#x27;missing&#x27;,\n                                                                                 strategy=&#x27;constant&#x27;)),\n                                                                  (&#x27;encoder&#x27;,\n                                                                   OneHotEncoder(handle_unknown=&#x27;ignore&#x27;))]),\n                                                  [&#x27;Brand&#x27;, &#x27;Model&#x27;,\n                                                   &#x27;Case Material&#x27;,\n                                                   &#x27;Strap Material&#x27;,\n                                                   &#x27;Movement Type&#x27;,\n                                                   &#x27;Dial Color&#x27;,\n                                                   &#x27;Crystal Material&#x27;,\n                                                   &#x27;Complications&#x27;])])),\n                (&#x27;model&#x27;, GradientBoostingRegressor())])</pre><b>In a Jupyter environment, please rerun this cell to show the HTML representation or trust the notebook. <br />On GitHub, the HTML representation is unable to render, please try loading this page with nbviewer.org.</b></div><div class=\"sk-container\" hidden><div class=\"sk-item sk-dashed-wrapped\"><div class=\"sk-label-container\"><div class=\"sk-label sk-toggleable\"><input class=\"sk-toggleable__control sk-hidden--visually\" id=\"sk-estimator-id-1\" type=\"checkbox\" ><label for=\"sk-estimator-id-1\" class=\"sk-toggleable__label sk-toggleable__label-arrow\">Pipeline</label><div class=\"sk-toggleable__content\"><pre>Pipeline(steps=[(&#x27;preprocessor&#x27;,\n                 ColumnTransformer(transformers=[(&#x27;num&#x27;,\n                                                  Pipeline(steps=[(&#x27;imputer&#x27;,\n                                                                   SimpleImputer(strategy=&#x27;median&#x27;)),\n                                                                  (&#x27;scaler&#x27;,\n                                                                   StandardScaler())]),\n                                                  [&#x27;Water Resistance&#x27;,\n                                                   &#x27;Case Diameter (mm)&#x27;,\n                                                   &#x27;Case Thickness (mm)&#x27;,\n                                                   &#x27;Band Width (mm)&#x27;,\n                                                   &#x27;Power Reserve&#x27;]),\n                                                 (&#x27;cat&#x27;,\n                                                  Pipeline(steps=[(&#x27;lowercase&#x27;,\n                                                                   LowercaseTransformer()),\n                                                                  (&#x27;imputer&#x27;,\n                                                                   SimpleImputer(fill_value=&#x27;missing&#x27;,\n                                                                                 strategy=&#x27;constant&#x27;)),\n                                                                  (&#x27;encoder&#x27;,\n                                                                   OneHotEncoder(handle_unknown=&#x27;ignore&#x27;))]),\n                                                  [&#x27;Brand&#x27;, &#x27;Model&#x27;,\n                                                   &#x27;Case Material&#x27;,\n                                                   &#x27;Strap Material&#x27;,\n                                                   &#x27;Movement Type&#x27;,\n                                                   &#x27;Dial Color&#x27;,\n                                                   &#x27;Crystal Material&#x27;,\n                                                   &#x27;Complications&#x27;])])),\n                (&#x27;model&#x27;, GradientBoostingRegressor())])</pre></div></div></div><div class=\"sk-serial\"><div class=\"sk-item sk-dashed-wrapped\"><div class=\"sk-label-container\"><div class=\"sk-label sk-toggleable\"><input class=\"sk-toggleable__control sk-hidden--visually\" id=\"sk-estimator-id-2\" type=\"checkbox\" ><label for=\"sk-estimator-id-2\" class=\"sk-toggleable__label sk-toggleable__label-arrow\">preprocessor: ColumnTransformer</label><div class=\"sk-toggleable__content\"><pre>ColumnTransformer(transformers=[(&#x27;num&#x27;,\n                                 Pipeline(steps=[(&#x27;imputer&#x27;,\n                                                  SimpleImputer(strategy=&#x27;median&#x27;)),\n                                                 (&#x27;scaler&#x27;, StandardScaler())]),\n                                 [&#x27;Water Resistance&#x27;, &#x27;Case Diameter (mm)&#x27;,\n                                  &#x27;Case Thickness (mm)&#x27;, &#x27;Band Width (mm)&#x27;,\n                                  &#x27;Power Reserve&#x27;]),\n                                (&#x27;cat&#x27;,\n                                 Pipeline(steps=[(&#x27;lowercase&#x27;,\n                                                  LowercaseTransformer()),\n                                                 (&#x27;imputer&#x27;,\n                                                  SimpleImputer(fill_value=&#x27;missing&#x27;,\n                                                                strategy=&#x27;constant&#x27;)),\n                                                 (&#x27;encoder&#x27;,\n                                                  OneHotEncoder(handle_unknown=&#x27;ignore&#x27;))]),\n                                 [&#x27;Brand&#x27;, &#x27;Model&#x27;, &#x27;Case Material&#x27;,\n                                  &#x27;Strap Material&#x27;, &#x27;Movement Type&#x27;,\n                                  &#x27;Dial Color&#x27;, &#x27;Crystal Material&#x27;,\n                                  &#x27;Complications&#x27;])])</pre></div></div></div><div class=\"sk-parallel\"><div class=\"sk-parallel-item\"><div class=\"sk-item\"><div class=\"sk-label-container\"><div class=\"sk-label sk-toggleable\"><input class=\"sk-toggleable__control sk-hidden--visually\" id=\"sk-estimator-id-3\" type=\"checkbox\" ><label for=\"sk-estimator-id-3\" class=\"sk-toggleable__label sk-toggleable__label-arrow\">num</label><div class=\"sk-toggleable__content\"><pre>[&#x27;Water Resistance&#x27;, &#x27;Case Diameter (mm)&#x27;, &#x27;Case Thickness (mm)&#x27;, &#x27;Band Width (mm)&#x27;, &#x27;Power Reserve&#x27;]</pre></div></div></div><div class=\"sk-serial\"><div class=\"sk-item\"><div class=\"sk-serial\"><div class=\"sk-item\"><div class=\"sk-estimator sk-toggleable\"><input class=\"sk-toggleable__control sk-hidden--visually\" id=\"sk-estimator-id-4\" type=\"checkbox\" ><label for=\"sk-estimator-id-4\" class=\"sk-toggleable__label sk-toggleable__label-arrow\">SimpleImputer</label><div class=\"sk-toggleable__content\"><pre>SimpleImputer(strategy=&#x27;median&#x27;)</pre></div></div></div><div class=\"sk-item\"><div class=\"sk-estimator sk-toggleable\"><input class=\"sk-toggleable__control sk-hidden--visually\" id=\"sk-estimator-id-5\" type=\"checkbox\" ><label for=\"sk-estimator-id-5\" class=\"sk-toggleable__label sk-toggleable__label-arrow\">StandardScaler</label><div class=\"sk-toggleable__content\"><pre>StandardScaler()</pre></div></div></div></div></div></div></div></div><div class=\"sk-parallel-item\"><div class=\"sk-item\"><div class=\"sk-label-container\"><div class=\"sk-label sk-toggleable\"><input class=\"sk-toggleable__control sk-hidden--visually\" id=\"sk-estimator-id-6\" type=\"checkbox\" ><label for=\"sk-estimator-id-6\" class=\"sk-toggleable__label sk-toggleable__label-arrow\">cat</label><div class=\"sk-toggleable__content\"><pre>[&#x27;Brand&#x27;, &#x27;Model&#x27;, &#x27;Case Material&#x27;, &#x27;Strap Material&#x27;, &#x27;Movement Type&#x27;, &#x27;Dial Color&#x27;, &#x27;Crystal Material&#x27;, &#x27;Complications&#x27;]</pre></div></div></div><div class=\"sk-serial\"><div class=\"sk-item\"><div class=\"sk-serial\"><div class=\"sk-item\"><div class=\"sk-estimator sk-toggleable\"><input class=\"sk-toggleable__control sk-hidden--visually\" id=\"sk-estimator-id-7\" type=\"checkbox\" ><label for=\"sk-estimator-id-7\" class=\"sk-toggleable__label sk-toggleable__label-arrow\">LowercaseTransformer</label><div class=\"sk-toggleable__content\"><pre>LowercaseTransformer()</pre></div></div></div><div class=\"sk-item\"><div class=\"sk-estimator sk-toggleable\"><input class=\"sk-toggleable__control sk-hidden--visually\" id=\"sk-estimator-id-8\" type=\"checkbox\" ><label for=\"sk-estimator-id-8\" class=\"sk-toggleable__label sk-toggleable__label-arrow\">SimpleImputer</label><div class=\"sk-toggleable__content\"><pre>SimpleImputer(fill_value=&#x27;missing&#x27;, strategy=&#x27;constant&#x27;)</pre></div></div></div><div class=\"sk-item\"><div class=\"sk-estimator sk-toggleable\"><input class=\"sk-toggleable__control sk-hidden--visually\" id=\"sk-estimator-id-9\" type=\"checkbox\" ><label for=\"sk-estimator-id-9\" class=\"sk-toggleable__label sk-toggleable__label-arrow\">OneHotEncoder</label><div class=\"sk-toggleable__content\"><pre>OneHotEncoder(handle_unknown=&#x27;ignore&#x27;)</pre></div></div></div></div></div></div></div></div></div></div><div class=\"sk-item\"><div class=\"sk-estimator sk-toggleable\"><input class=\"sk-toggleable__control sk-hidden--visually\" id=\"sk-estimator-id-10\" type=\"checkbox\" ><label for=\"sk-estimator-id-10\" class=\"sk-toggleable__label sk-toggleable__label-arrow\">GradientBoostingRegressor</label><div class=\"sk-toggleable__content\"><pre>GradientBoostingRegressor()</pre></div></div></div></div></div></div></div>"
     },
     "execution_count": 17,
     "metadata": {},
     "output_type": "execute_result"
    }
   ],
   "source": [
    "pipeline = Pipeline(\n",
    "    steps=[(\"preprocessor\", preprocessor), (\"model\", gb)]\n",
    ")\n",
    "pipeline.fit(X, y)"
   ],
   "metadata": {
    "collapsed": false,
    "ExecuteTime": {
     "end_time": "2024-02-16T17:30:50.837195851Z",
     "start_time": "2024-02-16T17:30:50.712588249Z"
    }
   },
   "id": "efdd57ca",
   "execution_count": 17
  },
  {
   "cell_type": "code",
   "execution_count": 18,
   "outputs": [
    {
     "data": {
      "text/plain": "['model.joblib']"
     },
     "execution_count": 18,
     "metadata": {},
     "output_type": "execute_result"
    }
   ],
   "source": [
    "joblib.dump(pipeline, \"model.joblib\")"
   ],
   "metadata": {
    "collapsed": false,
    "ExecuteTime": {
     "end_time": "2024-02-16T17:30:54.292357259Z",
     "start_time": "2024-02-16T17:30:54.267625314Z"
    }
   },
   "id": "7ad564397603d6dd"
  },
  {
   "cell_type": "code",
   "outputs": [],
   "source": [
    "df.to_csv(\"processed_df.csv\")"
   ],
   "metadata": {
    "collapsed": false,
    "ExecuteTime": {
     "end_time": "2024-02-16T17:30:57.895687868Z",
     "start_time": "2024-02-16T17:30:57.841045058Z"
    }
   },
   "id": "7f47ee720d6d3eee",
   "execution_count": 19
  },
  {
   "cell_type": "code",
   "outputs": [],
   "source": [],
   "metadata": {
    "collapsed": false
   },
   "id": "4b3d687b68889a54"
  }
 ],
 "metadata": {
  "kernelspec": {
   "display_name": "Python 3",
   "language": "python",
   "name": "python3"
  },
  "language_info": {
   "codemirror_mode": {
    "name": "ipython",
    "version": 3
   },
   "file_extension": ".py",
   "mimetype": "text/x-python",
   "name": "python",
   "nbconvert_exporter": "python",
   "pygments_lexer": "ipython3",
   "version": "3.7.12"
  },
  "papermill": {
   "default_parameters": {},
   "duration": 13.099859,
   "end_time": "2023-03-11T13:04:16.886383",
   "environment_variables": {},
   "exception": null,
   "input_path": "__notebook__.ipynb",
   "output_path": "__notebook__.ipynb",
   "parameters": {},
   "start_time": "2023-03-11T13:04:03.786524",
   "version": "2.4.0"
  }
 },
 "nbformat": 4,
 "nbformat_minor": 5
}
