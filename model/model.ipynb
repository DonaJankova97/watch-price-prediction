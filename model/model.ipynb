{
 "cells": [
  {
   "cell_type": "code",
   "execution_count": 18,
   "id": "1f30cf87",
   "metadata": {
    "execution": {
     "iopub.execute_input": "2023-03-11T13:04:14.132439Z",
     "iopub.status.busy": "2023-03-11T13:04:14.131634Z",
     "iopub.status.idle": "2023-03-11T13:04:15.556009Z",
     "shell.execute_reply": "2023-03-11T13:04:15.554748Z"
    },
    "papermill": {
     "duration": 1.433144,
     "end_time": "2023-03-11T13:04:15.558817",
     "exception": false,
     "start_time": "2023-03-11T13:04:14.125673",
     "status": "completed"
    },
    "tags": [],
    "ExecuteTime": {
     "end_time": "2024-02-12T19:44:58.307776740Z",
     "start_time": "2024-02-12T19:44:58.266102534Z"
    }
   },
   "outputs": [],
   "source": [
    "import numpy as np \n",
    "import pandas as pd\n",
    "import joblib\n",
    "import tensorflow as tf\n",
    "from matplotlib import pyplot as plt\n",
    "\n",
    "from transformer import LowercaseTransformer\n",
    "\n",
    "from sklearn.pipeline import Pipeline\n",
    "from sklearn.compose import ColumnTransformer\n",
    "from sklearn.model_selection import train_test_split\n",
    "from sklearn.preprocessing import StandardScaler\n",
    "from sklearn.preprocessing import OneHotEncoder\n",
    "from sklearn.impute import SimpleImputer\n",
    "from sklearn.metrics import r2_score, mean_absolute_error, mean_squared_error\n",
    "\n",
    "from sklearn.linear_model import LinearRegression, Ridge, Lasso\n",
    "from sklearn.tree import DecisionTreeRegressor\n",
    "from sklearn.ensemble import RandomForestRegressor, ExtraTreesRegressor, GradientBoostingRegressor\n",
    "from xgboost import XGBRegressor\n",
    "import lightgbm as lgb\n",
    "from sklearn.neighbors import KNeighborsRegressor\n",
    "from sklearn.svm import SVR\n",
    "from sklearn.neural_network import MLPRegressor\n",
    "\n",
    "import warnings\n",
    "warnings.filterwarnings(\"ignore\")"
   ]
  },
  {
   "cell_type": "markdown",
   "source": [
    "# Data Preprocessing"
   ],
   "metadata": {
    "collapsed": false
   },
   "id": "6445b7d162804bd0"
  },
  {
   "cell_type": "code",
   "execution_count": 2,
   "outputs": [
    {
     "data": {
      "text/plain": "                   Brand              Model    Case Material   Strap Material  \\\n0                  Rolex         Submariner  Stainless Steel  Stainless Steel   \n1                  Omega          Seamaster         Titanium           Rubber   \n2              Tag Heuer            Carrera  Stainless Steel          Leather   \n3              Breitling          Navitimer  Stainless Steel  Stainless Steel   \n4                Cartier          Tank Solo  Stainless Steel          Leather   \n..                   ...                ...              ...              ...   \n502              Breguet          Classique    18k Rose Gold          Leather   \n503            Blancpain      Fifty Fathoms  Stainless Steel           Fabric   \n504             Longines  Master Collection  Stainless Steel          Leather   \n505  Vacheron Constantin           Overseas  Stainless Steel  Stainless Steel   \n506  Frederique Constant           Classics  Stainless Steel          Leather   \n\n    Movement Type Water Resistance  Case Diameter (mm)  Case Thickness (mm)  \\\n0       Automatic       300 meters                40.0                13.00   \n1       Automatic       600 meters                43.5                14.47   \n2       Automatic       100 meters                41.0                13.00   \n3       Automatic        30 meters                43.0                14.25   \n4          Quartz        30 meters                31.0                 6.05   \n..            ...              ...                 ...                  ...   \n502     Automatic        30 meters                38.5                 8.25   \n503     Automatic       300 meters                45.0                15.50   \n504     Automatic        30 meters                38.5                 9.70   \n505     Automatic       150 meters                41.5                11.00   \n506     Automatic        50 meters                40.0                10.60   \n\n     Band Width (mm) Dial Color Crystal Material Complications Power Reserve  \\\n0               20.0      Black         Sapphire          Date      48 hours   \n1               21.0       Blue         Sapphire          Date      60 hours   \n2               20.0      White         Sapphire   Chronograph      42 hours   \n3               22.0      Black         Sapphire   Chronograph      70 hours   \n4               20.0     Silver         Sapphire           NaN           NaN   \n..               ...        ...              ...           ...           ...   \n502             20.0      White         Sapphire          Date      38 hours   \n503             23.0      Black         Sapphire          Date     120 hours   \n504             20.0       Blue         Sapphire          Date      64 hours   \n505             22.0       Blue         Sapphire          Date      40 hours   \n506             20.0     Silver         Sapphire          Date      38 hours   \n\n    Price (USD)  \n0         9,500  \n1         5,800  \n2         4,200  \n3         7,900  \n4         2,800  \n..          ...  \n502      21,500  \n503      13,500  \n504       1,800  \n505      19,000  \n506       1,200  \n\n[507 rows x 14 columns]",
      "text/html": "<div>\n<style scoped>\n    .dataframe tbody tr th:only-of-type {\n        vertical-align: middle;\n    }\n\n    .dataframe tbody tr th {\n        vertical-align: top;\n    }\n\n    .dataframe thead th {\n        text-align: right;\n    }\n</style>\n<table border=\"1\" class=\"dataframe\">\n  <thead>\n    <tr style=\"text-align: right;\">\n      <th></th>\n      <th>Brand</th>\n      <th>Model</th>\n      <th>Case Material</th>\n      <th>Strap Material</th>\n      <th>Movement Type</th>\n      <th>Water Resistance</th>\n      <th>Case Diameter (mm)</th>\n      <th>Case Thickness (mm)</th>\n      <th>Band Width (mm)</th>\n      <th>Dial Color</th>\n      <th>Crystal Material</th>\n      <th>Complications</th>\n      <th>Power Reserve</th>\n      <th>Price (USD)</th>\n    </tr>\n  </thead>\n  <tbody>\n    <tr>\n      <th>0</th>\n      <td>Rolex</td>\n      <td>Submariner</td>\n      <td>Stainless Steel</td>\n      <td>Stainless Steel</td>\n      <td>Automatic</td>\n      <td>300 meters</td>\n      <td>40.0</td>\n      <td>13.00</td>\n      <td>20.0</td>\n      <td>Black</td>\n      <td>Sapphire</td>\n      <td>Date</td>\n      <td>48 hours</td>\n      <td>9,500</td>\n    </tr>\n    <tr>\n      <th>1</th>\n      <td>Omega</td>\n      <td>Seamaster</td>\n      <td>Titanium</td>\n      <td>Rubber</td>\n      <td>Automatic</td>\n      <td>600 meters</td>\n      <td>43.5</td>\n      <td>14.47</td>\n      <td>21.0</td>\n      <td>Blue</td>\n      <td>Sapphire</td>\n      <td>Date</td>\n      <td>60 hours</td>\n      <td>5,800</td>\n    </tr>\n    <tr>\n      <th>2</th>\n      <td>Tag Heuer</td>\n      <td>Carrera</td>\n      <td>Stainless Steel</td>\n      <td>Leather</td>\n      <td>Automatic</td>\n      <td>100 meters</td>\n      <td>41.0</td>\n      <td>13.00</td>\n      <td>20.0</td>\n      <td>White</td>\n      <td>Sapphire</td>\n      <td>Chronograph</td>\n      <td>42 hours</td>\n      <td>4,200</td>\n    </tr>\n    <tr>\n      <th>3</th>\n      <td>Breitling</td>\n      <td>Navitimer</td>\n      <td>Stainless Steel</td>\n      <td>Stainless Steel</td>\n      <td>Automatic</td>\n      <td>30 meters</td>\n      <td>43.0</td>\n      <td>14.25</td>\n      <td>22.0</td>\n      <td>Black</td>\n      <td>Sapphire</td>\n      <td>Chronograph</td>\n      <td>70 hours</td>\n      <td>7,900</td>\n    </tr>\n    <tr>\n      <th>4</th>\n      <td>Cartier</td>\n      <td>Tank Solo</td>\n      <td>Stainless Steel</td>\n      <td>Leather</td>\n      <td>Quartz</td>\n      <td>30 meters</td>\n      <td>31.0</td>\n      <td>6.05</td>\n      <td>20.0</td>\n      <td>Silver</td>\n      <td>Sapphire</td>\n      <td>NaN</td>\n      <td>NaN</td>\n      <td>2,800</td>\n    </tr>\n    <tr>\n      <th>...</th>\n      <td>...</td>\n      <td>...</td>\n      <td>...</td>\n      <td>...</td>\n      <td>...</td>\n      <td>...</td>\n      <td>...</td>\n      <td>...</td>\n      <td>...</td>\n      <td>...</td>\n      <td>...</td>\n      <td>...</td>\n      <td>...</td>\n      <td>...</td>\n    </tr>\n    <tr>\n      <th>502</th>\n      <td>Breguet</td>\n      <td>Classique</td>\n      <td>18k Rose Gold</td>\n      <td>Leather</td>\n      <td>Automatic</td>\n      <td>30 meters</td>\n      <td>38.5</td>\n      <td>8.25</td>\n      <td>20.0</td>\n      <td>White</td>\n      <td>Sapphire</td>\n      <td>Date</td>\n      <td>38 hours</td>\n      <td>21,500</td>\n    </tr>\n    <tr>\n      <th>503</th>\n      <td>Blancpain</td>\n      <td>Fifty Fathoms</td>\n      <td>Stainless Steel</td>\n      <td>Fabric</td>\n      <td>Automatic</td>\n      <td>300 meters</td>\n      <td>45.0</td>\n      <td>15.50</td>\n      <td>23.0</td>\n      <td>Black</td>\n      <td>Sapphire</td>\n      <td>Date</td>\n      <td>120 hours</td>\n      <td>13,500</td>\n    </tr>\n    <tr>\n      <th>504</th>\n      <td>Longines</td>\n      <td>Master Collection</td>\n      <td>Stainless Steel</td>\n      <td>Leather</td>\n      <td>Automatic</td>\n      <td>30 meters</td>\n      <td>38.5</td>\n      <td>9.70</td>\n      <td>20.0</td>\n      <td>Blue</td>\n      <td>Sapphire</td>\n      <td>Date</td>\n      <td>64 hours</td>\n      <td>1,800</td>\n    </tr>\n    <tr>\n      <th>505</th>\n      <td>Vacheron Constantin</td>\n      <td>Overseas</td>\n      <td>Stainless Steel</td>\n      <td>Stainless Steel</td>\n      <td>Automatic</td>\n      <td>150 meters</td>\n      <td>41.5</td>\n      <td>11.00</td>\n      <td>22.0</td>\n      <td>Blue</td>\n      <td>Sapphire</td>\n      <td>Date</td>\n      <td>40 hours</td>\n      <td>19,000</td>\n    </tr>\n    <tr>\n      <th>506</th>\n      <td>Frederique Constant</td>\n      <td>Classics</td>\n      <td>Stainless Steel</td>\n      <td>Leather</td>\n      <td>Automatic</td>\n      <td>50 meters</td>\n      <td>40.0</td>\n      <td>10.60</td>\n      <td>20.0</td>\n      <td>Silver</td>\n      <td>Sapphire</td>\n      <td>Date</td>\n      <td>38 hours</td>\n      <td>1,200</td>\n    </tr>\n  </tbody>\n</table>\n<p>507 rows × 14 columns</p>\n</div>"
     },
     "execution_count": 2,
     "metadata": {},
     "output_type": "execute_result"
    }
   ],
   "source": [
    "df = pd.read_csv('Luxury watch.csv')\n",
    "df"
   ],
   "metadata": {
    "collapsed": false,
    "ExecuteTime": {
     "end_time": "2024-02-10T11:48:27.141629414Z",
     "start_time": "2024-02-10T11:48:27.124424272Z"
    }
   },
   "id": "5bf91130"
  },
  {
   "cell_type": "markdown",
   "source": [
    "### Make the target column, water resistance and power reserve to be of type float instead of object"
   ],
   "metadata": {
    "collapsed": false
   },
   "id": "9bf454ed1306a359"
  },
  {
   "cell_type": "code",
   "execution_count": 3,
   "outputs": [],
   "source": [
    "df['Price (USD)'] = df['Price (USD)'].apply(lambda x: float(str(x).replace(',','')))\n",
    "\n",
    "df['Water Resistance'] = df['Water Resistance'].apply(lambda x: float(str(x).replace('meters', '')))\n",
    "\n",
    "# Function to convert days to hours\n",
    "def convert_days_to_hours(value):\n",
    "    if pd.notna(value):  # Check if the value is not NaN\n",
    "        if 'days' in value:\n",
    "            days = int(value.split()[0])\n",
    "            return days * 24\n",
    "        elif 'hours' in value:\n",
    "            return int(value.split()[0])\n",
    "        else: return np.nan\n",
    "    else:\n",
    "        return value  # Return NaN if the input is NaN\n",
    "# Apply the function to the 'Power Reserve' column\n",
    "df['Power Reserve'] = df['Power Reserve'].apply(convert_days_to_hours)\n",
    "df['Power Reserve'] = df['Power Reserve'].apply(lambda x: float(str(x).replace('hours', '')))"
   ],
   "metadata": {
    "collapsed": false,
    "ExecuteTime": {
     "end_time": "2024-02-10T11:48:27.317416197Z",
     "start_time": "2024-02-10T11:48:27.315439439Z"
    }
   },
   "id": "182addbb"
  },
  {
   "cell_type": "markdown",
   "source": [
    "### Remove rows that contain nan values"
   ],
   "metadata": {
    "collapsed": false
   },
   "id": "65751da8c1b55e98"
  },
  {
   "cell_type": "code",
   "outputs": [],
   "source": [
    "# df.dropna(inplace=True)\n",
    "df.dropna(subset = ['Price (USD)'], inplace=True)"
   ],
   "metadata": {
    "collapsed": false,
    "ExecuteTime": {
     "end_time": "2024-02-10T11:48:28.061388733Z",
     "start_time": "2024-02-10T11:48:28.050642807Z"
    }
   },
   "id": "2b4e378d",
   "execution_count": 4
  },
  {
   "cell_type": "markdown",
   "source": [
    "### Remove duplicated rows"
   ],
   "metadata": {
    "collapsed": false
   },
   "id": "9331dce90d027844"
  },
  {
   "cell_type": "code",
   "outputs": [],
   "source": [
    "df = df.drop_duplicates()"
   ],
   "metadata": {
    "collapsed": false,
    "ExecuteTime": {
     "end_time": "2024-02-10T11:48:31.139693816Z",
     "start_time": "2024-02-10T11:48:31.133245689Z"
    }
   },
   "id": "e0591293593eeb3c",
   "execution_count": 5
  },
  {
   "cell_type": "markdown",
   "source": [
    "### Create column transformer"
   ],
   "metadata": {
    "collapsed": false
   },
   "id": "4846c7c4c0280170"
  },
  {
   "cell_type": "code",
   "execution_count": 6,
   "outputs": [],
   "source": [
    "targetcol = 'Price (USD)'\n",
    "X = df.loc[:,~df.columns.isin([targetcol])]\n",
    "y = df.loc[:,df.columns.isin([targetcol])]\n",
    "catcols = list(X.select_dtypes(include=['object']).columns)\n",
    "numcols = list(X.select_dtypes(include=['float64','int']).columns)"
   ],
   "metadata": {
    "collapsed": false,
    "ExecuteTime": {
     "end_time": "2024-02-10T11:48:36.712385049Z",
     "start_time": "2024-02-10T11:48:36.706178474Z"
    }
   },
   "id": "70a8b8e1"
  },
  {
   "cell_type": "code",
   "execution_count": 7,
   "outputs": [
    {
     "data": {
      "text/plain": "['Water Resistance',\n 'Case Diameter (mm)',\n 'Case Thickness (mm)',\n 'Band Width (mm)',\n 'Power Reserve']"
     },
     "execution_count": 7,
     "metadata": {},
     "output_type": "execute_result"
    }
   ],
   "source": [
    "numcols"
   ],
   "metadata": {
    "collapsed": false,
    "ExecuteTime": {
     "end_time": "2024-02-10T11:48:37.309779339Z",
     "start_time": "2024-02-10T11:48:37.307269607Z"
    }
   },
   "id": "7be345ca1fc1c563"
  },
  {
   "cell_type": "code",
   "execution_count": 8,
   "outputs": [
    {
     "data": {
      "text/plain": "['Brand',\n 'Model',\n 'Case Material',\n 'Strap Material',\n 'Movement Type',\n 'Dial Color',\n 'Crystal Material',\n 'Complications']"
     },
     "execution_count": 8,
     "metadata": {},
     "output_type": "execute_result"
    }
   ],
   "source": [
    "catcols"
   ],
   "metadata": {
    "collapsed": false,
    "ExecuteTime": {
     "end_time": "2024-02-10T11:48:37.781747039Z",
     "start_time": "2024-02-10T11:48:37.777204022Z"
    }
   },
   "id": "da8cb5f8a34f9fd4"
  },
  {
   "cell_type": "code",
   "execution_count": 9,
   "id": "116fa0ba",
   "metadata": {
    "execution": {
     "iopub.execute_input": "2023-03-11T13:04:15.569771Z",
     "iopub.status.busy": "2023-03-11T13:04:15.569320Z",
     "iopub.status.idle": "2023-03-11T13:04:15.576989Z",
     "shell.execute_reply": "2023-03-11T13:04:15.575757Z"
    },
    "papermill": {
     "duration": 0.015956,
     "end_time": "2023-03-11T13:04:15.579487",
     "exception": false,
     "start_time": "2023-03-11T13:04:15.563531",
     "status": "completed"
    },
    "tags": [],
    "ExecuteTime": {
     "end_time": "2024-02-10T11:48:38.324289112Z",
     "start_time": "2024-02-10T11:48:38.319705625Z"
    }
   },
   "outputs": [],
   "source": [
    "numeric_transformer = Pipeline([\n",
    "    (\"imputer\", SimpleImputer(strategy='median')),\n",
    "    (\"scaler\", StandardScaler())\n",
    "])\n",
    "\n",
    "categorical_transformer = Pipeline([\n",
    "    (\"lowercase\", LowercaseTransformer()),  # Custom transformer for lowercase\n",
    "    (\"imputer\", SimpleImputer(strategy=\"constant\", fill_value=\"missing\")),\n",
    "    (\"encoder\", OneHotEncoder(handle_unknown=\"ignore\")),\n",
    "])\n",
    "preprocessor = ColumnTransformer(\n",
    "    transformers=[\n",
    "        (\"num\", numeric_transformer, numcols),\n",
    "        (\"cat\", categorical_transformer, catcols),\n",
    "    ]\n",
    ")"
   ]
  },
  {
   "cell_type": "markdown",
   "source": [
    "# Models"
   ],
   "metadata": {
    "collapsed": false
   },
   "id": "a9323777542029f4"
  },
  {
   "cell_type": "markdown",
   "source": [
    "### Split the dataset"
   ],
   "metadata": {
    "collapsed": false
   },
   "id": "7e08793099d8d9fb"
  },
  {
   "cell_type": "code",
   "outputs": [],
   "source": [
    "X_train, X_test, y_train, y_test = train_test_split(X, y, test_size=0.2, random_state=42)"
   ],
   "metadata": {
    "collapsed": false,
    "ExecuteTime": {
     "end_time": "2024-02-10T11:48:39.994509138Z",
     "start_time": "2024-02-10T11:48:39.972856474Z"
    }
   },
   "id": "513280edf7ba7afe",
   "execution_count": 10
  },
  {
   "cell_type": "markdown",
   "source": [
    "### Define models "
   ],
   "metadata": {
    "collapsed": false
   },
   "id": "ce13d6f19a35ba01"
  },
  {
   "cell_type": "code",
   "outputs": [],
   "source": [
    "lr = LinearRegression()\n",
    "ridge = Ridge()\n",
    "lasso = Lasso()\n",
    "tree = DecisionTreeRegressor()\n",
    "rf = RandomForestRegressor()\n",
    "etree = ExtraTreesRegressor()\n",
    "gb = GradientBoostingRegressor()\n",
    "xgb = XGBRegressor()\n",
    "knn = KNeighborsRegressor()\n",
    "svr = SVR(kernel='linear', C=1.0)\n",
    "lgbm = lgb.LGBMRegressor()\n",
    "mlp = MLPRegressor(hidden_layer_sizes=(10,), max_iter=1000, random_state=42)\n",
    "\n",
    "\n",
    "Models = [lr, ridge, lasso, tree, rf, etree, gb, xgb, knn, svr, lgbm, mlp]"
   ],
   "metadata": {
    "collapsed": false,
    "ExecuteTime": {
     "end_time": "2024-02-10T11:48:41.128808318Z",
     "start_time": "2024-02-10T11:48:41.126519712Z"
    }
   },
   "id": "5e52b55067e52893",
   "execution_count": 11
  },
  {
   "cell_type": "markdown",
   "source": [
    "### Test models"
   ],
   "metadata": {
    "collapsed": false
   },
   "id": "1815c2dd039836c2"
  },
  {
   "cell_type": "code",
   "outputs": [
    {
     "name": "stdout",
     "output_type": "stream",
     "text": [
      "Model is: LinearRegression()\n",
      "Training score : 0.9197281804917987\n",
      "R2 score : 0.8667327434884107\n",
      "MAE : 2179.7762311512483\n",
      "MSE : 10789825.918603633\n",
      "RMSE : 3284.787043113089\n",
      "================================================================================\n",
      "Model is: Ridge()\n",
      "Training score : 0.9092597893044413\n",
      "R2 score : 0.8858082211645759\n",
      "MAE : 1943.4919238188795\n",
      "MSE : 9245402.413328478\n",
      "RMSE : 3040.6253326130923\n",
      "================================================================================\n",
      "Model is: Lasso()\n",
      "Training score : 0.9175641286256786\n",
      "R2 score : 0.8818181871393133\n",
      "MAE : 1904.404552452319\n",
      "MSE : 9568450.802473824\n",
      "RMSE : 3093.2912572976093\n",
      "================================================================================\n",
      "Model is: DecisionTreeRegressor()\n",
      "Training score : 0.9796725033729013\n",
      "R2 score : 0.7844992265676918\n",
      "MAE : 2341.045918367347\n",
      "MSE : 17447765.426587302\n",
      "RMSE : 4177.052241304543\n",
      "================================================================================\n",
      "Model is: RandomForestRegressor()\n",
      "Training score : 0.9576313614562013\n",
      "R2 score : 0.909964760681306\n",
      "MAE : 1743.9464856855166\n",
      "MSE : 7289596.741297388\n",
      "RMSE : 2699.9253214297223\n",
      "================================================================================\n",
      "Model is: ExtraTreesRegressor()\n",
      "Training score : 0.9796725033729013\n",
      "R2 score : 0.861926900043035\n",
      "MAE : 1952.1118197278918\n",
      "MSE : 11178925.353266023\n",
      "RMSE : 3343.489995987131\n",
      "================================================================================\n",
      "Model is: GradientBoostingRegressor()\n",
      "Training score : 0.9384833829337763\n",
      "R2 score : 0.8961302619458795\n",
      "MAE : 2006.237930679732\n",
      "MSE : 8409690.58080262\n",
      "RMSE : 2899.946651371818\n",
      "================================================================================\n",
      "Model is: XGBRegressor(base_score=None, booster=None, callbacks=None,\n",
      "             colsample_bylevel=None, colsample_bynode=None,\n",
      "             colsample_bytree=None, device=None, early_stopping_rounds=None,\n",
      "             enable_categorical=False, eval_metric=None, feature_types=None,\n",
      "             gamma=None, grow_policy=None, importance_type=None,\n",
      "             interaction_constraints=None, learning_rate=None, max_bin=None,\n",
      "             max_cat_threshold=None, max_cat_to_onehot=None,\n",
      "             max_delta_step=None, max_depth=None, max_leaves=None,\n",
      "             min_child_weight=None, missing=nan, monotone_constraints=None,\n",
      "             multi_strategy=None, n_estimators=None, n_jobs=None,\n",
      "             num_parallel_tree=None, random_state=None, ...)\n",
      "Training score : 0.977859740017666\n",
      "R2 score : 0.8541396683582838\n",
      "MAE : 1931.442710409359\n",
      "MSE : 11809409.363109749\n",
      "RMSE : 3436.482120295368\n",
      "================================================================================\n",
      "Model is: KNeighborsRegressor()\n",
      "Training score : 0.8532002150295224\n",
      "R2 score : 0.8373807292483237\n",
      "MAE : 2297.4285714285716\n",
      "MSE : 13166277.06122449\n",
      "RMSE : 3628.5364902704905\n",
      "================================================================================\n",
      "Model is: SVR(kernel='linear')\n",
      "Training score : -0.12174015253239023\n",
      "R2 score : -0.02862797729660227\n",
      "MAE : 5869.776061174742\n",
      "MSE : 83281648.47507411\n",
      "RMSE : 9125.877956398173\n",
      "================================================================================\n",
      "Model is: LGBMRegressor()\n",
      "[LightGBM] [Info] Auto-choosing row-wise multi-threading, the overhead of testing was 0.000073 seconds.\n",
      "You can set `force_row_wise=true` to remove the overhead.\n",
      "And if memory is not enough, you can set `force_col_wise=true`.\n",
      "[LightGBM] [Info] Total Bins 185\n",
      "[LightGBM] [Info] Number of data points in the train set: 389, number of used features: 32\n",
      "[LightGBM] [Info] Start training from score 12522.596401\n",
      "[LightGBM] [Warning] No further splits with positive gain, best gain: -inf\n",
      "[LightGBM] [Warning] No further splits with positive gain, best gain: -inf\n",
      "[LightGBM] [Warning] No further splits with positive gain, best gain: -inf\n",
      "[LightGBM] [Warning] No further splits with positive gain, best gain: -inf\n",
      "[LightGBM] [Warning] No further splits with positive gain, best gain: -inf\n",
      "[LightGBM] [Warning] No further splits with positive gain, best gain: -inf\n",
      "[LightGBM] [Warning] No further splits with positive gain, best gain: -inf\n",
      "[LightGBM] [Warning] No further splits with positive gain, best gain: -inf\n",
      "[LightGBM] [Warning] No further splits with positive gain, best gain: -inf\n",
      "[LightGBM] [Warning] No further splits with positive gain, best gain: -inf\n",
      "[LightGBM] [Warning] No further splits with positive gain, best gain: -inf\n",
      "[LightGBM] [Warning] No further splits with positive gain, best gain: -inf\n",
      "[LightGBM] [Warning] No further splits with positive gain, best gain: -inf\n",
      "[LightGBM] [Warning] No further splits with positive gain, best gain: -inf\n",
      "[LightGBM] [Warning] No further splits with positive gain, best gain: -inf\n",
      "[LightGBM] [Warning] No further splits with positive gain, best gain: -inf\n",
      "[LightGBM] [Warning] No further splits with positive gain, best gain: -inf\n",
      "[LightGBM] [Warning] No further splits with positive gain, best gain: -inf\n",
      "[LightGBM] [Warning] No further splits with positive gain, best gain: -inf\n",
      "[LightGBM] [Warning] No further splits with positive gain, best gain: -inf\n",
      "[LightGBM] [Warning] No further splits with positive gain, best gain: -inf\n",
      "[LightGBM] [Warning] No further splits with positive gain, best gain: -inf\n",
      "[LightGBM] [Warning] No further splits with positive gain, best gain: -inf\n",
      "[LightGBM] [Warning] No further splits with positive gain, best gain: -inf\n",
      "[LightGBM] [Warning] No further splits with positive gain, best gain: -inf\n",
      "[LightGBM] [Warning] No further splits with positive gain, best gain: -inf\n",
      "[LightGBM] [Warning] No further splits with positive gain, best gain: -inf\n",
      "[LightGBM] [Warning] No further splits with positive gain, best gain: -inf\n",
      "[LightGBM] [Warning] No further splits with positive gain, best gain: -inf\n",
      "[LightGBM] [Warning] No further splits with positive gain, best gain: -inf\n",
      "[LightGBM] [Warning] No further splits with positive gain, best gain: -inf\n",
      "[LightGBM] [Warning] No further splits with positive gain, best gain: -inf\n",
      "[LightGBM] [Warning] No further splits with positive gain, best gain: -inf\n",
      "[LightGBM] [Warning] No further splits with positive gain, best gain: -inf\n",
      "[LightGBM] [Warning] No further splits with positive gain, best gain: -inf\n",
      "[LightGBM] [Warning] No further splits with positive gain, best gain: -inf\n",
      "[LightGBM] [Warning] No further splits with positive gain, best gain: -inf\n",
      "[LightGBM] [Warning] No further splits with positive gain, best gain: -inf\n",
      "[LightGBM] [Warning] No further splits with positive gain, best gain: -inf\n",
      "[LightGBM] [Warning] No further splits with positive gain, best gain: -inf\n",
      "[LightGBM] [Warning] No further splits with positive gain, best gain: -inf\n",
      "[LightGBM] [Warning] No further splits with positive gain, best gain: -inf\n",
      "[LightGBM] [Warning] No further splits with positive gain, best gain: -inf\n",
      "[LightGBM] [Warning] No further splits with positive gain, best gain: -inf\n",
      "[LightGBM] [Warning] No further splits with positive gain, best gain: -inf\n",
      "[LightGBM] [Warning] No further splits with positive gain, best gain: -inf\n",
      "[LightGBM] [Warning] No further splits with positive gain, best gain: -inf\n",
      "[LightGBM] [Warning] No further splits with positive gain, best gain: -inf\n",
      "[LightGBM] [Warning] No further splits with positive gain, best gain: -inf\n",
      "[LightGBM] [Warning] No further splits with positive gain, best gain: -inf\n",
      "[LightGBM] [Warning] No further splits with positive gain, best gain: -inf\n",
      "[LightGBM] [Warning] No further splits with positive gain, best gain: -inf\n",
      "[LightGBM] [Warning] No further splits with positive gain, best gain: -inf\n",
      "[LightGBM] [Warning] No further splits with positive gain, best gain: -inf\n",
      "[LightGBM] [Warning] No further splits with positive gain, best gain: -inf\n",
      "[LightGBM] [Warning] No further splits with positive gain, best gain: -inf\n",
      "[LightGBM] [Warning] No further splits with positive gain, best gain: -inf\n",
      "[LightGBM] [Warning] No further splits with positive gain, best gain: -inf\n",
      "[LightGBM] [Warning] No further splits with positive gain, best gain: -inf\n",
      "[LightGBM] [Warning] No further splits with positive gain, best gain: -inf\n",
      "[LightGBM] [Warning] No further splits with positive gain, best gain: -inf\n",
      "[LightGBM] [Warning] No further splits with positive gain, best gain: -inf\n",
      "[LightGBM] [Warning] No further splits with positive gain, best gain: -inf\n",
      "[LightGBM] [Warning] No further splits with positive gain, best gain: -inf\n",
      "[LightGBM] [Warning] No further splits with positive gain, best gain: -inf\n",
      "[LightGBM] [Warning] No further splits with positive gain, best gain: -inf\n",
      "[LightGBM] [Warning] No further splits with positive gain, best gain: -inf\n",
      "[LightGBM] [Warning] No further splits with positive gain, best gain: -inf\n",
      "[LightGBM] [Warning] No further splits with positive gain, best gain: -inf\n",
      "[LightGBM] [Warning] No further splits with positive gain, best gain: -inf\n",
      "[LightGBM] [Warning] No further splits with positive gain, best gain: -inf\n",
      "[LightGBM] [Warning] No further splits with positive gain, best gain: -inf\n",
      "[LightGBM] [Warning] No further splits with positive gain, best gain: -inf\n",
      "[LightGBM] [Warning] No further splits with positive gain, best gain: -inf\n",
      "[LightGBM] [Warning] No further splits with positive gain, best gain: -inf\n",
      "[LightGBM] [Warning] No further splits with positive gain, best gain: -inf\n",
      "[LightGBM] [Warning] No further splits with positive gain, best gain: -inf\n",
      "[LightGBM] [Warning] No further splits with positive gain, best gain: -inf\n",
      "[LightGBM] [Warning] No further splits with positive gain, best gain: -inf\n",
      "[LightGBM] [Warning] No further splits with positive gain, best gain: -inf\n",
      "[LightGBM] [Warning] No further splits with positive gain, best gain: -inf\n",
      "[LightGBM] [Warning] No further splits with positive gain, best gain: -inf\n",
      "[LightGBM] [Warning] No further splits with positive gain, best gain: -inf\n",
      "[LightGBM] [Warning] No further splits with positive gain, best gain: -inf\n",
      "[LightGBM] [Warning] No further splits with positive gain, best gain: -inf\n",
      "[LightGBM] [Warning] No further splits with positive gain, best gain: -inf\n",
      "[LightGBM] [Warning] No further splits with positive gain, best gain: -inf\n",
      "[LightGBM] [Warning] No further splits with positive gain, best gain: -inf\n",
      "[LightGBM] [Warning] No further splits with positive gain, best gain: -inf\n",
      "[LightGBM] [Warning] No further splits with positive gain, best gain: -inf\n",
      "[LightGBM] [Warning] No further splits with positive gain, best gain: -inf\n",
      "[LightGBM] [Warning] No further splits with positive gain, best gain: -inf\n",
      "[LightGBM] [Warning] No further splits with positive gain, best gain: -inf\n",
      "[LightGBM] [Warning] No further splits with positive gain, best gain: -inf\n",
      "[LightGBM] [Warning] No further splits with positive gain, best gain: -inf\n",
      "[LightGBM] [Warning] No further splits with positive gain, best gain: -inf\n",
      "[LightGBM] [Warning] No further splits with positive gain, best gain: -inf\n",
      "[LightGBM] [Warning] No further splits with positive gain, best gain: -inf\n",
      "[LightGBM] [Warning] No further splits with positive gain, best gain: -inf\n",
      "[LightGBM] [Warning] No further splits with positive gain, best gain: -inf\n",
      "Training score : 0.9079718922536875\n",
      "R2 score : 0.8662794291652935\n",
      "MAE : 2242.105604724889\n",
      "MSE : 10826527.977015248\n",
      "RMSE : 3290.368972777255\n",
      "================================================================================\n",
      "Model is: MLPRegressor(hidden_layer_sizes=(10,), max_iter=1000, random_state=42)\n",
      "Training score : -1.2607762081476652\n",
      "R2 score : -1.226665531310879\n",
      "MAE : 9989.834021145401\n",
      "MSE : 180279343.10863632\n",
      "RMSE : 13426.81433209815\n",
      "================================================================================\n"
     ]
    },
    {
     "data": {
      "text/plain": "                                           Model Name  R2 score          MAE  \\\n4   (DecisionTreeRegressor(max_features=1.0, rando...  0.909965  1743.946486   \n6   ([DecisionTreeRegressor(criterion='friedman_ms...  0.896130  2006.237931   \n1                                             Ridge()  0.885808  1943.491924   \n2                                             Lasso()  0.881818  1904.404552   \n0                                  LinearRegression()  0.866733  2179.776231   \n10                                    LGBMRegressor()  0.866279  2242.105605   \n5   (ExtraTreeRegressor(random_state=228571789), E...  0.861927  1952.111820   \n7   XGBRegressor(base_score=None, booster=None, ca...  0.854140  1931.442710   \n8                               KNeighborsRegressor()  0.837381  2297.428571   \n3                             DecisionTreeRegressor()  0.784499  2341.045918   \n9                                SVR(kernel='linear') -0.028628  5869.776061   \n11  MLPRegressor(hidden_layer_sizes=(10,), max_ite... -1.226666  9989.834021   \n\n             MSE          RMSE  \n4   7.289597e+06   2699.925321  \n6   8.409691e+06   2899.946651  \n1   9.245402e+06   3040.625333  \n2   9.568451e+06   3093.291257  \n0   1.078983e+07   3284.787043  \n10  1.082653e+07   3290.368973  \n5   1.117893e+07   3343.489996  \n7   1.180941e+07   3436.482120  \n8   1.316628e+07   3628.536490  \n3   1.744777e+07   4177.052241  \n9   8.328165e+07   9125.877956  \n11  1.802793e+08  13426.814332  ",
      "text/html": "<div>\n<style scoped>\n    .dataframe tbody tr th:only-of-type {\n        vertical-align: middle;\n    }\n\n    .dataframe tbody tr th {\n        vertical-align: top;\n    }\n\n    .dataframe thead th {\n        text-align: right;\n    }\n</style>\n<table border=\"1\" class=\"dataframe\">\n  <thead>\n    <tr style=\"text-align: right;\">\n      <th></th>\n      <th>Model Name</th>\n      <th>R2 score</th>\n      <th>MAE</th>\n      <th>MSE</th>\n      <th>RMSE</th>\n    </tr>\n  </thead>\n  <tbody>\n    <tr>\n      <th>4</th>\n      <td>(DecisionTreeRegressor(max_features=1.0, rando...</td>\n      <td>0.909965</td>\n      <td>1743.946486</td>\n      <td>7.289597e+06</td>\n      <td>2699.925321</td>\n    </tr>\n    <tr>\n      <th>6</th>\n      <td>([DecisionTreeRegressor(criterion='friedman_ms...</td>\n      <td>0.896130</td>\n      <td>2006.237931</td>\n      <td>8.409691e+06</td>\n      <td>2899.946651</td>\n    </tr>\n    <tr>\n      <th>1</th>\n      <td>Ridge()</td>\n      <td>0.885808</td>\n      <td>1943.491924</td>\n      <td>9.245402e+06</td>\n      <td>3040.625333</td>\n    </tr>\n    <tr>\n      <th>2</th>\n      <td>Lasso()</td>\n      <td>0.881818</td>\n      <td>1904.404552</td>\n      <td>9.568451e+06</td>\n      <td>3093.291257</td>\n    </tr>\n    <tr>\n      <th>0</th>\n      <td>LinearRegression()</td>\n      <td>0.866733</td>\n      <td>2179.776231</td>\n      <td>1.078983e+07</td>\n      <td>3284.787043</td>\n    </tr>\n    <tr>\n      <th>10</th>\n      <td>LGBMRegressor()</td>\n      <td>0.866279</td>\n      <td>2242.105605</td>\n      <td>1.082653e+07</td>\n      <td>3290.368973</td>\n    </tr>\n    <tr>\n      <th>5</th>\n      <td>(ExtraTreeRegressor(random_state=228571789), E...</td>\n      <td>0.861927</td>\n      <td>1952.111820</td>\n      <td>1.117893e+07</td>\n      <td>3343.489996</td>\n    </tr>\n    <tr>\n      <th>7</th>\n      <td>XGBRegressor(base_score=None, booster=None, ca...</td>\n      <td>0.854140</td>\n      <td>1931.442710</td>\n      <td>1.180941e+07</td>\n      <td>3436.482120</td>\n    </tr>\n    <tr>\n      <th>8</th>\n      <td>KNeighborsRegressor()</td>\n      <td>0.837381</td>\n      <td>2297.428571</td>\n      <td>1.316628e+07</td>\n      <td>3628.536490</td>\n    </tr>\n    <tr>\n      <th>3</th>\n      <td>DecisionTreeRegressor()</td>\n      <td>0.784499</td>\n      <td>2341.045918</td>\n      <td>1.744777e+07</td>\n      <td>4177.052241</td>\n    </tr>\n    <tr>\n      <th>9</th>\n      <td>SVR(kernel='linear')</td>\n      <td>-0.028628</td>\n      <td>5869.776061</td>\n      <td>8.328165e+07</td>\n      <td>9125.877956</td>\n    </tr>\n    <tr>\n      <th>11</th>\n      <td>MLPRegressor(hidden_layer_sizes=(10,), max_ite...</td>\n      <td>-1.226666</td>\n      <td>9989.834021</td>\n      <td>1.802793e+08</td>\n      <td>13426.814332</td>\n    </tr>\n  </tbody>\n</table>\n</div>"
     },
     "metadata": {},
     "output_type": "display_data"
    }
   ],
   "source": [
    "results = pd.DataFrame()\n",
    "\n",
    "for model in Models:\n",
    "    print('Model is: {}'.format(model))\n",
    "    pipeline = Pipeline(\n",
    "        steps=[(\"preprocessor\", preprocessor), (\"model\", model)]\n",
    "    )\n",
    "    m = pipeline.fit(X_train, y_train)\n",
    "    print('Training score : {}'.format(m.score(X_train, y_train)))\n",
    "    prediction = m.predict(X_test)\n",
    "\n",
    "    r2score = r2_score(y_test, prediction)\n",
    "    mae = mean_absolute_error(y_test, prediction)\n",
    "    mse = mean_squared_error(y_test, prediction)\n",
    "    rmse = np.sqrt(mean_squared_error(y_test, prediction))\n",
    "    print('R2 score : {}'.format(r2score))\n",
    "    print('MAE : {}'.format(mae))\n",
    "    print('MSE : {}'.format(mse))\n",
    "    print('RMSE : {}'.format(rmse))\n",
    "\n",
    "    model_df = pd.DataFrame({'Model Name': [model], 'R2 score': [r2score], 'MAE': [mae], 'MSE': [mse], 'RMSE': [rmse]})\n",
    "    results = pd.concat([results, model_df], ignore_index=True)\n",
    "    \n",
    "    print('=' * 80)\n",
    "    \n",
    "display(results.sort_values(by='RMSE', ascending=True))"
   ],
   "metadata": {
    "collapsed": false,
    "ExecuteTime": {
     "end_time": "2024-02-10T11:48:44.476766985Z",
     "start_time": "2024-02-10T11:48:42.689866886Z"
    }
   },
   "id": "6cb9cc53a350ed0a",
   "execution_count": 12
  },
  {
   "cell_type": "markdown",
   "source": [
    "### Neural Network"
   ],
   "metadata": {
    "collapsed": false
   },
   "id": "62cdeb41c06569c1"
  },
  {
   "cell_type": "code",
   "outputs": [
    {
     "name": "stdout",
     "output_type": "stream",
     "text": [
      "Epoch 1/140\n",
      "13/13 [==============================] - 0s 1ms/step - loss: 272275328.0000\n",
      "Epoch 2/140\n",
      "13/13 [==============================] - 0s 954us/step - loss: 272249792.0000\n",
      "Epoch 3/140\n",
      "13/13 [==============================] - 0s 1ms/step - loss: 272207904.0000\n",
      "Epoch 4/140\n",
      "13/13 [==============================] - 0s 1ms/step - loss: 272133568.0000\n",
      "Epoch 5/140\n",
      "13/13 [==============================] - 0s 1ms/step - loss: 272006784.0000\n",
      "Epoch 6/140\n",
      "13/13 [==============================] - 0s 1ms/step - loss: 271812928.0000\n",
      "Epoch 7/140\n",
      "13/13 [==============================] - 0s 1ms/step - loss: 271504576.0000\n",
      "Epoch 8/140\n",
      "13/13 [==============================] - 0s 1ms/step - loss: 271064512.0000\n",
      "Epoch 9/140\n",
      "13/13 [==============================] - 0s 971us/step - loss: 270449856.0000\n",
      "Epoch 10/140\n",
      "13/13 [==============================] - 0s 1ms/step - loss: 269641920.0000\n",
      "Epoch 11/140\n",
      "13/13 [==============================] - 0s 1ms/step - loss: 268562304.0000\n",
      "Epoch 12/140\n",
      "13/13 [==============================] - 0s 1ms/step - loss: 267208528.0000\n",
      "Epoch 13/140\n",
      "13/13 [==============================] - 0s 1ms/step - loss: 265515504.0000\n",
      "Epoch 14/140\n",
      "13/13 [==============================] - 0s 928us/step - loss: 263530992.0000\n",
      "Epoch 15/140\n",
      "13/13 [==============================] - 0s 1ms/step - loss: 261224608.0000\n",
      "Epoch 16/140\n",
      "13/13 [==============================] - 0s 1ms/step - loss: 258494784.0000\n",
      "Epoch 17/140\n",
      "13/13 [==============================] - 0s 1ms/step - loss: 255427824.0000\n",
      "Epoch 18/140\n",
      "13/13 [==============================] - 0s 1ms/step - loss: 251991920.0000\n",
      "Epoch 19/140\n",
      "13/13 [==============================] - 0s 1ms/step - loss: 248160912.0000\n",
      "Epoch 20/140\n",
      "13/13 [==============================] - 0s 1ms/step - loss: 243994048.0000\n",
      "Epoch 21/140\n",
      "13/13 [==============================] - 0s 992us/step - loss: 239267360.0000\n",
      "Epoch 22/140\n",
      "13/13 [==============================] - 0s 1ms/step - loss: 234146160.0000\n",
      "Epoch 23/140\n",
      "13/13 [==============================] - 0s 1ms/step - loss: 228716064.0000\n",
      "Epoch 24/140\n",
      "13/13 [==============================] - 0s 981us/step - loss: 222976272.0000\n",
      "Epoch 25/140\n",
      "13/13 [==============================] - 0s 1ms/step - loss: 216852624.0000\n",
      "Epoch 26/140\n",
      "13/13 [==============================] - 0s 893us/step - loss: 210648816.0000\n",
      "Epoch 27/140\n",
      "13/13 [==============================] - 0s 960us/step - loss: 204288016.0000\n",
      "Epoch 28/140\n",
      "13/13 [==============================] - 0s 962us/step - loss: 197709376.0000\n",
      "Epoch 29/140\n",
      "13/13 [==============================] - 0s 996us/step - loss: 190974160.0000\n",
      "Epoch 30/140\n",
      "13/13 [==============================] - 0s 908us/step - loss: 184063872.0000\n",
      "Epoch 31/140\n",
      "13/13 [==============================] - 0s 1ms/step - loss: 177301040.0000\n",
      "Epoch 32/140\n",
      "13/13 [==============================] - 0s 1ms/step - loss: 170620896.0000\n",
      "Epoch 33/140\n",
      "13/13 [==============================] - 0s 973us/step - loss: 163914016.0000\n",
      "Epoch 34/140\n",
      "13/13 [==============================] - 0s 1ms/step - loss: 157095728.0000\n",
      "Epoch 35/140\n",
      "13/13 [==============================] - 0s 923us/step - loss: 150759008.0000\n",
      "Epoch 36/140\n",
      "13/13 [==============================] - 0s 1ms/step - loss: 144477776.0000\n",
      "Epoch 37/140\n",
      "13/13 [==============================] - 0s 1ms/step - loss: 138578304.0000\n",
      "Epoch 38/140\n",
      "13/13 [==============================] - 0s 1ms/step - loss: 133051928.0000\n",
      "Epoch 39/140\n",
      "13/13 [==============================] - 0s 1ms/step - loss: 127619072.0000\n",
      "Epoch 40/140\n",
      "13/13 [==============================] - 0s 1ms/step - loss: 122521056.0000\n",
      "Epoch 41/140\n",
      "13/13 [==============================] - 0s 1ms/step - loss: 118203056.0000\n",
      "Epoch 42/140\n",
      "13/13 [==============================] - 0s 1ms/step - loss: 113995504.0000\n",
      "Epoch 43/140\n",
      "13/13 [==============================] - 0s 1ms/step - loss: 110100824.0000\n",
      "Epoch 44/140\n",
      "13/13 [==============================] - 0s 1ms/step - loss: 106707856.0000\n",
      "Epoch 45/140\n",
      "13/13 [==============================] - 0s 1ms/step - loss: 103190472.0000\n",
      "Epoch 46/140\n",
      "13/13 [==============================] - 0s 1ms/step - loss: 100068888.0000\n",
      "Epoch 47/140\n",
      "13/13 [==============================] - 0s 1ms/step - loss: 97398608.0000\n",
      "Epoch 48/140\n",
      "13/13 [==============================] - 0s 1ms/step - loss: 95074592.0000\n",
      "Epoch 49/140\n",
      "13/13 [==============================] - 0s 1ms/step - loss: 93044672.0000\n",
      "Epoch 50/140\n",
      "13/13 [==============================] - 0s 1ms/step - loss: 91144048.0000\n",
      "Epoch 51/140\n",
      "13/13 [==============================] - 0s 1ms/step - loss: 89401688.0000\n",
      "Epoch 52/140\n",
      "13/13 [==============================] - 0s 1ms/step - loss: 87604176.0000\n",
      "Epoch 53/140\n",
      "13/13 [==============================] - 0s 1ms/step - loss: 86015592.0000\n",
      "Epoch 54/140\n",
      "13/13 [==============================] - 0s 966us/step - loss: 84646584.0000\n",
      "Epoch 55/140\n",
      "13/13 [==============================] - 0s 1ms/step - loss: 83202008.0000\n",
      "Epoch 56/140\n",
      "13/13 [==============================] - 0s 1ms/step - loss: 82091304.0000\n",
      "Epoch 57/140\n",
      "13/13 [==============================] - 0s 1ms/step - loss: 80648616.0000\n",
      "Epoch 58/140\n",
      "13/13 [==============================] - 0s 1ms/step - loss: 79537136.0000\n",
      "Epoch 59/140\n",
      "13/13 [==============================] - 0s 940us/step - loss: 78429584.0000\n",
      "Epoch 60/140\n",
      "13/13 [==============================] - 0s 1ms/step - loss: 77246376.0000\n",
      "Epoch 61/140\n",
      "13/13 [==============================] - 0s 1ms/step - loss: 76137288.0000\n",
      "Epoch 62/140\n",
      "13/13 [==============================] - 0s 1ms/step - loss: 75100624.0000\n",
      "Epoch 63/140\n",
      "13/13 [==============================] - 0s 1ms/step - loss: 74074672.0000\n",
      "Epoch 64/140\n",
      "13/13 [==============================] - 0s 1ms/step - loss: 73144928.0000\n",
      "Epoch 65/140\n",
      "13/13 [==============================] - 0s 1ms/step - loss: 72137344.0000\n",
      "Epoch 66/140\n",
      "13/13 [==============================] - 0s 1ms/step - loss: 71129048.0000\n",
      "Epoch 67/140\n",
      "13/13 [==============================] - 0s 1ms/step - loss: 70058080.0000\n",
      "Epoch 68/140\n",
      "13/13 [==============================] - 0s 1ms/step - loss: 69128288.0000\n",
      "Epoch 69/140\n",
      "13/13 [==============================] - 0s 1ms/step - loss: 68130480.0000\n",
      "Epoch 70/140\n",
      "13/13 [==============================] - 0s 966us/step - loss: 67203880.0000\n",
      "Epoch 71/140\n",
      "13/13 [==============================] - 0s 1ms/step - loss: 66349908.0000\n",
      "Epoch 72/140\n",
      "13/13 [==============================] - 0s 1ms/step - loss: 65484768.0000\n",
      "Epoch 73/140\n",
      "13/13 [==============================] - 0s 1ms/step - loss: 64575244.0000\n",
      "Epoch 74/140\n",
      "13/13 [==============================] - 0s 1ms/step - loss: 63744360.0000\n",
      "Epoch 75/140\n",
      "13/13 [==============================] - 0s 1ms/step - loss: 62908336.0000\n",
      "Epoch 76/140\n",
      "13/13 [==============================] - 0s 938us/step - loss: 62113576.0000\n",
      "Epoch 77/140\n",
      "13/13 [==============================] - 0s 1ms/step - loss: 61157404.0000\n",
      "Epoch 78/140\n",
      "13/13 [==============================] - 0s 1ms/step - loss: 60417548.0000\n",
      "Epoch 79/140\n",
      "13/13 [==============================] - 0s 1ms/step - loss: 59602956.0000\n",
      "Epoch 80/140\n",
      "13/13 [==============================] - 0s 1ms/step - loss: 58892576.0000\n",
      "Epoch 81/140\n",
      "13/13 [==============================] - 0s 1ms/step - loss: 58170892.0000\n",
      "Epoch 82/140\n",
      "13/13 [==============================] - 0s 1ms/step - loss: 57458920.0000\n",
      "Epoch 83/140\n",
      "13/13 [==============================] - 0s 1ms/step - loss: 56749996.0000\n",
      "Epoch 84/140\n",
      "13/13 [==============================] - 0s 894us/step - loss: 56086484.0000\n",
      "Epoch 85/140\n",
      "13/13 [==============================] - 0s 965us/step - loss: 55331436.0000\n",
      "Epoch 86/140\n",
      "13/13 [==============================] - 0s 856us/step - loss: 54682168.0000\n",
      "Epoch 87/140\n",
      "13/13 [==============================] - 0s 884us/step - loss: 54024292.0000\n",
      "Epoch 88/140\n",
      "13/13 [==============================] - 0s 951us/step - loss: 53346440.0000\n",
      "Epoch 89/140\n",
      "13/13 [==============================] - 0s 935us/step - loss: 52701452.0000\n",
      "Epoch 90/140\n",
      "13/13 [==============================] - 0s 982us/step - loss: 52101152.0000\n",
      "Epoch 91/140\n",
      "13/13 [==============================] - 0s 947us/step - loss: 51394428.0000\n",
      "Epoch 92/140\n",
      "13/13 [==============================] - 0s 873us/step - loss: 50753184.0000\n",
      "Epoch 93/140\n",
      "13/13 [==============================] - 0s 902us/step - loss: 50121632.0000\n",
      "Epoch 94/140\n",
      "13/13 [==============================] - 0s 889us/step - loss: 49514360.0000\n",
      "Epoch 95/140\n",
      "13/13 [==============================] - 0s 954us/step - loss: 48948736.0000\n",
      "Epoch 96/140\n",
      "13/13 [==============================] - 0s 927us/step - loss: 48312472.0000\n",
      "Epoch 97/140\n",
      "13/13 [==============================] - 0s 951us/step - loss: 47715580.0000\n",
      "Epoch 98/140\n",
      "13/13 [==============================] - 0s 922us/step - loss: 47159124.0000\n",
      "Epoch 99/140\n",
      "13/13 [==============================] - 0s 1ms/step - loss: 46565936.0000\n",
      "Epoch 100/140\n",
      "13/13 [==============================] - 0s 2ms/step - loss: 46028516.0000\n",
      "Epoch 101/140\n",
      "13/13 [==============================] - 0s 1ms/step - loss: 45501780.0000\n",
      "Epoch 102/140\n",
      "13/13 [==============================] - 0s 1ms/step - loss: 45012464.0000\n",
      "Epoch 103/140\n",
      "13/13 [==============================] - 0s 1ms/step - loss: 44491416.0000\n",
      "Epoch 104/140\n",
      "13/13 [==============================] - 0s 1ms/step - loss: 43987276.0000\n",
      "Epoch 105/140\n",
      "13/13 [==============================] - 0s 1ms/step - loss: 43495428.0000\n",
      "Epoch 106/140\n",
      "13/13 [==============================] - 0s 1ms/step - loss: 43036940.0000\n",
      "Epoch 107/140\n",
      "13/13 [==============================] - 0s 1ms/step - loss: 42552700.0000\n",
      "Epoch 108/140\n",
      "13/13 [==============================] - 0s 931us/step - loss: 42105340.0000\n",
      "Epoch 109/140\n",
      "13/13 [==============================] - 0s 1ms/step - loss: 41640096.0000\n",
      "Epoch 110/140\n",
      "13/13 [==============================] - 0s 988us/step - loss: 41228868.0000\n",
      "Epoch 111/140\n",
      "13/13 [==============================] - 0s 2ms/step - loss: 40720512.0000\n",
      "Epoch 112/140\n",
      "13/13 [==============================] - 0s 914us/step - loss: 40215412.0000\n",
      "Epoch 113/140\n",
      "13/13 [==============================] - 0s 897us/step - loss: 39794244.0000\n",
      "Epoch 114/140\n",
      "13/13 [==============================] - 0s 911us/step - loss: 39326740.0000\n",
      "Epoch 115/140\n",
      "13/13 [==============================] - 0s 880us/step - loss: 38896744.0000\n",
      "Epoch 116/140\n",
      "13/13 [==============================] - 0s 1ms/step - loss: 38535964.0000\n",
      "Epoch 117/140\n",
      "13/13 [==============================] - 0s 975us/step - loss: 38083128.0000\n",
      "Epoch 118/140\n",
      "13/13 [==============================] - 0s 1ms/step - loss: 37716204.0000\n",
      "Epoch 119/140\n",
      "13/13 [==============================] - 0s 1ms/step - loss: 37323116.0000\n",
      "Epoch 120/140\n",
      "13/13 [==============================] - 0s 1ms/step - loss: 36918200.0000\n",
      "Epoch 121/140\n",
      "13/13 [==============================] - 0s 1ms/step - loss: 36538540.0000\n",
      "Epoch 122/140\n",
      "13/13 [==============================] - 0s 1ms/step - loss: 36221508.0000\n",
      "Epoch 123/140\n",
      "13/13 [==============================] - 0s 1ms/step - loss: 35874036.0000\n",
      "Epoch 124/140\n",
      "13/13 [==============================] - 0s 927us/step - loss: 35514136.0000\n",
      "Epoch 125/140\n",
      "13/13 [==============================] - 0s 901us/step - loss: 35169744.0000\n",
      "Epoch 126/140\n",
      "13/13 [==============================] - 0s 868us/step - loss: 34820828.0000\n",
      "Epoch 127/140\n",
      "13/13 [==============================] - 0s 864us/step - loss: 34512776.0000\n",
      "Epoch 128/140\n",
      "13/13 [==============================] - 0s 863us/step - loss: 34172272.0000\n",
      "Epoch 129/140\n",
      "13/13 [==============================] - 0s 1ms/step - loss: 33844684.0000\n",
      "Epoch 130/140\n",
      "13/13 [==============================] - 0s 1ms/step - loss: 33543724.0000\n",
      "Epoch 131/140\n",
      "13/13 [==============================] - 0s 1ms/step - loss: 33252180.0000\n",
      "Epoch 132/140\n",
      "13/13 [==============================] - 0s 1ms/step - loss: 32931306.0000\n",
      "Epoch 133/140\n",
      "13/13 [==============================] - 0s 1ms/step - loss: 32647574.0000\n",
      "Epoch 134/140\n",
      "13/13 [==============================] - 0s 1ms/step - loss: 32342024.0000\n",
      "Epoch 135/140\n",
      "13/13 [==============================] - 0s 1ms/step - loss: 32040210.0000\n",
      "Epoch 136/140\n",
      "13/13 [==============================] - 0s 1ms/step - loss: 31764702.0000\n",
      "Epoch 137/140\n",
      "13/13 [==============================] - 0s 871us/step - loss: 31502920.0000\n",
      "Epoch 138/140\n",
      "13/13 [==============================] - 0s 1ms/step - loss: 31253510.0000\n",
      "Epoch 139/140\n",
      "13/13 [==============================] - 0s 1ms/step - loss: 30983790.0000\n",
      "Epoch 140/140\n",
      "13/13 [==============================] - 0s 1ms/step - loss: 30720052.0000\n",
      "4/4 [==============================] - 0s 940us/step\n"
     ]
    },
    {
     "data": {
      "text/plain": "<Figure size 640x480 with 1 Axes>",
      "image/png": "[encoded data removed]"
     },
     "metadata": {},
     "output_type": "display_data"
    }
   ],
   "source": [
    "X_train_preprocessed = preprocessor.fit_transform(X_train, y_train)\n",
    "X_test_preprocessed = preprocessor.transform(X_test)\n",
    "\n",
    "y_train_preprocessed = np.array(y_train, dtype=np.float32)\n",
    "y_test_preprocessed = np.array(y_test, dtype=np.float32)\n",
    "\n",
    "nn = model = tf.keras.Sequential([\n",
    "    tf.keras.layers.Dense(64, activation='relu', input_shape=(X_train_preprocessed.shape[1],)),\n",
    "    tf.keras.layers.Dense(32, activation='relu'),\n",
    "    tf.keras.layers.Dense(1)  # Output layer with 1 neuron for regression\n",
    "])\n",
    "nn.compile(optimizer='adam', loss='mean_squared_error')\n",
    "history = nn.fit(X_train_preprocessed, y_train_preprocessed, epochs=140, batch_size=32, verbose=1)\n",
    "prediction = nn.predict(X_test_preprocessed)\n",
    "\n",
    "plt.plot(history.history['loss'], label='Train Loss')\n",
    "plt.xlabel('Epoch')\n",
    "plt.ylabel('Mean Squared Error')\n",
    "plt.legend()\n",
    "plt.show()"
   ],
   "metadata": {
    "collapsed": false,
    "ExecuteTime": {
     "end_time": "2024-02-10T11:48:51.154214693Z",
     "start_time": "2024-02-10T11:48:48.044543424Z"
    }
   },
   "id": "5d24b0465c3f64de",
   "execution_count": 13
  },
  {
   "cell_type": "code",
   "outputs": [
    {
     "name": "stdout",
     "output_type": "stream",
     "text": [
      "R2 score : 0.6393675492130018\n",
      "MAE : 4004.924072265625\n",
      "MSE : 29198180.0\n",
      "RMSE : 5403.5341796875\n"
     ]
    },
    {
     "data": {
      "text/plain": "                                           Model Name  R2 score          MAE  \\\n4   (DecisionTreeRegressor(max_features=1.0, rando...  0.909965  1743.946486   \n6   ([DecisionTreeRegressor(criterion='friedman_ms...  0.896130  2006.237931   \n1                                             Ridge()  0.885808  1943.491924   \n2                                             Lasso()  0.881818  1904.404552   \n0                                  LinearRegression()  0.866733  2179.776231   \n10                                    LGBMRegressor()  0.866279  2242.105605   \n5   (ExtraTreeRegressor(random_state=228571789), E...  0.861927  1952.111820   \n7   XGBRegressor(base_score=None, booster=None, ca...  0.854140  1931.442710   \n8                               KNeighborsRegressor()  0.837381  2297.428571   \n3                             DecisionTreeRegressor()  0.784499  2341.045918   \n12  <keras.src.engine.sequential.Sequential object...  0.639368  4004.924072   \n9                                SVR(kernel='linear') -0.028628  5869.776061   \n11  MLPRegressor(hidden_layer_sizes=(10,), max_ite... -1.226666  9989.834021   \n\n             MSE          RMSE  \n4   7.289597e+06   2699.925321  \n6   8.409691e+06   2899.946651  \n1   9.245402e+06   3040.625333  \n2   9.568451e+06   3093.291257  \n0   1.078983e+07   3284.787043  \n10  1.082653e+07   3290.368973  \n5   1.117893e+07   3343.489996  \n7   1.180941e+07   3436.482120  \n8   1.316628e+07   3628.536490  \n3   1.744777e+07   4177.052241  \n12  2.919818e+07   5403.534180  \n9   8.328165e+07   9125.877956  \n11  1.802793e+08  13426.814332  ",
      "text/html": "<div>\n<style scoped>\n    .dataframe tbody tr th:only-of-type {\n        vertical-align: middle;\n    }\n\n    .dataframe tbody tr th {\n        vertical-align: top;\n    }\n\n    .dataframe thead th {\n        text-align: right;\n    }\n</style>\n<table border=\"1\" class=\"dataframe\">\n  <thead>\n    <tr style=\"text-align: right;\">\n      <th></th>\n      <th>Model Name</th>\n      <th>R2 score</th>\n      <th>MAE</th>\n      <th>MSE</th>\n      <th>RMSE</th>\n    </tr>\n  </thead>\n  <tbody>\n    <tr>\n      <th>4</th>\n      <td>(DecisionTreeRegressor(max_features=1.0, rando...</td>\n      <td>0.909965</td>\n      <td>1743.946486</td>\n      <td>7.289597e+06</td>\n      <td>2699.925321</td>\n    </tr>\n    <tr>\n      <th>6</th>\n      <td>([DecisionTreeRegressor(criterion='friedman_ms...</td>\n      <td>0.896130</td>\n      <td>2006.237931</td>\n      <td>8.409691e+06</td>\n      <td>2899.946651</td>\n    </tr>\n    <tr>\n      <th>1</th>\n      <td>Ridge()</td>\n      <td>0.885808</td>\n      <td>1943.491924</td>\n      <td>9.245402e+06</td>\n      <td>3040.625333</td>\n    </tr>\n    <tr>\n      <th>2</th>\n      <td>Lasso()</td>\n      <td>0.881818</td>\n      <td>1904.404552</td>\n      <td>9.568451e+06</td>\n      <td>3093.291257</td>\n    </tr>\n    <tr>\n      <th>0</th>\n      <td>LinearRegression()</td>\n      <td>0.866733</td>\n      <td>2179.776231</td>\n      <td>1.078983e+07</td>\n      <td>3284.787043</td>\n    </tr>\n    <tr>\n      <th>10</th>\n      <td>LGBMRegressor()</td>\n      <td>0.866279</td>\n      <td>2242.105605</td>\n      <td>1.082653e+07</td>\n      <td>3290.368973</td>\n    </tr>\n    <tr>\n      <th>5</th>\n      <td>(ExtraTreeRegressor(random_state=228571789), E...</td>\n      <td>0.861927</td>\n      <td>1952.111820</td>\n      <td>1.117893e+07</td>\n      <td>3343.489996</td>\n    </tr>\n    <tr>\n      <th>7</th>\n      <td>XGBRegressor(base_score=None, booster=None, ca...</td>\n      <td>0.854140</td>\n      <td>1931.442710</td>\n      <td>1.180941e+07</td>\n      <td>3436.482120</td>\n    </tr>\n    <tr>\n      <th>8</th>\n      <td>KNeighborsRegressor()</td>\n      <td>0.837381</td>\n      <td>2297.428571</td>\n      <td>1.316628e+07</td>\n      <td>3628.536490</td>\n    </tr>\n    <tr>\n      <th>3</th>\n      <td>DecisionTreeRegressor()</td>\n      <td>0.784499</td>\n      <td>2341.045918</td>\n      <td>1.744777e+07</td>\n      <td>4177.052241</td>\n    </tr>\n    <tr>\n      <th>12</th>\n      <td>&lt;keras.src.engine.sequential.Sequential object...</td>\n      <td>0.639368</td>\n      <td>4004.924072</td>\n      <td>2.919818e+07</td>\n      <td>5403.534180</td>\n    </tr>\n    <tr>\n      <th>9</th>\n      <td>SVR(kernel='linear')</td>\n      <td>-0.028628</td>\n      <td>5869.776061</td>\n      <td>8.328165e+07</td>\n      <td>9125.877956</td>\n    </tr>\n    <tr>\n      <th>11</th>\n      <td>MLPRegressor(hidden_layer_sizes=(10,), max_ite...</td>\n      <td>-1.226666</td>\n      <td>9989.834021</td>\n      <td>1.802793e+08</td>\n      <td>13426.814332</td>\n    </tr>\n  </tbody>\n</table>\n</div>"
     },
     "metadata": {},
     "output_type": "display_data"
    }
   ],
   "source": [
    "r2score = r2_score(y_test_preprocessed, prediction)\n",
    "mae = mean_absolute_error(y_test_preprocessed, prediction)\n",
    "mse = mean_squared_error(y_test_preprocessed, prediction)\n",
    "rmse = np.sqrt(mean_squared_error(y_test_preprocessed, prediction))\n",
    "print('R2 score : {}'.format(r2score))\n",
    "print('MAE : {}'.format(mae))\n",
    "print('MSE : {}'.format(mse))\n",
    "print('RMSE : {}'.format(rmse))\n",
    "\n",
    "model_df = pd.DataFrame({'Model Name': [model], 'R2 score': [r2score], 'MAE': [mae], 'MSE': [mse], 'RMSE': [rmse]})\n",
    "results = pd.concat([results, model_df], ignore_index=True)\n",
    "display(results.sort_values(by='RMSE', ascending=True))"
   ],
   "metadata": {
    "collapsed": false,
    "ExecuteTime": {
     "end_time": "2024-02-10T11:48:51.297215413Z",
     "start_time": "2024-02-10T11:48:51.156532533Z"
    }
   },
   "id": "ded8a91049d93583",
   "execution_count": 14
  },
  {
   "cell_type": "markdown",
   "source": [
    "# Final model"
   ],
   "metadata": {
    "collapsed": false
   },
   "id": "d6ce140c1fa8a07f"
  },
  {
   "cell_type": "code",
   "outputs": [
    {
     "data": {
      "text/plain": "Pipeline(steps=[('preprocessor',\n                 ColumnTransformer(transformers=[('num',\n                                                  Pipeline(steps=[('imputer',\n                                                                   SimpleImputer(strategy='median')),\n                                                                  ('scaler',\n                                                                   StandardScaler())]),\n                                                  ['Water Resistance',\n                                                   'Case Diameter (mm)',\n                                                   'Case Thickness (mm)',\n                                                   'Band Width (mm)',\n                                                   'Power Reserve']),\n                                                 ('cat',\n                                                  Pipeline(steps=[('lowercase',\n                                                                   LowercaseTransformer()),\n                                                                  ('imputer',\n                                                                   SimpleImputer(fill_value='missing',\n                                                                                 strategy='constant')),\n                                                                  ('encoder',\n                                                                   OneHotEncoder(handle_unknown='ignore'))]),\n                                                  ['Brand', 'Model',\n                                                   'Case Material',\n                                                   'Strap Material',\n                                                   'Movement Type',\n                                                   'Dial Color',\n                                                   'Crystal Material',\n                                                   'Complications'])])),\n                ('model', RandomForestRegressor())])",
      "text/html": "<style>#sk-container-id-1 {color: black;}#sk-container-id-1 pre{padding: 0;}#sk-container-id-1 div.sk-toggleable {background-color: white;}#sk-container-id-1 label.sk-toggleable__label {cursor: pointer;display: block;width: 100%;margin-bottom: 0;padding: 0.3em;box-sizing: border-box;text-align: center;}#sk-container-id-1 label.sk-toggleable__label-arrow:before {content: \"▸\";float: left;margin-right: 0.25em;color: #696969;}#sk-container-id-1 label.sk-toggleable__label-arrow:hover:before {color: black;}#sk-container-id-1 div.sk-estimator:hover label.sk-toggleable__label-arrow:before {color: black;}#sk-container-id-1 div.sk-toggleable__content {max-height: 0;max-width: 0;overflow: hidden;text-align: left;background-color: #f0f8ff;}#sk-container-id-1 div.sk-toggleable__content pre {margin: 0.2em;color: black;border-radius: 0.25em;background-color: #f0f8ff;}#sk-container-id-1 input.sk-toggleable__control:checked~div.sk-toggleable__content {max-height: 200px;max-width: 100%;overflow: auto;}#sk-container-id-1 input.sk-toggleable__control:checked~label.sk-toggleable__label-arrow:before {content: \"▾\";}#sk-container-id-1 div.sk-estimator input.sk-toggleable__control:checked~label.sk-toggleable__label {background-color: #d4ebff;}#sk-container-id-1 div.sk-label input.sk-toggleable__control:checked~label.sk-toggleable__label {background-color: #d4ebff;}#sk-container-id-1 input.sk-hidden--visually {border: 0;clip: rect(1px 1px 1px 1px);clip: rect(1px, 1px, 1px, 1px);height: 1px;margin: -1px;overflow: hidden;padding: 0;position: absolute;width: 1px;}#sk-container-id-1 div.sk-estimator {font-family: monospace;background-color: #f0f8ff;border: 1px dotted black;border-radius: 0.25em;box-sizing: border-box;margin-bottom: 0.5em;}#sk-container-id-1 div.sk-estimator:hover {background-color: #d4ebff;}#sk-container-id-1 div.sk-parallel-item::after {content: \"\";width: 100%;border-bottom: 1px solid gray;flex-grow: 1;}#sk-container-id-1 div.sk-label:hover label.sk-toggleable__label {background-color: #d4ebff;}#sk-container-id-1 div.sk-serial::before {content: \"\";position: absolute;border-left: 1px solid gray;box-sizing: border-box;top: 0;bottom: 0;left: 50%;z-index: 0;}#sk-container-id-1 div.sk-serial {display: flex;flex-direction: column;align-items: center;background-color: white;padding-right: 0.2em;padding-left: 0.2em;position: relative;}#sk-container-id-1 div.sk-item {position: relative;z-index: 1;}#sk-container-id-1 div.sk-parallel {display: flex;align-items: stretch;justify-content: center;background-color: white;position: relative;}#sk-container-id-1 div.sk-item::before, #sk-container-id-1 div.sk-parallel-item::before {content: \"\";position: absolute;border-left: 1px solid gray;box-sizing: border-box;top: 0;bottom: 0;left: 50%;z-index: -1;}#sk-container-id-1 div.sk-parallel-item {display: flex;flex-direction: column;z-index: 1;position: relative;background-color: white;}#sk-container-id-1 div.sk-parallel-item:first-child::after {align-self: flex-end;width: 50%;}#sk-container-id-1 div.sk-parallel-item:last-child::after {align-self: flex-start;width: 50%;}#sk-container-id-1 div.sk-parallel-item:only-child::after {width: 0;}#sk-container-id-1 div.sk-dashed-wrapped {border: 1px dashed gray;margin: 0 0.4em 0.5em 0.4em;box-sizing: border-box;padding-bottom: 0.4em;background-color: white;}#sk-container-id-1 div.sk-label label {font-family: monospace;font-weight: bold;display: inline-block;line-height: 1.2em;}#sk-container-id-1 div.sk-label-container {text-align: center;}#sk-container-id-1 div.sk-container {/* jupyter's `normalize.less` sets `[hidden] { display: none; }` but bootstrap.min.css set `[hidden] { display: none !important; }` so we also need the `!important` here to be able to override the default hidden behavior on the sphinx rendered scikit-learn.org. See: https://github.com/scikit-learn/scikit-learn/issues/21755 */display: inline-block !important;position: relative;}#sk-container-id-1 div.sk-text-repr-fallback {display: none;}</style><div id=\"sk-container-id-1\" class=\"sk-top-container\"><div class=\"sk-text-repr-fallback\"><pre>Pipeline(steps=[(&#x27;preprocessor&#x27;,\n                 ColumnTransformer(transformers=[(&#x27;num&#x27;,\n                                                  Pipeline(steps=[(&#x27;imputer&#x27;,\n                                                                   SimpleImputer(strategy=&#x27;median&#x27;)),\n                                                                  (&#x27;scaler&#x27;,\n                                                                   StandardScaler())]),\n                                                  [&#x27;Water Resistance&#x27;,\n                                                   &#x27;Case Diameter (mm)&#x27;,\n                                                   &#x27;Case Thickness (mm)&#x27;,\n                                                   &#x27;Band Width (mm)&#x27;,\n                                                   &#x27;Power Reserve&#x27;]),\n                                                 (&#x27;cat&#x27;,\n                                                  Pipeline(steps=[(&#x27;lowercase&#x27;,\n                                                                   LowercaseTransformer()),\n                                                                  (&#x27;imputer&#x27;,\n                                                                   SimpleImputer(fill_value=&#x27;missing&#x27;,\n                                                                                 strategy=&#x27;constant&#x27;)),\n                                                                  (&#x27;encoder&#x27;,\n                                                                   OneHotEncoder(handle_unknown=&#x27;ignore&#x27;))]),\n                                                  [&#x27;Brand&#x27;, &#x27;Model&#x27;,\n                                                   &#x27;Case Material&#x27;,\n                                                   &#x27;Strap Material&#x27;,\n                                                   &#x27;Movement Type&#x27;,\n                                                   &#x27;Dial Color&#x27;,\n                                                   &#x27;Crystal Material&#x27;,\n                                                   &#x27;Complications&#x27;])])),\n                (&#x27;model&#x27;, RandomForestRegressor())])</pre><b>In a Jupyter environment, please rerun this cell to show the HTML representation or trust the notebook. <br />On GitHub, the HTML representation is unable to render, please try loading this page with nbviewer.org.</b></div><div class=\"sk-container\" hidden><div class=\"sk-item sk-dashed-wrapped\"><div class=\"sk-label-container\"><div class=\"sk-label sk-toggleable\"><input class=\"sk-toggleable__control sk-hidden--visually\" id=\"sk-estimator-id-1\" type=\"checkbox\" ><label for=\"sk-estimator-id-1\" class=\"sk-toggleable__label sk-toggleable__label-arrow\">Pipeline</label><div class=\"sk-toggleable__content\"><pre>Pipeline(steps=[(&#x27;preprocessor&#x27;,\n                 ColumnTransformer(transformers=[(&#x27;num&#x27;,\n                                                  Pipeline(steps=[(&#x27;imputer&#x27;,\n                                                                   SimpleImputer(strategy=&#x27;median&#x27;)),\n                                                                  (&#x27;scaler&#x27;,\n                                                                   StandardScaler())]),\n                                                  [&#x27;Water Resistance&#x27;,\n                                                   &#x27;Case Diameter (mm)&#x27;,\n                                                   &#x27;Case Thickness (mm)&#x27;,\n                                                   &#x27;Band Width (mm)&#x27;,\n                                                   &#x27;Power Reserve&#x27;]),\n                                                 (&#x27;cat&#x27;,\n                                                  Pipeline(steps=[(&#x27;lowercase&#x27;,\n                                                                   LowercaseTransformer()),\n                                                                  (&#x27;imputer&#x27;,\n                                                                   SimpleImputer(fill_value=&#x27;missing&#x27;,\n                                                                                 strategy=&#x27;constant&#x27;)),\n                                                                  (&#x27;encoder&#x27;,\n                                                                   OneHotEncoder(handle_unknown=&#x27;ignore&#x27;))]),\n                                                  [&#x27;Brand&#x27;, &#x27;Model&#x27;,\n                                                   &#x27;Case Material&#x27;,\n                                                   &#x27;Strap Material&#x27;,\n                                                   &#x27;Movement Type&#x27;,\n                                                   &#x27;Dial Color&#x27;,\n                                                   &#x27;Crystal Material&#x27;,\n                                                   &#x27;Complications&#x27;])])),\n                (&#x27;model&#x27;, RandomForestRegressor())])</pre></div></div></div><div class=\"sk-serial\"><div class=\"sk-item sk-dashed-wrapped\"><div class=\"sk-label-container\"><div class=\"sk-label sk-toggleable\"><input class=\"sk-toggleable__control sk-hidden--visually\" id=\"sk-estimator-id-2\" type=\"checkbox\" ><label for=\"sk-estimator-id-2\" class=\"sk-toggleable__label sk-toggleable__label-arrow\">preprocessor: ColumnTransformer</label><div class=\"sk-toggleable__content\"><pre>ColumnTransformer(transformers=[(&#x27;num&#x27;,\n                                 Pipeline(steps=[(&#x27;imputer&#x27;,\n                                                  SimpleImputer(strategy=&#x27;median&#x27;)),\n                                                 (&#x27;scaler&#x27;, StandardScaler())]),\n                                 [&#x27;Water Resistance&#x27;, &#x27;Case Diameter (mm)&#x27;,\n                                  &#x27;Case Thickness (mm)&#x27;, &#x27;Band Width (mm)&#x27;,\n                                  &#x27;Power Reserve&#x27;]),\n                                (&#x27;cat&#x27;,\n                                 Pipeline(steps=[(&#x27;lowercase&#x27;,\n                                                  LowercaseTransformer()),\n                                                 (&#x27;imputer&#x27;,\n                                                  SimpleImputer(fill_value=&#x27;missing&#x27;,\n                                                                strategy=&#x27;constant&#x27;)),\n                                                 (&#x27;encoder&#x27;,\n                                                  OneHotEncoder(handle_unknown=&#x27;ignore&#x27;))]),\n                                 [&#x27;Brand&#x27;, &#x27;Model&#x27;, &#x27;Case Material&#x27;,\n                                  &#x27;Strap Material&#x27;, &#x27;Movement Type&#x27;,\n                                  &#x27;Dial Color&#x27;, &#x27;Crystal Material&#x27;,\n                                  &#x27;Complications&#x27;])])</pre></div></div></div><div class=\"sk-parallel\"><div class=\"sk-parallel-item\"><div class=\"sk-item\"><div class=\"sk-label-container\"><div class=\"sk-label sk-toggleable\"><input class=\"sk-toggleable__control sk-hidden--visually\" id=\"sk-estimator-id-3\" type=\"checkbox\" ><label for=\"sk-estimator-id-3\" class=\"sk-toggleable__label sk-toggleable__label-arrow\">num</label><div class=\"sk-toggleable__content\"><pre>[&#x27;Water Resistance&#x27;, &#x27;Case Diameter (mm)&#x27;, &#x27;Case Thickness (mm)&#x27;, &#x27;Band Width (mm)&#x27;, &#x27;Power Reserve&#x27;]</pre></div></div></div><div class=\"sk-serial\"><div class=\"sk-item\"><div class=\"sk-serial\"><div class=\"sk-item\"><div class=\"sk-estimator sk-toggleable\"><input class=\"sk-toggleable__control sk-hidden--visually\" id=\"sk-estimator-id-4\" type=\"checkbox\" ><label for=\"sk-estimator-id-4\" class=\"sk-toggleable__label sk-toggleable__label-arrow\">SimpleImputer</label><div class=\"sk-toggleable__content\"><pre>SimpleImputer(strategy=&#x27;median&#x27;)</pre></div></div></div><div class=\"sk-item\"><div class=\"sk-estimator sk-toggleable\"><input class=\"sk-toggleable__control sk-hidden--visually\" id=\"sk-estimator-id-5\" type=\"checkbox\" ><label for=\"sk-estimator-id-5\" class=\"sk-toggleable__label sk-toggleable__label-arrow\">StandardScaler</label><div class=\"sk-toggleable__content\"><pre>StandardScaler()</pre></div></div></div></div></div></div></div></div><div class=\"sk-parallel-item\"><div class=\"sk-item\"><div class=\"sk-label-container\"><div class=\"sk-label sk-toggleable\"><input class=\"sk-toggleable__control sk-hidden--visually\" id=\"sk-estimator-id-6\" type=\"checkbox\" ><label for=\"sk-estimator-id-6\" class=\"sk-toggleable__label sk-toggleable__label-arrow\">cat</label><div class=\"sk-toggleable__content\"><pre>[&#x27;Brand&#x27;, &#x27;Model&#x27;, &#x27;Case Material&#x27;, &#x27;Strap Material&#x27;, &#x27;Movement Type&#x27;, &#x27;Dial Color&#x27;, &#x27;Crystal Material&#x27;, &#x27;Complications&#x27;]</pre></div></div></div><div class=\"sk-serial\"><div class=\"sk-item\"><div class=\"sk-serial\"><div class=\"sk-item\"><div class=\"sk-estimator sk-toggleable\"><input class=\"sk-toggleable__control sk-hidden--visually\" id=\"sk-estimator-id-7\" type=\"checkbox\" ><label for=\"sk-estimator-id-7\" class=\"sk-toggleable__label sk-toggleable__label-arrow\">LowercaseTransformer</label><div class=\"sk-toggleable__content\"><pre>LowercaseTransformer()</pre></div></div></div><div class=\"sk-item\"><div class=\"sk-estimator sk-toggleable\"><input class=\"sk-toggleable__control sk-hidden--visually\" id=\"sk-estimator-id-8\" type=\"checkbox\" ><label for=\"sk-estimator-id-8\" class=\"sk-toggleable__label sk-toggleable__label-arrow\">SimpleImputer</label><div class=\"sk-toggleable__content\"><pre>SimpleImputer(fill_value=&#x27;missing&#x27;, strategy=&#x27;constant&#x27;)</pre></div></div></div><div class=\"sk-item\"><div class=\"sk-estimator sk-toggleable\"><input class=\"sk-toggleable__control sk-hidden--visually\" id=\"sk-estimator-id-9\" type=\"checkbox\" ><label for=\"sk-estimator-id-9\" class=\"sk-toggleable__label sk-toggleable__label-arrow\">OneHotEncoder</label><div class=\"sk-toggleable__content\"><pre>OneHotEncoder(handle_unknown=&#x27;ignore&#x27;)</pre></div></div></div></div></div></div></div></div></div></div><div class=\"sk-item\"><div class=\"sk-estimator sk-toggleable\"><input class=\"sk-toggleable__control sk-hidden--visually\" id=\"sk-estimator-id-10\" type=\"checkbox\" ><label for=\"sk-estimator-id-10\" class=\"sk-toggleable__label sk-toggleable__label-arrow\">RandomForestRegressor</label><div class=\"sk-toggleable__content\"><pre>RandomForestRegressor()</pre></div></div></div></div></div></div></div>"
     },
     "execution_count": 15,
     "metadata": {},
     "output_type": "execute_result"
    }
   ],
   "source": [
    "pipeline = Pipeline(\n",
    "    steps=[(\"preprocessor\", preprocessor), (\"model\", rf)]\n",
    ")\n",
    "pipeline.fit(X, y)"
   ],
   "metadata": {
    "collapsed": false,
    "ExecuteTime": {
     "end_time": "2024-02-10T11:48:59.840409307Z",
     "start_time": "2024-02-10T11:48:59.425337844Z"
    }
   },
   "id": "efdd57ca",
   "execution_count": 15
  },
  {
   "cell_type": "code",
   "execution_count": 20,
   "outputs": [
    {
     "data": {
      "text/plain": "['model.joblib']"
     },
     "execution_count": 20,
     "metadata": {},
     "output_type": "execute_result"
    }
   ],
   "source": [
    "joblib.dump(pipeline, \"model.joblib\")"
   ],
   "metadata": {
    "collapsed": false,
    "ExecuteTime": {
     "end_time": "2024-02-12T19:45:23.256203103Z",
     "start_time": "2024-02-12T19:45:23.218326736Z"
    }
   },
   "id": "7ad564397603d6dd"
  },
  {
   "cell_type": "code",
   "outputs": [],
   "source": [
    "df.to_csv(\"processed_df.csv\")"
   ],
   "metadata": {
    "collapsed": false,
    "ExecuteTime": {
     "end_time": "2024-02-12T19:49:54.159678889Z",
     "start_time": "2024-02-12T19:49:54.115369538Z"
    }
   },
   "id": "7f47ee720d6d3eee",
   "execution_count": 24
  },
  {
   "cell_type": "code",
   "outputs": [],
   "source": [],
   "metadata": {
    "collapsed": false
   },
   "id": "4b3d687b68889a54"
  }
 ],
 "metadata": {
  "kernelspec": {
   "display_name": "Python 3",
   "language": "python",
   "name": "python3"
  },
  "language_info": {
   "codemirror_mode": {
    "name": "ipython",
    "version": 3
   },
   "file_extension": ".py",
   "mimetype": "text/x-python",
   "name": "python",
   "nbconvert_exporter": "python",
   "pygments_lexer": "ipython3",
   "version": "3.7.12"
  },
  "papermill": {
   "default_parameters": {},
   "duration": 13.099859,
   "end_time": "2023-03-11T13:04:16.886383",
   "environment_variables": {},
   "exception": null,
   "input_path": "__notebook__.ipynb",
   "output_path": "__notebook__.ipynb",
   "parameters": {},
   "start_time": "2023-03-11T13:04:03.786524",
   "version": "2.4.0"
  }
 },
 "nbformat": 4,
 "nbformat_minor": 5
}
