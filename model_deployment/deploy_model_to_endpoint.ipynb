{
 "cells": [
  {
   "cell_type": "markdown",
   "metadata": {},
   "source": [
    "\n",
    "## Deploy model to Amazon SageMaker Endpoint"
   ]
  },
  {
   "cell_type": "code",
   "execution_count": 1,
   "metadata": {
    "tags": [],
    "ExecuteTime": {
     "end_time": "2023-12-16T22:48:46.444047086Z",
     "start_time": "2023-12-16T22:48:22.860644209Z"
    }
   },
   "outputs": [
    {
     "name": "stdout",
     "output_type": "stream",
     "text": [
      "\u001B[31mERROR: pip's dependency resolver does not currently take into account all the packages that are installed. This behaviour is the source of the following dependency conflicts.\r\n",
      "boto3 1.33.5 requires botocore<1.34.0,>=1.33.5, but you have botocore 1.34.2 which is incompatible.\r\n",
      "boto3 1.33.5 requires s3transfer<0.9.0,>=0.8.2, but you have s3transfer 0.9.0 which is incompatible.\u001B[0m\u001B[31m\r\n",
      "\u001B[0m\u001B[31mERROR: pip's dependency resolver does not currently take into account all the packages that are installed. This behaviour is the source of the following dependency conflicts.\r\n",
      "awscli 1.32.2 requires botocore==1.34.2, but you have botocore 1.33.13 which is incompatible.\r\n",
      "awscli 1.32.2 requires s3transfer<0.10.0,>=0.9.0, but you have s3transfer 0.8.2 which is incompatible.\u001B[0m\u001B[31m\r\n",
      "\u001B[0m"
     ]
    }
   ],
   "source": [
    "!python -m pip install --upgrade pip --quiet\n",
    "!pip install -U awscli --quiet\n",
    "!pip install -U sagemaker --quiet\n",
    "!pip install pandas --quiet"
   ]
  },
  {
   "cell_type": "code",
   "execution_count": 2,
   "metadata": {
    "tags": [],
    "ExecuteTime": {
     "end_time": "2023-12-16T22:49:23.707280270Z",
     "start_time": "2023-12-16T22:49:20.141938144Z"
    }
   },
   "outputs": [
    {
     "name": "stdout",
     "output_type": "stream",
     "text": [
      "sagemaker.config INFO - Not applying SDK defaults from location: /etc/xdg/xdg-ubuntu/sagemaker/config.yaml\n",
      "sagemaker.config INFO - Not applying SDK defaults from location: /home/dona/.config/sagemaker/config.yaml\n"
     ]
    },
    {
     "name": "stderr",
     "output_type": "stream",
     "text": [
      "Couldn't call 'get_role' to get Role ARN from role name Dona to get Role path.\n"
     ]
    },
    {
     "ename": "ValueError",
     "evalue": "The current AWS identity is not a role: arn:aws:iam::871322254241:user/Dona, therefore it cannot be used as a SageMaker execution role",
     "output_type": "error",
     "traceback": [
      "\u001B[0;31m---------------------------------------------------------------------------\u001B[0m",
      "\u001B[0;31mValueError\u001B[0m                                Traceback (most recent call last)",
      "Cell \u001B[0;32mIn[2], line 10\u001B[0m\n\u001B[1;32m      7\u001B[0m \u001B[38;5;28;01mimport\u001B[39;00m \u001B[38;5;21;01mjson\u001B[39;00m\n\u001B[1;32m      8\u001B[0m \u001B[38;5;28;01mfrom\u001B[39;00m \u001B[38;5;21;01msagemaker\u001B[39;00m\u001B[38;5;21;01m.\u001B[39;00m\u001B[38;5;21;01ms3\u001B[39;00m \u001B[38;5;28;01mimport\u001B[39;00m S3Uploader\n\u001B[0;32m---> 10\u001B[0m role \u001B[38;5;241m=\u001B[39m \u001B[43mget_execution_role\u001B[49m\u001B[43m(\u001B[49m\u001B[43m)\u001B[49m\n\u001B[1;32m     11\u001B[0m boto_session \u001B[38;5;241m=\u001B[39m boto3\u001B[38;5;241m.\u001B[39msession\u001B[38;5;241m.\u001B[39mSession()\n\u001B[1;32m     12\u001B[0m sm_session \u001B[38;5;241m=\u001B[39m sagemaker\u001B[38;5;241m.\u001B[39msession\u001B[38;5;241m.\u001B[39mSession()\n",
      "File \u001B[0;32m~/Documents/Luxury Watches Price/venv1/lib/python3.10/site-packages/sagemaker/session.py:6804\u001B[0m, in \u001B[0;36mget_execution_role\u001B[0;34m(sagemaker_session)\u001B[0m\n\u001B[1;32m   6799\u001B[0m     \u001B[38;5;28;01mreturn\u001B[39;00m arn\n\u001B[1;32m   6800\u001B[0m message \u001B[38;5;241m=\u001B[39m (\n\u001B[1;32m   6801\u001B[0m     \u001B[38;5;124m\"\u001B[39m\u001B[38;5;124mThe current AWS identity is not a role: \u001B[39m\u001B[38;5;132;01m{}\u001B[39;00m\u001B[38;5;124m, therefore it cannot be used as a \u001B[39m\u001B[38;5;124m\"\u001B[39m\n\u001B[1;32m   6802\u001B[0m     \u001B[38;5;124m\"\u001B[39m\u001B[38;5;124mSageMaker execution role\u001B[39m\u001B[38;5;124m\"\u001B[39m\n\u001B[1;32m   6803\u001B[0m )\n\u001B[0;32m-> 6804\u001B[0m \u001B[38;5;28;01mraise\u001B[39;00m \u001B[38;5;167;01mValueError\u001B[39;00m(message\u001B[38;5;241m.\u001B[39mformat(arn))\n",
      "\u001B[0;31mValueError\u001B[0m: The current AWS identity is not a role: arn:aws:iam::871322254241:user/Dona, therefore it cannot be used as a SageMaker execution role"
     ]
    }
   ],
   "source": [
    "import joblib\n",
    "import sagemaker\n",
    "from sagemaker import get_execution_role\n",
    "from sagemaker.sklearn.model import SKLearnModel\n",
    "import boto3\n",
    "import pandas as pd\n",
    "import json\n",
    "from sagemaker.s3 import S3Uploader\n",
    "\n",
    "role = get_execution_role()\n",
    "boto_session = boto3.session.Session()\n",
    "sm_session = sagemaker.session.Session()\n",
    "sm_client = boto_session.client(\"sagemaker\")\n",
    "sm_runtime = boto_session.client(\"sagemaker-runtime\")\n",
    "region = boto_session.region_name\n",
    "bucket = sm_session.default_bucket()\n",
    "prefix = 'inference'\n",
    "\n",
    "print(region)\n",
    "print(role)\n",
    "print(bucket)\n",
    "print(prefix)"
   ]
  },
  {
   "cell_type": "markdown",
   "metadata": {},
   "source": [
    "### Create model archive and source archive and upload them to S3"
   ]
  },
  {
   "cell_type": "code",
   "execution_count": 2,
   "metadata": {
    "tags": []
   },
   "outputs": [
    {
     "name": "stdout",
     "output_type": "stream",
     "text": [
      "model.joblib\n",
      "requirements.txt\n"
     ]
    }
   ],
   "source": [
    "!rm -f model.tar.gz\n",
    "!tar cvzf model.tar.gz -C ../model/ model.joblib -C code/ requirements.txt"
   ]
  },
  {
   "cell_type": "code",
   "execution_count": 3,
   "metadata": {
    "tags": []
   },
   "outputs": [
    {
     "name": "stdout",
     "output_type": "stream",
     "text": [
      "./\n",
      "./requirements.txt\n",
      "./inference.py\n"
     ]
    }
   ],
   "source": [
    "!rm -f sourcedir.tar.gz\n",
    "!tar cvzf sourcedir.tar.gz --exclude='*ipynb*' -C code ."
   ]
  },
  {
   "cell_type": "code",
   "execution_count": 4,
   "metadata": {
    "tags": []
   },
   "outputs": [
    {
     "name": "stdout",
     "output_type": "stream",
     "text": [
      "sagemaker.config INFO - Not applying SDK defaults from location: /etc/xdg/sagemaker/config.yaml\n",
      "sagemaker.config INFO - Not applying SDK defaults from location: /home/ec2-user/.config/sagemaker/config.yaml\n",
      "s3://sagemaker-us-east-1-871322254241/inference/model/model.tar.gz\n"
     ]
    }
   ],
   "source": [
    "file_key = 'model.tar.gz'\n",
    "model_artifact = S3Uploader.upload(file_key,'s3://{}/{}/model'.format(bucket, prefix))\n",
    "print(model_artifact)"
   ]
  },
  {
   "cell_type": "code",
   "execution_count": 5,
   "metadata": {
    "tags": []
   },
   "outputs": [
    {
     "name": "stdout",
     "output_type": "stream",
     "text": [
      "sagemaker.config INFO - Not applying SDK defaults from location: /etc/xdg/sagemaker/config.yaml\n",
      "sagemaker.config INFO - Not applying SDK defaults from location: /home/ec2-user/.config/sagemaker/config.yaml\n",
      "s3://sagemaker-us-east-1-871322254241/inference/sourcedir/sourcedir.tar.gz\n"
     ]
    }
   ],
   "source": [
    "file_key = 'sourcedir.tar.gz'\n",
    "code_artifact = S3Uploader.upload(file_key,'s3://{}/{}/sourcedir'.format(bucket, prefix))\n",
    "print(code_artifact)"
   ]
  },
  {
   "cell_type": "code",
   "execution_count": 6,
   "metadata": {
    "collapsed": false,
    "tags": []
   },
   "outputs": [],
   "source": [
    "deploy_instance_type = 'ml.m4.xlarge'\n",
    "endpoint_name = \"predict-price\""
   ]
  },
  {
   "cell_type": "code",
   "execution_count": 7,
   "metadata": {
    "collapsed": false,
    "tags": []
   },
   "outputs": [],
   "source": [
    "# # Local mode deployment for testing purposes\n",
    "# sklearn_model = SKLearnModel(model_data=model_artifact,\n",
    "#                              role=role,\n",
    "#                              entry_point=\"inference.py\",\n",
    "#                              source_dir=code_artifact,\n",
    "#                              framework_version=\"1.2-1\")\n",
    "\n",
    "# predictor = sklearn_model.deploy(instance_type=\"local\", initial_instance_count=1, endpoint_name=endpoint_name)"
   ]
  },
  {
   "cell_type": "markdown",
   "metadata": {},
   "source": [
    "### Create SageMaker model with sklearn inference container"
   ]
  },
  {
   "cell_type": "code",
   "execution_count": 8,
   "metadata": {
    "ExecuteTime": {
     "end_time": "2023-12-04T13:08:28.689142919Z",
     "start_time": "2023-12-04T13:08:28.646652128Z"
    },
    "collapsed": false,
    "tags": []
   },
   "outputs": [],
   "source": [
    "from sagemaker.image_uris import retrieve\n",
    "\n",
    "container = retrieve('sklearn',\n",
    "                        region=region,\n",
    "                        version=\"1.2-1\",\n",
    "                        py_version='py3',\n",
    "                        image_scope='inference')"
   ]
  },
  {
   "cell_type": "code",
   "execution_count": 9,
   "metadata": {
    "tags": []
   },
   "outputs": [],
   "source": [
    "model_name = \"predict-price-model\"\n",
    "\n",
    "create_model_response = sm_client.create_model(\n",
    "    ModelName = model_name,\n",
    "    ExecutionRoleArn = role,\n",
    "    PrimaryContainer = {\n",
    "        'Image': container,\n",
    "        'ModelDataUrl': model_artifact,\n",
    "        'Environment': {\n",
    "            \"SAGEMAKER_PROGRAM\": \"inference.py\",\n",
    "            \"SAGEMAKER_SUBMIT_DIRECTORY\": code_artifact,\n",
    "        }\n",
    "    },\n",
    ")"
   ]
  },
  {
   "cell_type": "markdown",
   "metadata": {},
   "source": [
    "### Real time hosted endpoint deployment and inference"
   ]
  },
  {
   "cell_type": "code",
   "execution_count": 10,
   "metadata": {
    "tags": []
   },
   "outputs": [
    {
     "name": "stdout",
     "output_type": "stream",
     "text": [
      "Created EndpointConfig: arn:aws:sagemaker:us-east-1:871322254241:endpoint-config/predict-price-config\n"
     ]
    }
   ],
   "source": [
    "endpoint_config_name = \"predict-price-config\"\n",
    "create_endpoint_config_response = sm_client.create_endpoint_config(\n",
    "    EndpointConfigName=endpoint_config_name,\n",
    "    ProductionVariants=[\n",
    "        {\n",
    "            \"VariantName\": \"variant1\",\n",
    "            \"ModelName\": model_name,\n",
    "            \"InstanceType\": deploy_instance_type,\n",
    "            \"InitialInstanceCount\": 1\n",
    "        }\n",
    "    ]\n",
    ")\n",
    "print(f\"Created EndpointConfig: {create_endpoint_config_response['EndpointConfigArn']}\")"
   ]
  },
  {
   "cell_type": "code",
   "execution_count": 11,
   "metadata": {
    "tags": []
   },
   "outputs": [],
   "source": [
    "response = sm_client.create_endpoint(\n",
    "    EndpointName=endpoint_name,\n",
    "    EndpointConfigName=endpoint_config_name\n",
    ")"
   ]
  },
  {
   "cell_type": "code",
   "execution_count": null,
   "metadata": {
    "collapsed": false,
    "tags": []
   },
   "outputs": [
    {
     "name": "stdout",
     "output_type": "stream",
     "text": [
      "Waiting for endpoint to create...\n"
     ]
    }
   ],
   "source": [
    "waiter = boto3.client('sagemaker').get_waiter('endpoint_in_service')\n",
    "print(\"Waiting for endpoint to create...\")\n",
    "waiter.wait(EndpointName=endpoint_name)\n",
    "resp = sm_client.describe_endpoint(EndpointName=endpoint_name)\n",
    "print(f\"Endpoint Status: {resp['EndpointStatus']}\")"
   ]
  },
  {
   "cell_type": "markdown",
   "metadata": {},
   "source": [
    "### Invoke endpoint"
   ]
  },
  {
   "cell_type": "code",
   "execution_count": 13,
   "metadata": {
    "tags": []
   },
   "outputs": [
    {
     "data": {
      "text/html": [
       "<div>\n",
       "<style scoped>\n",
       "    .dataframe tbody tr th:only-of-type {\n",
       "        vertical-align: middle;\n",
       "    }\n",
       "\n",
       "    .dataframe tbody tr th {\n",
       "        vertical-align: top;\n",
       "    }\n",
       "\n",
       "    .dataframe thead th {\n",
       "        text-align: right;\n",
       "    }\n",
       "</style>\n",
       "<table border=\"1\" class=\"dataframe\">\n",
       "  <thead>\n",
       "    <tr style=\"text-align: right;\">\n",
       "      <th></th>\n",
       "      <th>Brand</th>\n",
       "      <th>Model</th>\n",
       "      <th>Case Material</th>\n",
       "      <th>Strap Material</th>\n",
       "      <th>Movement Type</th>\n",
       "      <th>Water Resistance</th>\n",
       "      <th>Case Diameter (mm)</th>\n",
       "      <th>Case Thickness (mm)</th>\n",
       "      <th>Band Width (mm)</th>\n",
       "      <th>Dial Color</th>\n",
       "      <th>Crystal Material</th>\n",
       "      <th>Complications</th>\n",
       "      <th>Power Reserve</th>\n",
       "      <th>Price (USD)</th>\n",
       "    </tr>\n",
       "  </thead>\n",
       "  <tbody>\n",
       "    <tr>\n",
       "      <th>0</th>\n",
       "      <td>Rolex</td>\n",
       "      <td>Submariner</td>\n",
       "      <td>Stainless Steel</td>\n",
       "      <td>Stainless Steel</td>\n",
       "      <td>Automatic</td>\n",
       "      <td>300 meters</td>\n",
       "      <td>40.0</td>\n",
       "      <td>13.00</td>\n",
       "      <td>20.0</td>\n",
       "      <td>Black</td>\n",
       "      <td>Sapphire</td>\n",
       "      <td>Date</td>\n",
       "      <td>48 hours</td>\n",
       "      <td>9,500</td>\n",
       "    </tr>\n",
       "    <tr>\n",
       "      <th>1</th>\n",
       "      <td>Omega</td>\n",
       "      <td>Seamaster</td>\n",
       "      <td>Titanium</td>\n",
       "      <td>Rubber</td>\n",
       "      <td>Automatic</td>\n",
       "      <td>600 meters</td>\n",
       "      <td>43.5</td>\n",
       "      <td>14.47</td>\n",
       "      <td>21.0</td>\n",
       "      <td>Blue</td>\n",
       "      <td>Sapphire</td>\n",
       "      <td>Date</td>\n",
       "      <td>60 hours</td>\n",
       "      <td>5,800</td>\n",
       "    </tr>\n",
       "    <tr>\n",
       "      <th>2</th>\n",
       "      <td>Tag Heuer</td>\n",
       "      <td>Carrera</td>\n",
       "      <td>Stainless Steel</td>\n",
       "      <td>Leather</td>\n",
       "      <td>Automatic</td>\n",
       "      <td>100 meters</td>\n",
       "      <td>41.0</td>\n",
       "      <td>13.00</td>\n",
       "      <td>20.0</td>\n",
       "      <td>White</td>\n",
       "      <td>Sapphire</td>\n",
       "      <td>Chronograph</td>\n",
       "      <td>42 hours</td>\n",
       "      <td>4,200</td>\n",
       "    </tr>\n",
       "    <tr>\n",
       "      <th>3</th>\n",
       "      <td>Breitling</td>\n",
       "      <td>Navitimer</td>\n",
       "      <td>Stainless Steel</td>\n",
       "      <td>Stainless Steel</td>\n",
       "      <td>Automatic</td>\n",
       "      <td>30 meters</td>\n",
       "      <td>43.0</td>\n",
       "      <td>14.25</td>\n",
       "      <td>22.0</td>\n",
       "      <td>Black</td>\n",
       "      <td>Sapphire</td>\n",
       "      <td>Chronograph</td>\n",
       "      <td>70 hours</td>\n",
       "      <td>7,900</td>\n",
       "    </tr>\n",
       "    <tr>\n",
       "      <th>4</th>\n",
       "      <td>Cartier</td>\n",
       "      <td>Tank Solo</td>\n",
       "      <td>Stainless Steel</td>\n",
       "      <td>Leather</td>\n",
       "      <td>Quartz</td>\n",
       "      <td>30 meters</td>\n",
       "      <td>31.0</td>\n",
       "      <td>6.05</td>\n",
       "      <td>20.0</td>\n",
       "      <td>Silver</td>\n",
       "      <td>Sapphire</td>\n",
       "      <td>None</td>\n",
       "      <td>NaN</td>\n",
       "      <td>2,800</td>\n",
       "    </tr>\n",
       "    <tr>\n",
       "      <th>...</th>\n",
       "      <td>...</td>\n",
       "      <td>...</td>\n",
       "      <td>...</td>\n",
       "      <td>...</td>\n",
       "      <td>...</td>\n",
       "      <td>...</td>\n",
       "      <td>...</td>\n",
       "      <td>...</td>\n",
       "      <td>...</td>\n",
       "      <td>...</td>\n",
       "      <td>...</td>\n",
       "      <td>...</td>\n",
       "      <td>...</td>\n",
       "      <td>...</td>\n",
       "    </tr>\n",
       "    <tr>\n",
       "      <th>502</th>\n",
       "      <td>Breguet</td>\n",
       "      <td>Classique</td>\n",
       "      <td>18k Rose Gold</td>\n",
       "      <td>Leather</td>\n",
       "      <td>Automatic</td>\n",
       "      <td>30 meters</td>\n",
       "      <td>38.5</td>\n",
       "      <td>8.25</td>\n",
       "      <td>20.0</td>\n",
       "      <td>White</td>\n",
       "      <td>Sapphire</td>\n",
       "      <td>Date</td>\n",
       "      <td>38 hours</td>\n",
       "      <td>21,500</td>\n",
       "    </tr>\n",
       "    <tr>\n",
       "      <th>503</th>\n",
       "      <td>Blancpain</td>\n",
       "      <td>Fifty Fathoms</td>\n",
       "      <td>Stainless Steel</td>\n",
       "      <td>Fabric</td>\n",
       "      <td>Automatic</td>\n",
       "      <td>300 meters</td>\n",
       "      <td>45.0</td>\n",
       "      <td>15.50</td>\n",
       "      <td>23.0</td>\n",
       "      <td>Black</td>\n",
       "      <td>Sapphire</td>\n",
       "      <td>Date</td>\n",
       "      <td>120 hours</td>\n",
       "      <td>13,500</td>\n",
       "    </tr>\n",
       "    <tr>\n",
       "      <th>504</th>\n",
       "      <td>Longines</td>\n",
       "      <td>Master Collection</td>\n",
       "      <td>Stainless Steel</td>\n",
       "      <td>Leather</td>\n",
       "      <td>Automatic</td>\n",
       "      <td>30 meters</td>\n",
       "      <td>38.5</td>\n",
       "      <td>9.70</td>\n",
       "      <td>20.0</td>\n",
       "      <td>Blue</td>\n",
       "      <td>Sapphire</td>\n",
       "      <td>Date</td>\n",
       "      <td>64 hours</td>\n",
       "      <td>1,800</td>\n",
       "    </tr>\n",
       "    <tr>\n",
       "      <th>505</th>\n",
       "      <td>Vacheron Constantin</td>\n",
       "      <td>Overseas</td>\n",
       "      <td>Stainless Steel</td>\n",
       "      <td>Stainless Steel</td>\n",
       "      <td>Automatic</td>\n",
       "      <td>150 meters</td>\n",
       "      <td>41.5</td>\n",
       "      <td>11.00</td>\n",
       "      <td>22.0</td>\n",
       "      <td>Blue</td>\n",
       "      <td>Sapphire</td>\n",
       "      <td>Date</td>\n",
       "      <td>40 hours</td>\n",
       "      <td>19,000</td>\n",
       "    </tr>\n",
       "    <tr>\n",
       "      <th>506</th>\n",
       "      <td>Frederique Constant</td>\n",
       "      <td>Classics</td>\n",
       "      <td>Stainless Steel</td>\n",
       "      <td>Leather</td>\n",
       "      <td>Automatic</td>\n",
       "      <td>50 meters</td>\n",
       "      <td>40.0</td>\n",
       "      <td>10.60</td>\n",
       "      <td>20.0</td>\n",
       "      <td>Silver</td>\n",
       "      <td>Sapphire</td>\n",
       "      <td>Date</td>\n",
       "      <td>38 hours</td>\n",
       "      <td>1,200</td>\n",
       "    </tr>\n",
       "  </tbody>\n",
       "</table>\n",
       "<p>507 rows × 14 columns</p>\n",
       "</div>"
      ],
      "text/plain": [
       "                   Brand              Model    Case Material   Strap Material  \\\n",
       "0                  Rolex         Submariner  Stainless Steel  Stainless Steel   \n",
       "1                  Omega          Seamaster         Titanium           Rubber   \n",
       "2              Tag Heuer            Carrera  Stainless Steel          Leather   \n",
       "3              Breitling          Navitimer  Stainless Steel  Stainless Steel   \n",
       "4                Cartier          Tank Solo  Stainless Steel          Leather   \n",
       "..                   ...                ...              ...              ...   \n",
       "502              Breguet          Classique    18k Rose Gold          Leather   \n",
       "503            Blancpain      Fifty Fathoms  Stainless Steel           Fabric   \n",
       "504             Longines  Master Collection  Stainless Steel          Leather   \n",
       "505  Vacheron Constantin           Overseas  Stainless Steel  Stainless Steel   \n",
       "506  Frederique Constant           Classics  Stainless Steel          Leather   \n",
       "\n",
       "    Movement Type Water Resistance  Case Diameter (mm)  Case Thickness (mm)  \\\n",
       "0       Automatic       300 meters                40.0                13.00   \n",
       "1       Automatic       600 meters                43.5                14.47   \n",
       "2       Automatic       100 meters                41.0                13.00   \n",
       "3       Automatic        30 meters                43.0                14.25   \n",
       "4          Quartz        30 meters                31.0                 6.05   \n",
       "..            ...              ...                 ...                  ...   \n",
       "502     Automatic        30 meters                38.5                 8.25   \n",
       "503     Automatic       300 meters                45.0                15.50   \n",
       "504     Automatic        30 meters                38.5                 9.70   \n",
       "505     Automatic       150 meters                41.5                11.00   \n",
       "506     Automatic        50 meters                40.0                10.60   \n",
       "\n",
       "     Band Width (mm) Dial Color Crystal Material Complications Power Reserve  \\\n",
       "0               20.0      Black         Sapphire          Date      48 hours   \n",
       "1               21.0       Blue         Sapphire          Date      60 hours   \n",
       "2               20.0      White         Sapphire   Chronograph      42 hours   \n",
       "3               22.0      Black         Sapphire   Chronograph      70 hours   \n",
       "4               20.0     Silver         Sapphire          None           NaN   \n",
       "..               ...        ...              ...           ...           ...   \n",
       "502             20.0      White         Sapphire          Date      38 hours   \n",
       "503             23.0      Black         Sapphire          Date     120 hours   \n",
       "504             20.0       Blue         Sapphire          Date      64 hours   \n",
       "505             22.0       Blue         Sapphire          Date      40 hours   \n",
       "506             20.0     Silver         Sapphire          Date      38 hours   \n",
       "\n",
       "    Price (USD)  \n",
       "0         9,500  \n",
       "1         5,800  \n",
       "2         4,200  \n",
       "3         7,900  \n",
       "4         2,800  \n",
       "..          ...  \n",
       "502      21,500  \n",
       "503      13,500  \n",
       "504       1,800  \n",
       "505      19,000  \n",
       "506       1,200  \n",
       "\n",
       "[507 rows x 14 columns]"
      ]
     },
     "execution_count": 13,
     "metadata": {},
     "output_type": "execute_result"
    }
   ],
   "source": [
    "df = pd.read_csv(\"Luxury watch.csv\")\n",
    "df"
   ]
  },
  {
   "cell_type": "code",
   "execution_count": 14,
   "metadata": {
    "tags": []
   },
   "outputs": [],
   "source": [
    "targetcol = 'Price (USD)'\n",
    "X = df.loc[:, ~df.columns.isin([targetcol])]"
   ]
  },
  {
   "cell_type": "code",
   "execution_count": 15,
   "metadata": {
    "tags": []
   },
   "outputs": [
    {
     "data": {
      "text/plain": [
       "'{\"Brand\":\"Audemars Piguet\",\"Model\":\"Royal Oak\",\"Case Material\":\"Stainless Steel\",\"Strap Material\":\"Stainless Steel\",\"Movement Type\":\"Automatic\",\"Water Resistance\":\"50 meters\",\"Case Diameter (mm)\":41.0,\"Case Thickness (mm)\":9.8,\"Band Width (mm)\":20.0,\"Dial Color\":\"Silver\",\"Crystal Material\":\"Sapphire\",\"Complications\":\"Date\",\"Power Reserve\":\"60 hours\"}'"
      ]
     },
     "execution_count": 15,
     "metadata": {},
     "output_type": "execute_result"
    }
   ],
   "source": [
    "body = X.iloc[15].to_json()\n",
    "body"
   ]
  },
  {
   "cell_type": "code",
   "execution_count": 16,
   "metadata": {
    "tags": []
   },
   "outputs": [],
   "source": [
    "def send_request(endpoint_name, payload, sm_client):\n",
    "    response = sm_client.invoke_endpoint(EndpointName=endpoint_name, ContentType=\"application/json\", Body=payload)\n",
    "    prediction = response['Body'].read()\n",
    "    prediction = json.loads(prediction)[\"prediction\"]\n",
    "    return prediction"
   ]
  },
  {
   "cell_type": "code",
   "execution_count": 17,
   "metadata": {
    "tags": []
   },
   "outputs": [],
   "source": [
    "# # Local mode invocation\n",
    "# local_sm_client = sagemaker.local.LocalSagemakerRuntimeClient()\n",
    "# send_request(endpoint_name, body, local_sm_client)"
   ]
  },
  {
   "cell_type": "code",
   "execution_count": 18,
   "metadata": {
    "collapsed": false,
    "tags": []
   },
   "outputs": [
    {
     "data": {
      "text/plain": [
       "'22750.0'"
      ]
     },
     "execution_count": 18,
     "metadata": {},
     "output_type": "execute_result"
    }
   ],
   "source": [
    "send_request(endpoint_name, body, sm_runtime)"
   ]
  },
  {
   "cell_type": "markdown",
   "metadata": {},
   "source": [
    "### Cleanup"
   ]
  },
  {
   "cell_type": "code",
   "execution_count": 23,
   "metadata": {
    "tags": []
   },
   "outputs": [
    {
     "data": {
      "text/plain": [
       "{'ResponseMetadata': {'RequestId': '8fa5e306-6d96-485e-a9ea-e0c35aa1e121',\n",
       "  'HTTPStatusCode': 200,\n",
       "  'HTTPHeaders': {'x-amzn-requestid': '8fa5e306-6d96-485e-a9ea-e0c35aa1e121',\n",
       "   'content-type': 'application/x-amz-json-1.1',\n",
       "   'content-length': '0',\n",
       "   'date': 'Thu, 14 Dec 2023 15:22:09 GMT'},\n",
       "  'RetryAttempts': 0}}"
      ]
     },
     "execution_count": 23,
     "metadata": {},
     "output_type": "execute_result"
    }
   ],
   "source": [
    "sm_client.delete_endpoint(EndpointName=endpoint_name)\n",
    "sm_client.delete_endpoint_config(EndpointConfigName=endpoint_config_name)\n",
    "sm_client.delete_model(ModelName=model_name)"
   ]
  },
  {
   "cell_type": "code",
   "execution_count": null,
   "metadata": {},
   "outputs": [],
   "source": []
  }
 ],
 "metadata": {
  "instance_type": "ml.t3.medium",
  "kernelspec": {
   "name": "python3",
   "language": "python",
   "display_name": "Python 3 (ipykernel)"
  },
  "language_info": {
   "codemirror_mode": {
    "name": "ipython",
    "version": 3
   },
   "file_extension": ".py",
   "mimetype": "text/x-python",
   "name": "python",
   "nbconvert_exporter": "python",
   "pygments_lexer": "ipython3",
   "version": "3.10.13"
  }
 },
 "nbformat": 4,
 "nbformat_minor": 4
}
